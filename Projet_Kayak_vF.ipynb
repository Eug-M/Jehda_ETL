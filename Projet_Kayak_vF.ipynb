{
 "cells": [
  {
   "cell_type": "markdown",
   "metadata": {},
   "source": [
    "![Kayak](https://seekvectorlogo.com/wp-content/uploads/2018/01/kayak-vector-logo.png)\n",
    "\n",
    "# Plan your trip with Kayak \n",
    "\n",
    "## Company's description 📇\n",
    "\n",
    "<a href=\"https://www.kayak.com\" target=\"_blank\">Kayak</a> is a travel search engine that helps user plan their next trip at the best price.\n",
    "\n",
    "The company was founded in 2004 by Steve Hafner & Paul M. English. After a few rounds of fundraising, Kayak was acquired by <a href=\"https://www.bookingholdings.com/\" target=\"_blank\">Booking Holdings</a> which now holds: \n",
    "\n",
    "* <a href=\"https://booking.com/\" target=\"_blank\">Booking.com</a>\n",
    "* <a href=\"https://kayak.com/\" target=\"_blank\">Kayak</a>\n",
    "* <a href=\"https://www.priceline.com/\" target=\"_blank\">Priceline</a>\n",
    "* <a href=\"https://www.agoda.com/\" target=\"_blank\">Agoda</a>\n",
    "* <a href=\"https://Rentalcars.com/\" target=\"_blank\">RentalCars</a>\n",
    "* <a href=\"https://www.opentable.com/\" target=\"_blank\">OpenTable</a>\n",
    "\n",
    "With over \\$300 million revenue a year, Kayak operates in almost all countries and all languages to help their users book travels accros the globe. "
   ]
  },
  {
   "cell_type": "markdown",
   "metadata": {},
   "source": [
    "## Project 🚧\n",
    "\n",
    "The marketing team needs help on a new project. After doing some user research, the team discovered that **70% of their users who are planning a trip would like to have more information about the destination they are going to**. \n",
    "\n",
    "In addition, user research shows that **people tend to be defiant about the information they are reading if they don't know the brand** which produced the content. \n",
    "\n",
    "Therefore, Kayak Marketing Team would like to create an application that will recommend where people should plan their next holidays. The application should be based on real data about:\n",
    "\n",
    "* Weather \n",
    "* Hotels in the area \n",
    "\n",
    "The application should then be able to recommend the best destinations and hotels based on the above variables at any given time. "
   ]
  },
  {
   "cell_type": "markdown",
   "metadata": {},
   "source": [
    "## Goals 🎯\n",
    "\n",
    "As the project has just started, your team doesn't have any data that can be used to create this application. Therefore, your job will be to: \n",
    "\n",
    "* Scrape data from destinations \n",
    "* Get weather data from each destination \n",
    "* Get hotels' info about each destination\n",
    "* Store all the information above in a data lake\n",
    "* Extract, transform and load cleaned data from your datalake to a data warehouse"
   ]
  },
  {
   "cell_type": "markdown",
   "metadata": {},
   "source": [
    "## Scope of this project 🖼️\n",
    "\n",
    "Marketing team wants to focus first on the best cities to travel to in France. According <a href=\"https://one-week-in.com/35-cities-to-visit-in-france/\" target=\"_blank\">One Week In.com</a> here are the top-35 cities to visit in France: \n",
    "\n",
    "```python \n",
    "[\"Mont Saint Michel\",\n",
    "\"St Malo\",\n",
    "\"Bayeux\",\n",
    "\"Le Havre\",\n",
    "\"Rouen\",\n",
    "\"Paris\",\n",
    "\"Amiens\",\n",
    "\"Lille\",\n",
    "\"Strasbourg\",\n",
    "\"Chateau du Haut Koenigsbourg\",\n",
    "\"Colmar\",\n",
    "\"Eguisheim\",\n",
    "\"Besancon\",\n",
    "\"Dijon\",\n",
    "\"Annecy\",\n",
    "\"Grenoble\",\n",
    "\"Lyon\",\n",
    "\"Gorges du Verdon\",\n",
    "\"Bormes les Mimosas\",\n",
    "\"Cassis\",\n",
    "\"Marseille\",\n",
    "\"Aix en Provence\",\n",
    "\"Avignon\",\n",
    "\"Uzes\",\n",
    "\"Nimes\",\n",
    "\"Aigues Mortes\",\n",
    "\"Saintes Maries de la mer\",\n",
    "\"Collioure\",\n",
    "\"Carcassonne\",\n",
    "\"Ariege\",\n",
    "\"Toulouse\",\n",
    "\"Montauban\",\n",
    "\"Biarritz\",\n",
    "\"Bayonne\",\n",
    "\"La Rochelle\"]\n",
    "```\n",
    "\n",
    "Your team should focus **only on the above cities for your project**. \n"
   ]
  },
  {
   "cell_type": "markdown",
   "metadata": {},
   "source": [
    "## Helpers 🦮\n",
    "\n",
    "To help you achieve this project, here are a few tips that should help you\n",
    "\n",
    "### Get weather data with an API \n",
    "\n",
    "*   Use https://nominatim.org/ to get the gps coordinates of all the cities (no subscription required) Documentation : https://nominatim.org/release-docs/develop/api/Search/\n",
    "\n",
    "*   Use https://openweathermap.org/appid (you have to subscribe to get a free apikey) and https://openweathermap.org/api/one-call-api to get some information about the weather for the 35 cities and put it in a DataFrame\n",
    "\n",
    "*   Determine the list of cities where the weather will be the nicest within the next 7 days For example, you can use the values of daily.pop and daily.rain to compute the expected volume of rain within the next 7 days... But it's only an example, actually you can have different opinions on a what a nice weather would be like 😎 Maybe the most important criterion for you is the temperature or humidity, so feel free to change the rules !\n",
    "\n",
    "*   Save all the results in a `.csv` file, you will use it later 😉 You can save all the informations that seem important to you ! Don't forget to save the name of the cities, and also to create a column containing a unique identifier (id) of each city (this is important for what's next in the project)\n",
    "\n",
    "*   Use plotly to display the best destinations on a map\n",
    "\n",
    "### Scrape Booking.com \n",
    "\n",
    "Since BookingHoldings doesn't have aggregated databases, it will be much faster to scrape data directly from booking.com \n",
    "\n",
    "You can scrap as many information asyou want, but we suggest that you get at least:\n",
    "\n",
    "*   hotel name,\n",
    "*   Url to its booking.com page,\n",
    "*   Its coordinates: latitude and longitude\n",
    "*   Score given by the website users\n",
    "*   Text description of the hotel\n",
    "\n",
    "\n",
    "### Create your data lake using S3 \n",
    "\n",
    "Once you managed to build your dataset, you should store into S3 as a csv file. \n",
    "\n",
    "### ETL \n",
    "\n",
    "Once you uploaded your data onto S3, it will be better for the next data analysis team to extract clean data directly from a Data Warehouse. Therefore, create a SQL Database using AWS RDS, extract your data from S3 and store it in your newly created DB. "
   ]
  },
  {
   "cell_type": "markdown",
   "metadata": {},
   "source": [
    "## Deliverable 📬\n",
    "\n",
    "To complete this project, your team should deliver:\n",
    "\n",
    "* A `.csv` file in an S3 bucket containing enriched information about weather and hotels for each french city\n",
    "\n",
    "* A SQL Database where we should be able to get the same cleaned data from S3 \n",
    "\n",
    "* Two maps where you should have a Top-5 destinations and a Top-20 hotels in the area. You can use plotly or any other library to do so. It should look something like this: \n",
    "\n",
    "![Map](https://full-stack-assets.s3.eu-west-3.amazonaws.com/images/Kayak_best_destination_project.png)"
   ]
  },
  {
   "cell_type": "code",
   "execution_count": 1,
   "metadata": {},
   "outputs": [],
   "source": [
    "import os\n",
    "import json\n",
    "import pandas as pd\n",
    "import requests\n",
    "import plotly.express as px\n",
    "import plotly.graph_objects as go\n",
    "from plotly.subplots import make_subplots\n",
    "from datetime import datetime, UTC\n",
    "import boto3\n",
    "import psycopg2\n",
    "from sqlalchemy.ext.declarative import declarative_base\n",
    "from sqlalchemy import create_engine, text"
   ]
  },
  {
   "cell_type": "code",
   "execution_count": 2,
   "metadata": {},
   "outputs": [],
   "source": [
    "top_35_France = [\"Mont Saint Michel\",\n",
    "\"St Malo\",\n",
    "\"Bayeux\",\n",
    "\"Le Havre\",\n",
    "\"Rouen\",\n",
    "\"Paris\",\n",
    "\"Amiens\",\n",
    "\"Lille\",\n",
    "\"Strasbourg\",\n",
    "\"Chateau du Haut Koenigsbourg\",\n",
    "\"Colmar\",\n",
    "\"Eguisheim\",\n",
    "\"Besancon\",\n",
    "\"Dijon\",\n",
    "\"Annecy\",\n",
    "\"Grenoble\",\n",
    "\"Lyon\",\n",
    "\"Gorges du Verdon\",\n",
    "\"Bormes les Mimosas\",\n",
    "\"Cassis\",\n",
    "\"Marseille\",\n",
    "\"Aix en Provence\",\n",
    "\"Avignon\",\n",
    "\"Uzes\",\n",
    "\"Nimes\",\n",
    "\"Aigues Mortes\",\n",
    "\"Saintes Maries de la mer\",\n",
    "\"Collioure\",\n",
    "\"Carcassonne\",\n",
    "\"Ariege\",\n",
    "\"Toulouse\",\n",
    "\"Montauban\",\n",
    "\"Biarritz\",\n",
    "\"Bayonne\",\n",
    "\"La Rochelle\"]"
   ]
  },
  {
   "cell_type": "markdown",
   "metadata": {},
   "source": [
    "# Get weather data with an API "
   ]
  },
  {
   "cell_type": "markdown",
   "metadata": {},
   "source": [
    "## API localisation with nominatim.org"
   ]
  },
  {
   "cell_type": "code",
   "execution_count": 7,
   "metadata": {},
   "outputs": [
    {
     "data": {
      "text/html": [
       "<div>\n",
       "<style scoped>\n",
       "    .dataframe tbody tr th:only-of-type {\n",
       "        vertical-align: middle;\n",
       "    }\n",
       "\n",
       "    .dataframe tbody tr th {\n",
       "        vertical-align: top;\n",
       "    }\n",
       "\n",
       "    .dataframe thead th {\n",
       "        text-align: right;\n",
       "    }\n",
       "</style>\n",
       "<table border=\"1\" class=\"dataframe\">\n",
       "  <thead>\n",
       "    <tr style=\"text-align: right;\">\n",
       "      <th></th>\n",
       "      <th>city_name</th>\n",
       "      <th>city_id</th>\n",
       "      <th>latitude</th>\n",
       "      <th>longitude</th>\n",
       "    </tr>\n",
       "  </thead>\n",
       "  <tbody>\n",
       "    <tr>\n",
       "      <th>0</th>\n",
       "      <td>Mont Saint Michel</td>\n",
       "      <td>1</td>\n",
       "      <td>48.6359541</td>\n",
       "      <td>-1.511459954959514</td>\n",
       "    </tr>\n",
       "    <tr>\n",
       "      <th>1</th>\n",
       "      <td>St Malo</td>\n",
       "      <td>2</td>\n",
       "      <td>49.314695</td>\n",
       "      <td>-96.9538228</td>\n",
       "    </tr>\n",
       "    <tr>\n",
       "      <th>2</th>\n",
       "      <td>Bayeux</td>\n",
       "      <td>3</td>\n",
       "      <td>49.2764624</td>\n",
       "      <td>-0.7024738</td>\n",
       "    </tr>\n",
       "    <tr>\n",
       "      <th>3</th>\n",
       "      <td>Le Havre</td>\n",
       "      <td>4</td>\n",
       "      <td>49.4938975</td>\n",
       "      <td>0.1079732</td>\n",
       "    </tr>\n",
       "    <tr>\n",
       "      <th>4</th>\n",
       "      <td>Rouen</td>\n",
       "      <td>5</td>\n",
       "      <td>49.4404591</td>\n",
       "      <td>1.0939658</td>\n",
       "    </tr>\n",
       "  </tbody>\n",
       "</table>\n",
       "</div>"
      ],
      "text/plain": [
       "           city_name  city_id    latitude           longitude\n",
       "0  Mont Saint Michel        1  48.6359541  -1.511459954959514\n",
       "1            St Malo        2   49.314695         -96.9538228\n",
       "2             Bayeux        3  49.2764624          -0.7024738\n",
       "3           Le Havre        4  49.4938975           0.1079732\n",
       "4              Rouen        5  49.4404591           1.0939658"
      ]
     },
     "execution_count": 7,
     "metadata": {},
     "output_type": "execute_result"
    }
   ],
   "source": [
    "Info_Cities = pd.DataFrame(columns = ['city_name', 'city_id', 'latitude', 'longitude'])\n",
    "\n",
    "header = {'User-Agent': 'Formation'}\n",
    "for i in range(len(top_35_France)):\n",
    "    payload = {'q': top_35_France[i], 'format': 'json'}\n",
    "    r = requests.get(url=\"https://nominatim.openstreetmap.org/search?\", params = payload, headers=header)\n",
    "    Info_Cities.loc[i] = [top_35_France[i], i+1, r.json()[0]['lat'], r.json()[0]['lon']]\n",
    "Info_Cities.head()"
   ]
  },
  {
   "cell_type": "code",
   "execution_count": 8,
   "metadata": {},
   "outputs": [
    {
     "name": "stdout",
     "output_type": "stream",
     "text": [
      "(35, 4)\n"
     ]
    }
   ],
   "source": [
    "print(Info_Cities.shape)\n",
    "# Sauvegarde dans un fichier json\n",
    "Info_Cities.to_json('src/35Cities_Info.json')"
   ]
  },
  {
   "cell_type": "markdown",
   "metadata": {},
   "source": [
    "## Weather predictions (7 days) from openweathermap.org"
   ]
  },
  {
   "cell_type": "code",
   "execution_count": 9,
   "metadata": {},
   "outputs": [
    {
     "data": {
      "text/html": [
       "<div>\n",
       "<style scoped>\n",
       "    .dataframe tbody tr th:only-of-type {\n",
       "        vertical-align: middle;\n",
       "    }\n",
       "\n",
       "    .dataframe tbody tr th {\n",
       "        vertical-align: top;\n",
       "    }\n",
       "\n",
       "    .dataframe thead th {\n",
       "        text-align: right;\n",
       "    }\n",
       "</style>\n",
       "<table border=\"1\" class=\"dataframe\">\n",
       "  <thead>\n",
       "    <tr style=\"text-align: right;\">\n",
       "      <th></th>\n",
       "      <th>city_name</th>\n",
       "      <th>city_id</th>\n",
       "      <th>date</th>\n",
       "      <th>temp</th>\n",
       "      <th>humidity</th>\n",
       "      <th>wind</th>\n",
       "      <th>type_weather</th>\n",
       "    </tr>\n",
       "  </thead>\n",
       "  <tbody>\n",
       "    <tr>\n",
       "      <th>0</th>\n",
       "      <td>Mont Saint Michel</td>\n",
       "      <td>1</td>\n",
       "      <td>2025-03-28</td>\n",
       "      <td>9.74</td>\n",
       "      <td>89</td>\n",
       "      <td>316</td>\n",
       "      <td>Rain</td>\n",
       "    </tr>\n",
       "    <tr>\n",
       "      <th>1</th>\n",
       "      <td>Mont Saint Michel</td>\n",
       "      <td>1</td>\n",
       "      <td>2025-03-29</td>\n",
       "      <td>10.61</td>\n",
       "      <td>66</td>\n",
       "      <td>334</td>\n",
       "      <td>Clouds</td>\n",
       "    </tr>\n",
       "    <tr>\n",
       "      <th>2</th>\n",
       "      <td>Mont Saint Michel</td>\n",
       "      <td>1</td>\n",
       "      <td>2025-03-30</td>\n",
       "      <td>13.45</td>\n",
       "      <td>78</td>\n",
       "      <td>315</td>\n",
       "      <td>Rain</td>\n",
       "    </tr>\n",
       "    <tr>\n",
       "      <th>3</th>\n",
       "      <td>Mont Saint Michel</td>\n",
       "      <td>1</td>\n",
       "      <td>2025-03-31</td>\n",
       "      <td>15.61</td>\n",
       "      <td>58</td>\n",
       "      <td>76</td>\n",
       "      <td>Clear</td>\n",
       "    </tr>\n",
       "    <tr>\n",
       "      <th>4</th>\n",
       "      <td>Mont Saint Michel</td>\n",
       "      <td>1</td>\n",
       "      <td>2025-04-01</td>\n",
       "      <td>14.23</td>\n",
       "      <td>52</td>\n",
       "      <td>94</td>\n",
       "      <td>Clear</td>\n",
       "    </tr>\n",
       "    <tr>\n",
       "      <th>...</th>\n",
       "      <td>...</td>\n",
       "      <td>...</td>\n",
       "      <td>...</td>\n",
       "      <td>...</td>\n",
       "      <td>...</td>\n",
       "      <td>...</td>\n",
       "      <td>...</td>\n",
       "    </tr>\n",
       "    <tr>\n",
       "      <th>275</th>\n",
       "      <td>La Rochelle</td>\n",
       "      <td>35</td>\n",
       "      <td>2025-03-31</td>\n",
       "      <td>14.26</td>\n",
       "      <td>62</td>\n",
       "      <td>72</td>\n",
       "      <td>Clear</td>\n",
       "    </tr>\n",
       "    <tr>\n",
       "      <th>276</th>\n",
       "      <td>La Rochelle</td>\n",
       "      <td>35</td>\n",
       "      <td>2025-04-01</td>\n",
       "      <td>13.89</td>\n",
       "      <td>58</td>\n",
       "      <td>75</td>\n",
       "      <td>Clear</td>\n",
       "    </tr>\n",
       "    <tr>\n",
       "      <th>277</th>\n",
       "      <td>La Rochelle</td>\n",
       "      <td>35</td>\n",
       "      <td>2025-04-02</td>\n",
       "      <td>14.37</td>\n",
       "      <td>55</td>\n",
       "      <td>83</td>\n",
       "      <td>Rain</td>\n",
       "    </tr>\n",
       "    <tr>\n",
       "      <th>278</th>\n",
       "      <td>La Rochelle</td>\n",
       "      <td>35</td>\n",
       "      <td>2025-04-03</td>\n",
       "      <td>15.73</td>\n",
       "      <td>70</td>\n",
       "      <td>135</td>\n",
       "      <td>Rain</td>\n",
       "    </tr>\n",
       "    <tr>\n",
       "      <th>279</th>\n",
       "      <td>La Rochelle</td>\n",
       "      <td>35</td>\n",
       "      <td>2025-04-04</td>\n",
       "      <td>15.73</td>\n",
       "      <td>66</td>\n",
       "      <td>126</td>\n",
       "      <td>Clouds</td>\n",
       "    </tr>\n",
       "  </tbody>\n",
       "</table>\n",
       "<p>280 rows × 7 columns</p>\n",
       "</div>"
      ],
      "text/plain": [
       "             city_name city_id        date   temp humidity wind type_weather\n",
       "0    Mont Saint Michel       1  2025-03-28   9.74       89  316         Rain\n",
       "1    Mont Saint Michel       1  2025-03-29  10.61       66  334       Clouds\n",
       "2    Mont Saint Michel       1  2025-03-30  13.45       78  315         Rain\n",
       "3    Mont Saint Michel       1  2025-03-31  15.61       58   76        Clear\n",
       "4    Mont Saint Michel       1  2025-04-01  14.23       52   94        Clear\n",
       "..                 ...     ...         ...    ...      ...  ...          ...\n",
       "275        La Rochelle      35  2025-03-31  14.26       62   72        Clear\n",
       "276        La Rochelle      35  2025-04-01  13.89       58   75        Clear\n",
       "277        La Rochelle      35  2025-04-02  14.37       55   83         Rain\n",
       "278        La Rochelle      35  2025-04-03  15.73       70  135         Rain\n",
       "279        La Rochelle      35  2025-04-04  15.73       66  126       Clouds\n",
       "\n",
       "[280 rows x 7 columns]"
      ]
     },
     "execution_count": 9,
     "metadata": {},
     "output_type": "execute_result"
    }
   ],
   "source": [
    "Weather_Cities = pd.DataFrame()\n",
    "\n",
    "from keys import WEATHER_KEY\n",
    "\n",
    "for id_ville in range(len(top_35_France)):\n",
    "    city_name = top_35_France[id_ville]\n",
    "    city_id = id_ville+1\n",
    "    payload = {'lat': Info_Cities.loc[id_ville,\"latitude\"], \n",
    "           'lon': Info_Cities.loc[id_ville,\"longitude\"], \n",
    "           'appid': WEATHER_KEY,\n",
    "           'units': \"metric\",\n",
    "            'exclude': 'current,minutely,hourly,alerts' \n",
    "           }\n",
    "    r = requests.get(url=\"https://api.openweathermap.org/data/3.0/onecall\", params = payload)\n",
    "    dict_weather = r.json()\n",
    "    for i in range(len(dict_weather['daily'])):\n",
    "        date = datetime.fromtimestamp(dict_weather['daily'][i]['dt'], UTC).strftime('%Y-%m-%d')\n",
    "        temp = dict_weather['daily'][i]['temp']['day'] \n",
    "        humidity = dict_weather['daily'][i]['humidity'] \n",
    "        wind = dict_weather['daily'][i]['wind_deg'] \n",
    "        type_weather = dict_weather['daily'][i]['weather'][0]['main'] \n",
    "        Weather_Cities = pd.concat([Weather_Cities, pd.DataFrame([city_name, city_id, date, temp, \n",
    "                                                                  humidity, wind, type_weather]).T], \n",
    "                                                                  ignore_index=True)\n",
    "Weather_Cities.columns = ['city_name', 'city_id', 'date', 'temp', 'humidity', 'wind', 'type_weather']\n",
    "Weather_Cities"
   ]
  },
  {
   "cell_type": "code",
   "execution_count": 10,
   "metadata": {},
   "outputs": [],
   "source": [
    "# Sauvegarde dans un fichier json\n",
    "\n",
    "Weather_Cities.to_json('src/35Cities_Weather.json')"
   ]
  },
  {
   "cell_type": "markdown",
   "metadata": {},
   "source": [
    "# Scrape Booking.com "
   ]
  },
  {
   "cell_type": "code",
   "execution_count": 118,
   "metadata": {},
   "outputs": [],
   "source": [
    "# Lancer le scraping pour chacune des 35 villes\n",
    "\n",
    "for ville in top_35_France:\n",
    "    os.system(f\"python Scraping/Booking.py \\\"{ville}\\\"\")"
   ]
  },
  {
   "cell_type": "code",
   "execution_count": 69,
   "metadata": {},
   "outputs": [],
   "source": [
    "# Créer un fichier csv unique concaténant les données weather et hotels \n",
    "\n",
    "df_weather = pd.read_json(\"src/35Cities_Weather.json\").set_index('city_id')\n",
    "liste_hotels = []\n",
    "for i in range(len(top_35_France)):\n",
    "    df_hotel = pd.read_json(\"src/result_booking_\"+str(top_35_France[i])+\".json\")\n",
    "    df_hotel['city_id'] = [i+1 for j in df_hotel.index]\n",
    "    df_hotel['hotel_id'] = [j+1 for j in df_hotel.index]\n",
    "    liste_hotels.append(df_hotel)\n",
    "\n",
    "df_hotels = pd.merge(liste_hotels[0], liste_hotels[1], how='outer')\n",
    "for i in range(len(liste_hotels)-2):\n",
    "    df_hotels = pd.merge(df_hotels, liste_hotels[i+2], how='outer')\n",
    "\n",
    "df_concat = pd.merge(df_weather, df_hotels, on='city_id', how='left')\n",
    "df_concat.to_json('src/35Cities_Weather_Hotels.json')"
   ]
  },
  {
   "cell_type": "code",
   "execution_count": 70,
   "metadata": {},
   "outputs": [
    {
     "data": {
      "text/plain": [
       "(6128, 14)"
      ]
     },
     "execution_count": 70,
     "metadata": {},
     "output_type": "execute_result"
    }
   ],
   "source": [
    "df_concat.shape\n",
    "# 8 jours * 766 hôtels : OK"
   ]
  },
  {
   "cell_type": "markdown",
   "metadata": {},
   "source": [
    "# Create your data lake using S3 "
   ]
  },
  {
   "cell_type": "code",
   "execution_count": 2,
   "metadata": {},
   "outputs": [],
   "source": [
    "from keys import AWS_ACCESS_KEY_ID, AWS_SECRET_ACCESS_KEY\n",
    "\n",
    "session = boto3.Session(aws_access_key_id=AWS_ACCESS_KEY_ID, aws_secret_access_key=AWS_SECRET_ACCESS_KEY)\n",
    "s3 = session.resource('s3')\n",
    "CreateBucketConfiguration={\n",
    "    'LocationConstraint': 'eu-west-3',\n",
    "}\n",
    "bucket = s3.create_bucket(Bucket=\"eugenie-s3-jedha-project-kayak\")\n",
    "bucket.upload_file('./src/35Cities_Weather_Hotels.json', '35Cities')"
   ]
  },
  {
   "cell_type": "markdown",
   "metadata": {},
   "source": [
    "# Figures"
   ]
  },
  {
   "cell_type": "markdown",
   "metadata": {},
   "source": [
    "## Map of top-5 destinations according to the weather"
   ]
  },
  {
   "cell_type": "code",
   "execution_count": null,
   "metadata": {},
   "outputs": [
    {
     "data": {
      "text/html": [
       "<div>\n",
       "<style scoped>\n",
       "    .dataframe tbody tr th:only-of-type {\n",
       "        vertical-align: middle;\n",
       "    }\n",
       "\n",
       "    .dataframe tbody tr th {\n",
       "        vertical-align: top;\n",
       "    }\n",
       "\n",
       "    .dataframe thead th {\n",
       "        text-align: right;\n",
       "    }\n",
       "</style>\n",
       "<table border=\"1\" class=\"dataframe\">\n",
       "  <thead>\n",
       "    <tr style=\"text-align: right;\">\n",
       "      <th></th>\n",
       "      <th>city_id</th>\n",
       "      <th>city_name</th>\n",
       "      <th>date</th>\n",
       "      <th>temp</th>\n",
       "      <th>humidity</th>\n",
       "      <th>wind</th>\n",
       "      <th>type_weather</th>\n",
       "      <th>name</th>\n",
       "      <th>latitude</th>\n",
       "      <th>longitude</th>\n",
       "      <th>score</th>\n",
       "      <th>url</th>\n",
       "      <th>description</th>\n",
       "      <th>hotel_id</th>\n",
       "    </tr>\n",
       "  </thead>\n",
       "  <tbody>\n",
       "    <tr>\n",
       "      <th>0</th>\n",
       "      <td>1</td>\n",
       "      <td>Mont Saint Michel</td>\n",
       "      <td>2025-03-28</td>\n",
       "      <td>9.74</td>\n",
       "      <td>89</td>\n",
       "      <td>316</td>\n",
       "      <td>Rain</td>\n",
       "      <td>Apparthôtel Mont Saint Michel - Résidence Fleu...</td>\n",
       "      <td>48.596482</td>\n",
       "      <td>-1.503147</td>\n",
       "      <td>8.2</td>\n",
       "      <td>https://www.booking.com/hotel/fr/residence-fle...</td>\n",
       "      <td>L’Apparthôtel Mont Saint Michel - Résidence Fl...</td>\n",
       "      <td>4</td>\n",
       "    </tr>\n",
       "    <tr>\n",
       "      <th>1</th>\n",
       "      <td>1</td>\n",
       "      <td>Mont Saint Michel</td>\n",
       "      <td>2025-03-28</td>\n",
       "      <td>9.74</td>\n",
       "      <td>89</td>\n",
       "      <td>316</td>\n",
       "      <td>Rain</td>\n",
       "      <td>Auberge Saint Pierre</td>\n",
       "      <td>48.635688</td>\n",
       "      <td>-1.509883</td>\n",
       "      <td>8.1</td>\n",
       "      <td>https://www.booking.com/hotel/fr/auberge-saint...</td>\n",
       "      <td>The Auberge Saint Pierre is made up of small 1...</td>\n",
       "      <td>11</td>\n",
       "    </tr>\n",
       "    <tr>\n",
       "      <th>2</th>\n",
       "      <td>1</td>\n",
       "      <td>Mont Saint Michel</td>\n",
       "      <td>2025-03-28</td>\n",
       "      <td>9.74</td>\n",
       "      <td>89</td>\n",
       "      <td>316</td>\n",
       "      <td>Rain</td>\n",
       "      <td>Chez Adèle</td>\n",
       "      <td>48.636166</td>\n",
       "      <td>-1.510476</td>\n",
       "      <td>8.3</td>\n",
       "      <td>https://www.booking.com/hotel/fr/chez-adele-le...</td>\n",
       "      <td>Doté d&amp;#x27;installations de sports nautiques,...</td>\n",
       "      <td>12</td>\n",
       "    </tr>\n",
       "    <tr>\n",
       "      <th>3</th>\n",
       "      <td>1</td>\n",
       "      <td>Mont Saint Michel</td>\n",
       "      <td>2025-03-28</td>\n",
       "      <td>9.74</td>\n",
       "      <td>89</td>\n",
       "      <td>316</td>\n",
       "      <td>Rain</td>\n",
       "      <td>Gites Bellevue</td>\n",
       "      <td>48.607880</td>\n",
       "      <td>-1.517224</td>\n",
       "      <td>9.2</td>\n",
       "      <td>https://www.booking.com/hotel/fr/gites-bellevu...</td>\n",
       "      <td>Situé à seulement 2 km du célèbre Mont-Saint-M...</td>\n",
       "      <td>14</td>\n",
       "    </tr>\n",
       "    <tr>\n",
       "      <th>4</th>\n",
       "      <td>1</td>\n",
       "      <td>Mont Saint Michel</td>\n",
       "      <td>2025-03-28</td>\n",
       "      <td>9.74</td>\n",
       "      <td>89</td>\n",
       "      <td>316</td>\n",
       "      <td>Rain</td>\n",
       "      <td>Gites les 2 Clos au pied du Mont</td>\n",
       "      <td>48.613966</td>\n",
       "      <td>-1.485792</td>\n",
       "      <td>9.1</td>\n",
       "      <td>https://www.booking.com/hotel/fr/les-deux-clos...</td>\n",
       "      <td>L&amp;#x27;établissement Gites les 2 Clos au pied ...</td>\n",
       "      <td>6</td>\n",
       "    </tr>\n",
       "  </tbody>\n",
       "</table>\n",
       "</div>"
      ],
      "text/plain": [
       "   city_id          city_name       date  temp  humidity  wind type_weather  \\\n",
       "0        1  Mont Saint Michel 2025-03-28  9.74        89   316         Rain   \n",
       "1        1  Mont Saint Michel 2025-03-28  9.74        89   316         Rain   \n",
       "2        1  Mont Saint Michel 2025-03-28  9.74        89   316         Rain   \n",
       "3        1  Mont Saint Michel 2025-03-28  9.74        89   316         Rain   \n",
       "4        1  Mont Saint Michel 2025-03-28  9.74        89   316         Rain   \n",
       "\n",
       "                                                name   latitude  longitude  \\\n",
       "0  Apparthôtel Mont Saint Michel - Résidence Fleu...  48.596482  -1.503147   \n",
       "1                               Auberge Saint Pierre  48.635688  -1.509883   \n",
       "2                                         Chez Adèle  48.636166  -1.510476   \n",
       "3                                     Gites Bellevue  48.607880  -1.517224   \n",
       "4                   Gites les 2 Clos au pied du Mont  48.613966  -1.485792   \n",
       "\n",
       "   score                                                url  \\\n",
       "0    8.2  https://www.booking.com/hotel/fr/residence-fle...   \n",
       "1    8.1  https://www.booking.com/hotel/fr/auberge-saint...   \n",
       "2    8.3  https://www.booking.com/hotel/fr/chez-adele-le...   \n",
       "3    9.2  https://www.booking.com/hotel/fr/gites-bellevu...   \n",
       "4    9.1  https://www.booking.com/hotel/fr/les-deux-clos...   \n",
       "\n",
       "                                         description  hotel_id  \n",
       "0  L’Apparthôtel Mont Saint Michel - Résidence Fl...         4  \n",
       "1  The Auberge Saint Pierre is made up of small 1...        11  \n",
       "2  Doté d&#x27;installations de sports nautiques,...        12  \n",
       "3  Situé à seulement 2 km du célèbre Mont-Saint-M...        14  \n",
       "4  L&#x27;établissement Gites les 2 Clos au pied ...         6  "
      ]
     },
     "metadata": {},
     "output_type": "display_data"
    }
   ],
   "source": [
    "df = pd.read_json(\"https://eugenie-s3-jedha-project-kayak.s3.us-east-1.amazonaws.com/35Cities\")\n",
    "df.head()"
   ]
  },
  {
   "cell_type": "code",
   "execution_count": null,
   "metadata": {},
   "outputs": [
    {
     "data": {
      "text/html": [
       "<div>\n",
       "<style scoped>\n",
       "    .dataframe tbody tr th:only-of-type {\n",
       "        vertical-align: middle;\n",
       "    }\n",
       "\n",
       "    .dataframe tbody tr th {\n",
       "        vertical-align: top;\n",
       "    }\n",
       "\n",
       "    .dataframe thead th {\n",
       "        text-align: right;\n",
       "    }\n",
       "</style>\n",
       "<table border=\"1\" class=\"dataframe\">\n",
       "  <thead>\n",
       "    <tr style=\"text-align: right;\">\n",
       "      <th></th>\n",
       "      <th>city_id</th>\n",
       "      <th>city_name</th>\n",
       "      <th>date</th>\n",
       "      <th>temp</th>\n",
       "      <th>humidity</th>\n",
       "      <th>wind</th>\n",
       "      <th>type_weather</th>\n",
       "      <th>name</th>\n",
       "      <th>latitude</th>\n",
       "      <th>longitude</th>\n",
       "      <th>score</th>\n",
       "      <th>url</th>\n",
       "      <th>description</th>\n",
       "      <th>hotel_id</th>\n",
       "    </tr>\n",
       "  </thead>\n",
       "  <tbody>\n",
       "    <tr>\n",
       "      <th>152</th>\n",
       "      <td>1</td>\n",
       "      <td>Mont Saint Michel</td>\n",
       "      <td>2025-04-04</td>\n",
       "      <td>17.87</td>\n",
       "      <td>60</td>\n",
       "      <td>144</td>\n",
       "      <td>Clouds</td>\n",
       "      <td>Les Terrasses Poulard</td>\n",
       "      <td>48.635349</td>\n",
       "      <td>-1.510379</td>\n",
       "      <td>7.4</td>\n",
       "      <td>https://www.booking.com/hotel/fr/les-terrasses...</td>\n",
       "      <td>Occupant 2 bâtiments différents au cœur du Mon...</td>\n",
       "      <td>1</td>\n",
       "    </tr>\n",
       "    <tr>\n",
       "      <th>351</th>\n",
       "      <td>2</td>\n",
       "      <td>St Malo</td>\n",
       "      <td>2025-04-04</td>\n",
       "      <td>1.27</td>\n",
       "      <td>99</td>\n",
       "      <td>177</td>\n",
       "      <td>Snow</td>\n",
       "      <td>Malouinière Guillaume Onffroy</td>\n",
       "      <td>48.632509</td>\n",
       "      <td>-1.986458</td>\n",
       "      <td>9.5</td>\n",
       "      <td>https://www.booking.com/hotel/fr/malouiniere-g...</td>\n",
       "      <td>Situé à Saint-Malo, à seulement 2,4 km de la p...</td>\n",
       "      <td>1</td>\n",
       "    </tr>\n",
       "    <tr>\n",
       "      <th>509</th>\n",
       "      <td>3</td>\n",
       "      <td>Bayeux</td>\n",
       "      <td>2025-04-04</td>\n",
       "      <td>18.27</td>\n",
       "      <td>62</td>\n",
       "      <td>125</td>\n",
       "      <td>Clouds</td>\n",
       "      <td>B&amp;amp;B Nathalie</td>\n",
       "      <td>49.276465</td>\n",
       "      <td>-0.706367</td>\n",
       "      <td>9.5</td>\n",
       "      <td>https://www.booking.com/hotel/fr/imagine-bayeu...</td>\n",
       "      <td>Doté d&amp;#x27;une terrasse et d&amp;#x27;un salon co...</td>\n",
       "      <td>1</td>\n",
       "    </tr>\n",
       "    <tr>\n",
       "      <th>679</th>\n",
       "      <td>4</td>\n",
       "      <td>Le Havre</td>\n",
       "      <td>2025-04-04</td>\n",
       "      <td>16.58</td>\n",
       "      <td>64</td>\n",
       "      <td>127</td>\n",
       "      <td>Clouds</td>\n",
       "      <td>Hilton Garden Inn Le Havre Centre</td>\n",
       "      <td>49.490087</td>\n",
       "      <td>0.097747</td>\n",
       "      <td>8.7</td>\n",
       "      <td>https://www.booking.com/hotel/fr/hilton-garden...</td>\n",
       "      <td>Le Hilton Garden Inn Le Havre Centre est situé...</td>\n",
       "      <td>1</td>\n",
       "    </tr>\n",
       "    <tr>\n",
       "      <th>882</th>\n",
       "      <td>5</td>\n",
       "      <td>Rouen</td>\n",
       "      <td>2025-04-04</td>\n",
       "      <td>20.12</td>\n",
       "      <td>53</td>\n",
       "      <td>122</td>\n",
       "      <td>Clear</td>\n",
       "      <td>Studio N1 hypercentre Rue Saint Nicolas</td>\n",
       "      <td>49.440823</td>\n",
       "      <td>1.097391</td>\n",
       "      <td>8.5</td>\n",
       "      <td>https://www.booking.com/hotel/fr/studio-hyperc...</td>\n",
       "      <td>Le Studio N1 hypercentre Rue Saint Nicolas pro...</td>\n",
       "      <td>1</td>\n",
       "    </tr>\n",
       "  </tbody>\n",
       "</table>\n",
       "</div>"
      ],
      "text/plain": [
       "     city_id          city_name       date   temp  humidity  wind  \\\n",
       "152        1  Mont Saint Michel 2025-04-04  17.87        60   144   \n",
       "351        2            St Malo 2025-04-04   1.27        99   177   \n",
       "509        3             Bayeux 2025-04-04  18.27        62   125   \n",
       "679        4           Le Havre 2025-04-04  16.58        64   127   \n",
       "882        5              Rouen 2025-04-04  20.12        53   122   \n",
       "\n",
       "    type_weather                                     name   latitude  \\\n",
       "152       Clouds                    Les Terrasses Poulard  48.635349   \n",
       "351         Snow            Malouinière Guillaume Onffroy  48.632509   \n",
       "509       Clouds                         B&amp;B Nathalie  49.276465   \n",
       "679       Clouds        Hilton Garden Inn Le Havre Centre  49.490087   \n",
       "882        Clear  Studio N1 hypercentre Rue Saint Nicolas  49.440823   \n",
       "\n",
       "     longitude  score                                                url  \\\n",
       "152  -1.510379    7.4  https://www.booking.com/hotel/fr/les-terrasses...   \n",
       "351  -1.986458    9.5  https://www.booking.com/hotel/fr/malouiniere-g...   \n",
       "509  -0.706367    9.5  https://www.booking.com/hotel/fr/imagine-bayeu...   \n",
       "679   0.097747    8.7  https://www.booking.com/hotel/fr/hilton-garden...   \n",
       "882   1.097391    8.5  https://www.booking.com/hotel/fr/studio-hyperc...   \n",
       "\n",
       "                                           description  hotel_id  \n",
       "152  Occupant 2 bâtiments différents au cœur du Mon...         1  \n",
       "351  Situé à Saint-Malo, à seulement 2,4 km de la p...         1  \n",
       "509  Doté d&#x27;une terrasse et d&#x27;un salon co...         1  \n",
       "679  Le Hilton Garden Inn Le Havre Centre est situé...         1  \n",
       "882  Le Studio N1 hypercentre Rue Saint Nicolas pro...         1  "
      ]
     },
     "metadata": {},
     "output_type": "display_data"
    },
    {
     "data": {
      "text/plain": [
       "(35, 14)"
      ]
     },
     "metadata": {},
     "output_type": "display_data"
    }
   ],
   "source": [
    "df_weather = df.loc[df['hotel_id']==1, :]\n",
    "df_weather_7day = df_weather.loc[df_weather['date']=='2025-04-04', :]\n",
    "display(df_weather_7day.head())\n",
    "df_weather_7day.shape"
   ]
  },
  {
   "cell_type": "code",
   "execution_count": null,
   "metadata": {},
   "outputs": [
    {
     "data": {
      "application/vnd.plotly.v1+json": {
       "config": {
        "plotlyServerURL": "https://plot.ly"
       },
       "data": [
        {
         "lat": [
          48.6353494256,
          48.63250885,
          49.276465,
          49.49008699,
          49.4408228,
          48.87421372,
          49.8921749,
          50.6363018,
          48.5820517941,
          48.2470228,
          48.0762675,
          48.0437021981,
          47.2345273,
          47.3243384,
          45.8998809,
          45.189773,
          45.7606886,
          43.8419984839,
          43.1507533,
          43.2127069163,
          43.2978012,
          43.52688664,
          43.950894,
          44.0103511961,
          43.831888,
          43.57298752,
          43.451133,
          42.5244310979,
          43.2135992,
          42.8433267,
          43.6142037,
          44.0209955598,
          43.4702245,
          43.489513,
          46.143734
         ],
         "lon": [
          -1.5103787184000002,
          -1.9864576500000002,
          -0.706367,
          0.09774695700000001,
          1.0973912,
          2.33110115,
          2.2889352,
          3.0608761,
          7.7494142564,
          7.34632093,
          7.3555119,
          7.3059976669,
          6.0274517,
          5.0302429,
          6.1191453,
          5.7281059,
          4.8368369,
          6.5363502502,
          6.3406583,
          5.5302556137,
          5.3732279,
          5.4472714700000004,
          4.812025,
          4.4221975386,
          4.3522837,
          4.1948247,
          4.430953,
          3.0903158521,
          2.3570812,
          1.7457363,
          1.4451265,
          1.349240014,
          -1.5678466,
          -1.479078,
          -1.160263
         ],
         "marker": {
          "cmax": 23.06,
          "cmin": 0,
          "color": [
           17.87,
           1.27,
           18.27,
           16.58,
           20.12,
           22.06,
           20.09,
           20.1,
           18.8,
           17.2,
           19.77,
           19.56,
           20.28,
           18.44,
           20.85,
           23.06,
           20.41,
           16.51,
           16.64,
           16.92,
           17.1,
           21.22,
           22.11,
           19.92,
           21.05,
           15.98,
           15.66,
           18.61,
           18.67,
           18.56,
           19.05,
           18.99,
           17.7,
           18.37,
           15.73
          ],
          "colorbar": {
           "title": {
            "text": "temp"
           }
          },
          "colorscale": [
           [
            0,
            "rgb(0,0,131)"
           ],
           [
            0.2,
            "rgb(0,60,170)"
           ],
           [
            0.4,
            "rgb(5,255,255)"
           ],
           [
            0.6,
            "rgb(255,255,0)"
           ],
           [
            0.8,
            "rgb(250,0,0)"
           ],
           [
            1,
            "rgb(128,0,0)"
           ]
          ],
          "line": {
           "color": "rgba(102, 102, 102)",
           "width": 1
          },
          "opacity": 0.8
         },
         "mode": "markers",
         "text": [
          "Mont Saint Michel",
          "St Malo",
          "Bayeux",
          "Le Havre",
          "Rouen",
          "Paris",
          "Amiens",
          "Lille",
          "Strasbourg",
          "Chateau du Haut Koenigsbourg",
          "Colmar",
          "Eguisheim",
          "Besancon",
          "Dijon",
          "Annecy",
          "Grenoble",
          "Lyon",
          "Gorges du Verdon",
          "Bormes les Mimosas",
          "Cassis",
          "Marseille",
          "Aix en Provence",
          "Avignon",
          "Uzes",
          "Nimes",
          "Aigues Mortes",
          "Saintes Maries de la mer",
          "Collioure",
          "Carcassonne",
          "Ariege",
          "Toulouse",
          "Montauban",
          "Biarritz",
          "Bayonne",
          "La Rochelle"
         ],
         "type": "scattergeo",
         "visible": true
        },
        {
         "lat": [
          48.6353494256,
          48.63250885,
          49.276465,
          49.49008699,
          49.4408228,
          48.87421372,
          49.8921749,
          50.6363018,
          48.5820517941,
          48.2470228,
          48.0762675,
          48.0437021981,
          47.2345273,
          47.3243384,
          45.8998809,
          45.189773,
          45.7606886,
          43.8419984839,
          43.1507533,
          43.2127069163,
          43.2978012,
          43.52688664,
          43.950894,
          44.0103511961,
          43.831888,
          43.57298752,
          43.451133,
          42.5244310979,
          43.2135992,
          42.8433267,
          43.6142037,
          44.0209955598,
          43.4702245,
          43.489513,
          46.143734
         ],
         "lon": [
          -1.5103787184000002,
          -1.9864576500000002,
          -0.706367,
          0.09774695700000001,
          1.0973912,
          2.33110115,
          2.2889352,
          3.0608761,
          7.7494142564,
          7.34632093,
          7.3555119,
          7.3059976669,
          6.0274517,
          5.0302429,
          6.1191453,
          5.7281059,
          4.8368369,
          6.5363502502,
          6.3406583,
          5.5302556137,
          5.3732279,
          5.4472714700000004,
          4.812025,
          4.4221975386,
          4.3522837,
          4.1948247,
          4.430953,
          3.0903158521,
          2.3570812,
          1.7457363,
          1.4451265,
          1.349240014,
          -1.5678466,
          -1.479078,
          -1.160263
         ],
         "marker": {
          "cmax": 99,
          "cmin": 0,
          "color": [
           60,
           99,
           62,
           64,
           53,
           38,
           52,
           43,
           52,
           51,
           51,
           51,
           49,
           60,
           46,
           41,
           42,
           41,
           61,
           61,
           64,
           33,
           36,
           49,
           43,
           60,
           67,
           51,
           48,
           41,
           47,
           49,
           54,
           52,
           66
          ],
          "colorbar": {
           "title": {
            "text": "humidity"
           }
          },
          "colorscale": [
           [
            0,
            "rgb(0,0,131)"
           ],
           [
            0.2,
            "rgb(0,60,170)"
           ],
           [
            0.4,
            "rgb(5,255,255)"
           ],
           [
            0.6,
            "rgb(255,255,0)"
           ],
           [
            0.8,
            "rgb(250,0,0)"
           ],
           [
            1,
            "rgb(128,0,0)"
           ]
          ],
          "line": {
           "color": "rgba(102, 102, 102)",
           "width": 1
          },
          "opacity": 0.8
         },
         "mode": "markers",
         "text": [
          "Mont Saint Michel",
          "St Malo",
          "Bayeux",
          "Le Havre",
          "Rouen",
          "Paris",
          "Amiens",
          "Lille",
          "Strasbourg",
          "Chateau du Haut Koenigsbourg",
          "Colmar",
          "Eguisheim",
          "Besancon",
          "Dijon",
          "Annecy",
          "Grenoble",
          "Lyon",
          "Gorges du Verdon",
          "Bormes les Mimosas",
          "Cassis",
          "Marseille",
          "Aix en Provence",
          "Avignon",
          "Uzes",
          "Nimes",
          "Aigues Mortes",
          "Saintes Maries de la mer",
          "Collioure",
          "Carcassonne",
          "Ariege",
          "Toulouse",
          "Montauban",
          "Biarritz",
          "Bayonne",
          "La Rochelle"
         ],
         "type": "scattergeo",
         "visible": false
        },
        {
         "lat": [
          48.6353494256,
          48.63250885,
          49.276465,
          49.49008699,
          49.4408228,
          48.87421372,
          49.8921749,
          50.6363018,
          48.5820517941,
          48.2470228,
          48.0762675,
          48.0437021981,
          47.2345273,
          47.3243384,
          45.8998809,
          45.189773,
          45.7606886,
          43.8419984839,
          43.1507533,
          43.2127069163,
          43.2978012,
          43.52688664,
          43.950894,
          44.0103511961,
          43.831888,
          43.57298752,
          43.451133,
          42.5244310979,
          43.2135992,
          42.8433267,
          43.6142037,
          44.0209955598,
          43.4702245,
          43.489513,
          46.143734
         ],
         "lon": [
          -1.5103787184000002,
          -1.9864576500000002,
          -0.706367,
          0.09774695700000001,
          1.0973912,
          2.33110115,
          2.2889352,
          3.0608761,
          7.7494142564,
          7.34632093,
          7.3555119,
          7.3059976669,
          6.0274517,
          5.0302429,
          6.1191453,
          5.7281059,
          4.8368369,
          6.5363502502,
          6.3406583,
          5.5302556137,
          5.3732279,
          5.4472714700000004,
          4.812025,
          4.4221975386,
          4.3522837,
          4.1948247,
          4.430953,
          3.0903158521,
          2.3570812,
          1.7457363,
          1.4451265,
          1.349240014,
          -1.5678466,
          -1.479078,
          -1.160263
         ],
         "marker": {
          "cmax": 319,
          "cmin": 0,
          "color": [
           144,
           177,
           125,
           127,
           122,
           114,
           116,
           109,
           26,
           94,
           309,
           308,
           0,
           144,
           319,
           144,
           165,
           169,
           78,
           149,
           157,
           184,
           191,
           181,
           179,
           156,
           144,
           138,
           104,
           189,
           123,
           128,
           108,
           122,
           126
          ],
          "colorbar": {
           "title": {
            "text": "wind"
           }
          },
          "colorscale": [
           [
            0,
            "rgb(0,0,131)"
           ],
           [
            0.2,
            "rgb(0,60,170)"
           ],
           [
            0.4,
            "rgb(5,255,255)"
           ],
           [
            0.6,
            "rgb(255,255,0)"
           ],
           [
            0.8,
            "rgb(250,0,0)"
           ],
           [
            1,
            "rgb(128,0,0)"
           ]
          ],
          "line": {
           "color": "rgba(102, 102, 102)",
           "width": 1
          },
          "opacity": 0.8
         },
         "mode": "markers",
         "text": [
          "Mont Saint Michel",
          "St Malo",
          "Bayeux",
          "Le Havre",
          "Rouen",
          "Paris",
          "Amiens",
          "Lille",
          "Strasbourg",
          "Chateau du Haut Koenigsbourg",
          "Colmar",
          "Eguisheim",
          "Besancon",
          "Dijon",
          "Annecy",
          "Grenoble",
          "Lyon",
          "Gorges du Verdon",
          "Bormes les Mimosas",
          "Cassis",
          "Marseille",
          "Aix en Provence",
          "Avignon",
          "Uzes",
          "Nimes",
          "Aigues Mortes",
          "Saintes Maries de la mer",
          "Collioure",
          "Carcassonne",
          "Ariege",
          "Toulouse",
          "Montauban",
          "Biarritz",
          "Bayonne",
          "La Rochelle"
         ],
         "type": "scattergeo",
         "visible": false
        }
       ],
       "layout": {
        "showlegend": false,
        "template": {
         "data": {
          "bar": [
           {
            "error_x": {
             "color": "#2a3f5f"
            },
            "error_y": {
             "color": "#2a3f5f"
            },
            "marker": {
             "line": {
              "color": "#E5ECF6",
              "width": 0.5
             },
             "pattern": {
              "fillmode": "overlay",
              "size": 10,
              "solidity": 0.2
             }
            },
            "type": "bar"
           }
          ],
          "barpolar": [
           {
            "marker": {
             "line": {
              "color": "#E5ECF6",
              "width": 0.5
             },
             "pattern": {
              "fillmode": "overlay",
              "size": 10,
              "solidity": 0.2
             }
            },
            "type": "barpolar"
           }
          ],
          "carpet": [
           {
            "aaxis": {
             "endlinecolor": "#2a3f5f",
             "gridcolor": "white",
             "linecolor": "white",
             "minorgridcolor": "white",
             "startlinecolor": "#2a3f5f"
            },
            "baxis": {
             "endlinecolor": "#2a3f5f",
             "gridcolor": "white",
             "linecolor": "white",
             "minorgridcolor": "white",
             "startlinecolor": "#2a3f5f"
            },
            "type": "carpet"
           }
          ],
          "choropleth": [
           {
            "colorbar": {
             "outlinewidth": 0,
             "ticks": ""
            },
            "type": "choropleth"
           }
          ],
          "contour": [
           {
            "colorbar": {
             "outlinewidth": 0,
             "ticks": ""
            },
            "colorscale": [
             [
              0,
              "#0d0887"
             ],
             [
              0.1111111111111111,
              "#46039f"
             ],
             [
              0.2222222222222222,
              "#7201a8"
             ],
             [
              0.3333333333333333,
              "#9c179e"
             ],
             [
              0.4444444444444444,
              "#bd3786"
             ],
             [
              0.5555555555555556,
              "#d8576b"
             ],
             [
              0.6666666666666666,
              "#ed7953"
             ],
             [
              0.7777777777777778,
              "#fb9f3a"
             ],
             [
              0.8888888888888888,
              "#fdca26"
             ],
             [
              1,
              "#f0f921"
             ]
            ],
            "type": "contour"
           }
          ],
          "contourcarpet": [
           {
            "colorbar": {
             "outlinewidth": 0,
             "ticks": ""
            },
            "type": "contourcarpet"
           }
          ],
          "heatmap": [
           {
            "colorbar": {
             "outlinewidth": 0,
             "ticks": ""
            },
            "colorscale": [
             [
              0,
              "#0d0887"
             ],
             [
              0.1111111111111111,
              "#46039f"
             ],
             [
              0.2222222222222222,
              "#7201a8"
             ],
             [
              0.3333333333333333,
              "#9c179e"
             ],
             [
              0.4444444444444444,
              "#bd3786"
             ],
             [
              0.5555555555555556,
              "#d8576b"
             ],
             [
              0.6666666666666666,
              "#ed7953"
             ],
             [
              0.7777777777777778,
              "#fb9f3a"
             ],
             [
              0.8888888888888888,
              "#fdca26"
             ],
             [
              1,
              "#f0f921"
             ]
            ],
            "type": "heatmap"
           }
          ],
          "heatmapgl": [
           {
            "colorbar": {
             "outlinewidth": 0,
             "ticks": ""
            },
            "colorscale": [
             [
              0,
              "#0d0887"
             ],
             [
              0.1111111111111111,
              "#46039f"
             ],
             [
              0.2222222222222222,
              "#7201a8"
             ],
             [
              0.3333333333333333,
              "#9c179e"
             ],
             [
              0.4444444444444444,
              "#bd3786"
             ],
             [
              0.5555555555555556,
              "#d8576b"
             ],
             [
              0.6666666666666666,
              "#ed7953"
             ],
             [
              0.7777777777777778,
              "#fb9f3a"
             ],
             [
              0.8888888888888888,
              "#fdca26"
             ],
             [
              1,
              "#f0f921"
             ]
            ],
            "type": "heatmapgl"
           }
          ],
          "histogram": [
           {
            "marker": {
             "pattern": {
              "fillmode": "overlay",
              "size": 10,
              "solidity": 0.2
             }
            },
            "type": "histogram"
           }
          ],
          "histogram2d": [
           {
            "colorbar": {
             "outlinewidth": 0,
             "ticks": ""
            },
            "colorscale": [
             [
              0,
              "#0d0887"
             ],
             [
              0.1111111111111111,
              "#46039f"
             ],
             [
              0.2222222222222222,
              "#7201a8"
             ],
             [
              0.3333333333333333,
              "#9c179e"
             ],
             [
              0.4444444444444444,
              "#bd3786"
             ],
             [
              0.5555555555555556,
              "#d8576b"
             ],
             [
              0.6666666666666666,
              "#ed7953"
             ],
             [
              0.7777777777777778,
              "#fb9f3a"
             ],
             [
              0.8888888888888888,
              "#fdca26"
             ],
             [
              1,
              "#f0f921"
             ]
            ],
            "type": "histogram2d"
           }
          ],
          "histogram2dcontour": [
           {
            "colorbar": {
             "outlinewidth": 0,
             "ticks": ""
            },
            "colorscale": [
             [
              0,
              "#0d0887"
             ],
             [
              0.1111111111111111,
              "#46039f"
             ],
             [
              0.2222222222222222,
              "#7201a8"
             ],
             [
              0.3333333333333333,
              "#9c179e"
             ],
             [
              0.4444444444444444,
              "#bd3786"
             ],
             [
              0.5555555555555556,
              "#d8576b"
             ],
             [
              0.6666666666666666,
              "#ed7953"
             ],
             [
              0.7777777777777778,
              "#fb9f3a"
             ],
             [
              0.8888888888888888,
              "#fdca26"
             ],
             [
              1,
              "#f0f921"
             ]
            ],
            "type": "histogram2dcontour"
           }
          ],
          "mesh3d": [
           {
            "colorbar": {
             "outlinewidth": 0,
             "ticks": ""
            },
            "type": "mesh3d"
           }
          ],
          "parcoords": [
           {
            "line": {
             "colorbar": {
              "outlinewidth": 0,
              "ticks": ""
             }
            },
            "type": "parcoords"
           }
          ],
          "pie": [
           {
            "automargin": true,
            "type": "pie"
           }
          ],
          "scatter": [
           {
            "fillpattern": {
             "fillmode": "overlay",
             "size": 10,
             "solidity": 0.2
            },
            "type": "scatter"
           }
          ],
          "scatter3d": [
           {
            "line": {
             "colorbar": {
              "outlinewidth": 0,
              "ticks": ""
             }
            },
            "marker": {
             "colorbar": {
              "outlinewidth": 0,
              "ticks": ""
             }
            },
            "type": "scatter3d"
           }
          ],
          "scattercarpet": [
           {
            "marker": {
             "colorbar": {
              "outlinewidth": 0,
              "ticks": ""
             }
            },
            "type": "scattercarpet"
           }
          ],
          "scattergeo": [
           {
            "marker": {
             "colorbar": {
              "outlinewidth": 0,
              "ticks": ""
             }
            },
            "type": "scattergeo"
           }
          ],
          "scattergl": [
           {
            "marker": {
             "colorbar": {
              "outlinewidth": 0,
              "ticks": ""
             }
            },
            "type": "scattergl"
           }
          ],
          "scattermapbox": [
           {
            "marker": {
             "colorbar": {
              "outlinewidth": 0,
              "ticks": ""
             }
            },
            "type": "scattermapbox"
           }
          ],
          "scatterpolar": [
           {
            "marker": {
             "colorbar": {
              "outlinewidth": 0,
              "ticks": ""
             }
            },
            "type": "scatterpolar"
           }
          ],
          "scatterpolargl": [
           {
            "marker": {
             "colorbar": {
              "outlinewidth": 0,
              "ticks": ""
             }
            },
            "type": "scatterpolargl"
           }
          ],
          "scatterternary": [
           {
            "marker": {
             "colorbar": {
              "outlinewidth": 0,
              "ticks": ""
             }
            },
            "type": "scatterternary"
           }
          ],
          "surface": [
           {
            "colorbar": {
             "outlinewidth": 0,
             "ticks": ""
            },
            "colorscale": [
             [
              0,
              "#0d0887"
             ],
             [
              0.1111111111111111,
              "#46039f"
             ],
             [
              0.2222222222222222,
              "#7201a8"
             ],
             [
              0.3333333333333333,
              "#9c179e"
             ],
             [
              0.4444444444444444,
              "#bd3786"
             ],
             [
              0.5555555555555556,
              "#d8576b"
             ],
             [
              0.6666666666666666,
              "#ed7953"
             ],
             [
              0.7777777777777778,
              "#fb9f3a"
             ],
             [
              0.8888888888888888,
              "#fdca26"
             ],
             [
              1,
              "#f0f921"
             ]
            ],
            "type": "surface"
           }
          ],
          "table": [
           {
            "cells": {
             "fill": {
              "color": "#EBF0F8"
             },
             "line": {
              "color": "white"
             }
            },
            "header": {
             "fill": {
              "color": "#C8D4E3"
             },
             "line": {
              "color": "white"
             }
            },
            "type": "table"
           }
          ]
         },
         "layout": {
          "annotationdefaults": {
           "arrowcolor": "#2a3f5f",
           "arrowhead": 0,
           "arrowwidth": 1
          },
          "autotypenumbers": "strict",
          "coloraxis": {
           "colorbar": {
            "outlinewidth": 0,
            "ticks": ""
           }
          },
          "colorscale": {
           "diverging": [
            [
             0,
             "#8e0152"
            ],
            [
             0.1,
             "#c51b7d"
            ],
            [
             0.2,
             "#de77ae"
            ],
            [
             0.3,
             "#f1b6da"
            ],
            [
             0.4,
             "#fde0ef"
            ],
            [
             0.5,
             "#f7f7f7"
            ],
            [
             0.6,
             "#e6f5d0"
            ],
            [
             0.7,
             "#b8e186"
            ],
            [
             0.8,
             "#7fbc41"
            ],
            [
             0.9,
             "#4d9221"
            ],
            [
             1,
             "#276419"
            ]
           ],
           "sequential": [
            [
             0,
             "#0d0887"
            ],
            [
             0.1111111111111111,
             "#46039f"
            ],
            [
             0.2222222222222222,
             "#7201a8"
            ],
            [
             0.3333333333333333,
             "#9c179e"
            ],
            [
             0.4444444444444444,
             "#bd3786"
            ],
            [
             0.5555555555555556,
             "#d8576b"
            ],
            [
             0.6666666666666666,
             "#ed7953"
            ],
            [
             0.7777777777777778,
             "#fb9f3a"
            ],
            [
             0.8888888888888888,
             "#fdca26"
            ],
            [
             1,
             "#f0f921"
            ]
           ],
           "sequentialminus": [
            [
             0,
             "#0d0887"
            ],
            [
             0.1111111111111111,
             "#46039f"
            ],
            [
             0.2222222222222222,
             "#7201a8"
            ],
            [
             0.3333333333333333,
             "#9c179e"
            ],
            [
             0.4444444444444444,
             "#bd3786"
            ],
            [
             0.5555555555555556,
             "#d8576b"
            ],
            [
             0.6666666666666666,
             "#ed7953"
            ],
            [
             0.7777777777777778,
             "#fb9f3a"
            ],
            [
             0.8888888888888888,
             "#fdca26"
            ],
            [
             1,
             "#f0f921"
            ]
           ]
          },
          "colorway": [
           "#636efa",
           "#EF553B",
           "#00cc96",
           "#ab63fa",
           "#FFA15A",
           "#19d3f3",
           "#FF6692",
           "#B6E880",
           "#FF97FF",
           "#FECB52"
          ],
          "font": {
           "color": "#2a3f5f"
          },
          "geo": {
           "bgcolor": "white",
           "lakecolor": "white",
           "landcolor": "#E5ECF6",
           "showlakes": true,
           "showland": true,
           "subunitcolor": "white"
          },
          "hoverlabel": {
           "align": "left"
          },
          "hovermode": "closest",
          "mapbox": {
           "style": "light"
          },
          "paper_bgcolor": "white",
          "plot_bgcolor": "#E5ECF6",
          "polar": {
           "angularaxis": {
            "gridcolor": "white",
            "linecolor": "white",
            "ticks": ""
           },
           "bgcolor": "#E5ECF6",
           "radialaxis": {
            "gridcolor": "white",
            "linecolor": "white",
            "ticks": ""
           }
          },
          "scene": {
           "xaxis": {
            "backgroundcolor": "#E5ECF6",
            "gridcolor": "white",
            "gridwidth": 2,
            "linecolor": "white",
            "showbackground": true,
            "ticks": "",
            "zerolinecolor": "white"
           },
           "yaxis": {
            "backgroundcolor": "#E5ECF6",
            "gridcolor": "white",
            "gridwidth": 2,
            "linecolor": "white",
            "showbackground": true,
            "ticks": "",
            "zerolinecolor": "white"
           },
           "zaxis": {
            "backgroundcolor": "#E5ECF6",
            "gridcolor": "white",
            "gridwidth": 2,
            "linecolor": "white",
            "showbackground": true,
            "ticks": "",
            "zerolinecolor": "white"
           }
          },
          "shapedefaults": {
           "line": {
            "color": "#2a3f5f"
           }
          },
          "ternary": {
           "aaxis": {
            "gridcolor": "white",
            "linecolor": "white",
            "ticks": ""
           },
           "baxis": {
            "gridcolor": "white",
            "linecolor": "white",
            "ticks": ""
           },
           "bgcolor": "#E5ECF6",
           "caxis": {
            "gridcolor": "white",
            "linecolor": "white",
            "ticks": ""
           }
          },
          "title": {
           "x": 0.05
          },
          "xaxis": {
           "automargin": true,
           "gridcolor": "white",
           "linecolor": "white",
           "ticks": "",
           "title": {
            "standoff": 15
           },
           "zerolinecolor": "white",
           "zerolinewidth": 2
          },
          "yaxis": {
           "automargin": true,
           "gridcolor": "white",
           "linecolor": "white",
           "ticks": "",
           "title": {
            "standoff": 15
           },
           "zerolinecolor": "white",
           "zerolinewidth": 2
          }
         }
        },
        "title": {
         "text": "Previsions for 35 cities in 7 days",
         "x": 0.5
        },
        "updatemenus": [
         {
          "active": 0,
          "buttons": [
           {
            "args": [
             {
              "visible": [
               true,
               false,
               false
              ]
             }
            ],
            "label": "temp",
            "method": "update"
           },
           {
            "args": [
             {
              "visible": [
               false,
               true,
               false
              ]
             }
            ],
            "label": "humidity",
            "method": "update"
           },
           {
            "args": [
             {
              "visible": [
               false,
               false,
               true
              ]
             }
            ],
            "label": "wind",
            "method": "update"
           }
          ]
         }
        ],
        "width": 700
       }
      }
     },
     "metadata": {},
     "output_type": "display_data"
    }
   ],
   "source": [
    "fig = go.Figure()\n",
    "\n",
    "categories = df_weather_7day.columns[3:6].to_list()\n",
    "buttons = []\n",
    "\n",
    "for i in range(0, 3):\n",
    "    fig.add_trace(\n",
    "        go.Scattergeo(\n",
    "            lat = df_weather_7day['latitude'],\n",
    "            lon = df_weather_7day['longitude'],\n",
    "            text = df_weather_7day['city_name'],\n",
    "            mode = 'markers',\n",
    "            marker = dict(\n",
    "                opacity = 0.8,\n",
    "                line = dict(\n",
    "                    width=1,\n",
    "                    color='rgba(102, 102, 102)'\n",
    "                ),\n",
    "                colorscale = 'Jet',\n",
    "                cmin = 0,\n",
    "                color = df_weather_7day[categories[i]],\n",
    "                cmax = df_weather_7day[categories[i]].max(),\n",
    "                colorbar=dict(\n",
    "                    title=dict(\n",
    "                        text=categories[i]\n",
    "                    )\n",
    "                )),\n",
    "            visible=(i==0)\n",
    "            )\n",
    "    )\n",
    "    buttons.append(go.layout.updatemenu.Button(\n",
    "                    label = categories[i],\n",
    "                    method = \"update\",\n",
    "                    args = [{\"visible\" : [i==0, i==1, i==2]}]))\n",
    "\n",
    "\n",
    "fig.update_layout(\n",
    "    title = go.layout.Title(text = \"Previsions for 35 cities in 7 days\", x = 0.5),\n",
    "    showlegend = False,\n",
    "    width=700, \n",
    "    updatemenus = [go.layout.Updatemenu(\n",
    "        active = 0,\n",
    "        buttons = buttons\n",
    "    )]\n",
    ")\n",
    "\n",
    "fig.show()"
   ]
  },
  {
   "cell_type": "code",
   "execution_count": null,
   "metadata": {},
   "outputs": [
    {
     "data": {
      "application/vnd.plotly.v1+json": {
       "config": {
        "plotlyServerURL": "https://plot.ly"
       },
       "data": [
        {
         "hovertemplate": "<b>%{hovertext}</b><br><br>date=2025-03-28 00:00:00<br>humidity=%{marker.size}<br>latitude=%{lat}<br>longitude=%{lon}<br>temp=%{marker.color}<extra></extra>",
         "hovertext": [
          "Mont Saint Michel",
          "St Malo",
          "Bayeux",
          "Le Havre",
          "Rouen",
          "Paris",
          "Amiens",
          "Lille",
          "Strasbourg",
          "Chateau du Haut Koenigsbourg",
          "Colmar",
          "Eguisheim",
          "Besancon",
          "Dijon",
          "Annecy",
          "Grenoble",
          "Lyon",
          "Gorges du Verdon",
          "Bormes les Mimosas",
          "Cassis",
          "Marseille",
          "Aix en Provence",
          "Avignon",
          "Uzes",
          "Nimes",
          "Aigues Mortes",
          "Saintes Maries de la mer",
          "Collioure",
          "Carcassonne",
          "Ariege",
          "Toulouse",
          "Montauban",
          "Biarritz",
          "Bayonne",
          "La Rochelle"
         ],
         "lat": [
          48.6353494256,
          48.63250885,
          49.276465,
          49.49008699,
          49.4408228,
          48.87421372,
          49.8921749,
          50.6363018,
          48.5820517941,
          48.2470228,
          48.0762675,
          48.0437021981,
          47.2345273,
          47.3243384,
          45.8998809,
          45.189773,
          45.7606886,
          43.8419984839,
          43.1507533,
          43.2127069163,
          43.2978012,
          43.52688664,
          43.950894,
          44.0103511961,
          43.831888,
          43.57298752,
          43.451133,
          42.5244310979,
          43.2135992,
          42.8433267,
          43.6142037,
          44.0209955598,
          43.4702245,
          43.489513,
          46.143734
         ],
         "legendgroup": "",
         "lon": [
          -1.5103787184000002,
          -1.9864576500000002,
          -0.706367,
          0.09774695700000001,
          1.0973912,
          2.33110115,
          2.2889352,
          3.0608761,
          7.7494142564,
          7.34632093,
          7.3555119,
          7.3059976669,
          6.0274517,
          5.0302429,
          6.1191453,
          5.7281059,
          4.8368369,
          6.5363502502,
          6.3406583,
          5.5302556137,
          5.3732279,
          5.4472714700000004,
          4.812025,
          4.4221975386,
          4.3522837,
          4.1948247,
          4.430953,
          3.0903158521,
          2.3570812,
          1.7457363,
          1.4451265,
          1.349240014,
          -1.5678466,
          -1.479078,
          -1.160263
         ],
         "marker": {
          "color": [
           9.74,
           -1.8900000000000001,
           11.78,
           10.15,
           12.38,
           12.17,
           11.58,
           11.42,
           14.27,
           11.26,
           13.71,
           13.35,
           13.57,
           13.38,
           14.41,
           16.17,
           14.65,
           13.07,
           17.27,
           16.24,
           16.91,
           16.31,
           16.44,
           15.58,
           16.08,
           15.64,
           15.07,
           16.54,
           14.05,
           9.69,
           13.95,
           13.82,
           13.92,
           14.36,
           12.59
          ],
          "coloraxis": "coloraxis",
          "size": [
           89,
           93,
           87,
           93,
           89,
           70,
           75,
           72,
           55,
           57,
           57,
           58,
           63,
           60,
           65,
           70,
           59,
           52,
           56,
           52,
           50,
           48,
           50,
           52,
           48,
           54,
           58,
           45,
           74,
           59,
           69,
           67,
           76,
           72,
           78
          ],
          "sizemode": "area",
          "sizeref": 0.2475
         },
         "mode": "markers",
         "name": "",
         "showlegend": false,
         "subplot": "mapbox",
         "type": "scattermapbox"
        }
       ],
       "frames": [
        {
         "data": [
          {
           "hovertemplate": "<b>%{hovertext}</b><br><br>date=2025-03-28 00:00:00<br>humidity=%{marker.size}<br>latitude=%{lat}<br>longitude=%{lon}<br>temp=%{marker.color}<extra></extra>",
           "hovertext": [
            "Mont Saint Michel",
            "St Malo",
            "Bayeux",
            "Le Havre",
            "Rouen",
            "Paris",
            "Amiens",
            "Lille",
            "Strasbourg",
            "Chateau du Haut Koenigsbourg",
            "Colmar",
            "Eguisheim",
            "Besancon",
            "Dijon",
            "Annecy",
            "Grenoble",
            "Lyon",
            "Gorges du Verdon",
            "Bormes les Mimosas",
            "Cassis",
            "Marseille",
            "Aix en Provence",
            "Avignon",
            "Uzes",
            "Nimes",
            "Aigues Mortes",
            "Saintes Maries de la mer",
            "Collioure",
            "Carcassonne",
            "Ariege",
            "Toulouse",
            "Montauban",
            "Biarritz",
            "Bayonne",
            "La Rochelle"
           ],
           "lat": [
            48.6353494256,
            48.63250885,
            49.276465,
            49.49008699,
            49.4408228,
            48.87421372,
            49.8921749,
            50.6363018,
            48.5820517941,
            48.2470228,
            48.0762675,
            48.0437021981,
            47.2345273,
            47.3243384,
            45.8998809,
            45.189773,
            45.7606886,
            43.8419984839,
            43.1507533,
            43.2127069163,
            43.2978012,
            43.52688664,
            43.950894,
            44.0103511961,
            43.831888,
            43.57298752,
            43.451133,
            42.5244310979,
            43.2135992,
            42.8433267,
            43.6142037,
            44.0209955598,
            43.4702245,
            43.489513,
            46.143734
           ],
           "legendgroup": "",
           "lon": [
            -1.5103787184000002,
            -1.9864576500000002,
            -0.706367,
            0.09774695700000001,
            1.0973912,
            2.33110115,
            2.2889352,
            3.0608761,
            7.7494142564,
            7.34632093,
            7.3555119,
            7.3059976669,
            6.0274517,
            5.0302429,
            6.1191453,
            5.7281059,
            4.8368369,
            6.5363502502,
            6.3406583,
            5.5302556137,
            5.3732279,
            5.4472714700000004,
            4.812025,
            4.4221975386,
            4.3522837,
            4.1948247,
            4.430953,
            3.0903158521,
            2.3570812,
            1.7457363,
            1.4451265,
            1.349240014,
            -1.5678466,
            -1.479078,
            -1.160263
           ],
           "marker": {
            "color": [
             9.74,
             -1.8900000000000001,
             11.78,
             10.15,
             12.38,
             12.17,
             11.58,
             11.42,
             14.27,
             11.26,
             13.71,
             13.35,
             13.57,
             13.38,
             14.41,
             16.17,
             14.65,
             13.07,
             17.27,
             16.24,
             16.91,
             16.31,
             16.44,
             15.58,
             16.08,
             15.64,
             15.07,
             16.54,
             14.05,
             9.69,
             13.95,
             13.82,
             13.92,
             14.36,
             12.59
            ],
            "coloraxis": "coloraxis",
            "size": [
             89,
             93,
             87,
             93,
             89,
             70,
             75,
             72,
             55,
             57,
             57,
             58,
             63,
             60,
             65,
             70,
             59,
             52,
             56,
             52,
             50,
             48,
             50,
             52,
             48,
             54,
             58,
             45,
             74,
             59,
             69,
             67,
             76,
             72,
             78
            ],
            "sizemode": "area",
            "sizeref": 0.2475
           },
           "mode": "markers",
           "name": "",
           "showlegend": false,
           "subplot": "mapbox",
           "type": "scattermapbox"
          }
         ],
         "name": "2025-03-28 00:00:00"
        },
        {
         "data": [
          {
           "hovertemplate": "<b>%{hovertext}</b><br><br>date=2025-03-29 00:00:00<br>humidity=%{marker.size}<br>latitude=%{lat}<br>longitude=%{lon}<br>temp=%{marker.color}<extra></extra>",
           "hovertext": [
            "Mont Saint Michel",
            "St Malo",
            "Bayeux",
            "Le Havre",
            "Rouen",
            "Paris",
            "Amiens",
            "Lille",
            "Strasbourg",
            "Chateau du Haut Koenigsbourg",
            "Colmar",
            "Eguisheim",
            "Besancon",
            "Dijon",
            "Annecy",
            "Grenoble",
            "Lyon",
            "Gorges du Verdon",
            "Bormes les Mimosas",
            "Cassis",
            "Marseille",
            "Aix en Provence",
            "Avignon",
            "Uzes",
            "Nimes",
            "Aigues Mortes",
            "Saintes Maries de la mer",
            "Collioure",
            "Carcassonne",
            "Ariege",
            "Toulouse",
            "Montauban",
            "Biarritz",
            "Bayonne",
            "La Rochelle"
           ],
           "lat": [
            48.6353494256,
            48.63250885,
            49.276465,
            49.49008699,
            49.4408228,
            48.87421372,
            49.8921749,
            50.6363018,
            48.5820517941,
            48.2470228,
            48.0762675,
            48.0437021981,
            47.2345273,
            47.3243384,
            45.8998809,
            45.189773,
            45.7606886,
            43.8419984839,
            43.1507533,
            43.2127069163,
            43.2978012,
            43.52688664,
            43.950894,
            44.0103511961,
            43.831888,
            43.57298752,
            43.451133,
            42.5244310979,
            43.2135992,
            42.8433267,
            43.6142037,
            44.0209955598,
            43.4702245,
            43.489513,
            46.143734
           ],
           "legendgroup": "",
           "lon": [
            -1.5103787184000002,
            -1.9864576500000002,
            -0.706367,
            0.09774695700000001,
            1.0973912,
            2.33110115,
            2.2889352,
            3.0608761,
            7.7494142564,
            7.34632093,
            7.3555119,
            7.3059976669,
            6.0274517,
            5.0302429,
            6.1191453,
            5.7281059,
            4.8368369,
            6.5363502502,
            6.3406583,
            5.5302556137,
            5.3732279,
            5.4472714700000004,
            4.812025,
            4.4221975386,
            4.3522837,
            4.1948247,
            4.430953,
            3.0903158521,
            2.3570812,
            1.7457363,
            1.4451265,
            1.349240014,
            -1.5678466,
            -1.479078,
            -1.160263
           ],
           "marker": {
            "color": [
             10.61,
             -4.61,
             10.36,
             9.04,
             11.38,
             11.82,
             10.53,
             10.6,
             9.05,
             5.82,
             8.71,
             8.49,
             6.13,
             10.07,
             6.67,
             6.73,
             6.69,
             5.06,
             9.2,
             10.46,
             10.95,
             11.03,
             8.8,
             12.36,
             13.68,
             13.89,
             13.16,
             12.13,
             9.56,
             1.3900000000000001,
             10.48,
             10.68,
             12.04,
             12.29,
             10.98
            ],
            "coloraxis": "coloraxis",
            "size": [
             66,
             88,
             62,
             66,
             52,
             40,
             60,
             56,
             84,
             90,
             87,
             86,
             94,
             65,
             96,
             98,
             89,
             88,
             86,
             70,
             69,
             61,
             75,
             58,
             51,
             50,
             58,
             49,
             64,
             90,
             55,
             58,
             60,
             60,
             61
            ],
            "sizemode": "area",
            "sizeref": 0.2475
           },
           "mode": "markers",
           "name": "",
           "showlegend": false,
           "subplot": "mapbox",
           "type": "scattermapbox"
          }
         ],
         "name": "2025-03-29 00:00:00"
        },
        {
         "data": [
          {
           "hovertemplate": "<b>%{hovertext}</b><br><br>date=2025-03-30 00:00:00<br>humidity=%{marker.size}<br>latitude=%{lat}<br>longitude=%{lon}<br>temp=%{marker.color}<extra></extra>",
           "hovertext": [
            "Mont Saint Michel",
            "St Malo",
            "Bayeux",
            "Le Havre",
            "Rouen",
            "Paris",
            "Amiens",
            "Lille",
            "Strasbourg",
            "Chateau du Haut Koenigsbourg",
            "Colmar",
            "Eguisheim",
            "Besancon",
            "Dijon",
            "Annecy",
            "Grenoble",
            "Lyon",
            "Gorges du Verdon",
            "Bormes les Mimosas",
            "Cassis",
            "Marseille",
            "Aix en Provence",
            "Avignon",
            "Uzes",
            "Nimes",
            "Aigues Mortes",
            "Saintes Maries de la mer",
            "Collioure",
            "Carcassonne",
            "Ariege",
            "Toulouse",
            "Montauban",
            "Biarritz",
            "Bayonne",
            "La Rochelle"
           ],
           "lat": [
            48.6353494256,
            48.63250885,
            49.276465,
            49.49008699,
            49.4408228,
            48.87421372,
            49.8921749,
            50.6363018,
            48.5820517941,
            48.2470228,
            48.0762675,
            48.0437021981,
            47.2345273,
            47.3243384,
            45.8998809,
            45.189773,
            45.7606886,
            43.8419984839,
            43.1507533,
            43.2127069163,
            43.2978012,
            43.52688664,
            43.950894,
            44.0103511961,
            43.831888,
            43.57298752,
            43.451133,
            42.5244310979,
            43.2135992,
            42.8433267,
            43.6142037,
            44.0209955598,
            43.4702245,
            43.489513,
            46.143734
           ],
           "legendgroup": "",
           "lon": [
            -1.5103787184000002,
            -1.9864576500000002,
            -0.706367,
            0.09774695700000001,
            1.0973912,
            2.33110115,
            2.2889352,
            3.0608761,
            7.7494142564,
            7.34632093,
            7.3555119,
            7.3059976669,
            6.0274517,
            5.0302429,
            6.1191453,
            5.7281059,
            4.8368369,
            6.5363502502,
            6.3406583,
            5.5302556137,
            5.3732279,
            5.4472714700000004,
            4.812025,
            4.4221975386,
            4.3522837,
            4.1948247,
            4.430953,
            3.0903158521,
            2.3570812,
            1.7457363,
            1.4451265,
            1.349240014,
            -1.5678466,
            -1.479078,
            -1.160263
           ],
           "marker": {
            "color": [
             13.45,
             -4.1,
             14.32,
             10.78,
             12.62,
             10.12,
             12.91,
             13.77,
             13.03,
             10.86,
             14.09,
             14.03,
             11.26,
             11.6,
             11.15,
             8.96,
             12.3,
             13.84,
             15.59,
             15.17,
             15.52,
             16.46,
             13.82,
             14.7,
             15.65,
             15.55,
             15.14,
             16.37,
             13.1,
             6.82,
             12.63,
             12.43,
             11.71,
             12.54,
             11.32
            ],
            "coloraxis": "coloraxis",
            "size": [
             78,
             84,
             64,
             84,
             72,
             70,
             66,
             51,
             45,
             43,
             43,
             42,
             57,
             50,
             68,
             92,
             47,
             50,
             55,
             49,
             50,
             42,
             54,
             49,
             43,
             44,
             51,
             31,
             48,
             52,
             53,
             59,
             65,
             61,
             82
            ],
            "sizemode": "area",
            "sizeref": 0.2475
           },
           "mode": "markers",
           "name": "",
           "showlegend": false,
           "subplot": "mapbox",
           "type": "scattermapbox"
          }
         ],
         "name": "2025-03-30 00:00:00"
        },
        {
         "data": [
          {
           "hovertemplate": "<b>%{hovertext}</b><br><br>date=2025-03-31 00:00:00<br>humidity=%{marker.size}<br>latitude=%{lat}<br>longitude=%{lon}<br>temp=%{marker.color}<extra></extra>",
           "hovertext": [
            "Mont Saint Michel",
            "St Malo",
            "Bayeux",
            "Le Havre",
            "Rouen",
            "Paris",
            "Amiens",
            "Lille",
            "Strasbourg",
            "Chateau du Haut Koenigsbourg",
            "Colmar",
            "Eguisheim",
            "Besancon",
            "Dijon",
            "Annecy",
            "Grenoble",
            "Lyon",
            "Gorges du Verdon",
            "Bormes les Mimosas",
            "Cassis",
            "Marseille",
            "Aix en Provence",
            "Avignon",
            "Uzes",
            "Nimes",
            "Aigues Mortes",
            "Saintes Maries de la mer",
            "Collioure",
            "Carcassonne",
            "Ariege",
            "Toulouse",
            "Montauban",
            "Biarritz",
            "Bayonne",
            "La Rochelle"
           ],
           "lat": [
            48.6353494256,
            48.63250885,
            49.276465,
            49.49008699,
            49.4408228,
            48.87421372,
            49.8921749,
            50.6363018,
            48.5820517941,
            48.2470228,
            48.0762675,
            48.0437021981,
            47.2345273,
            47.3243384,
            45.8998809,
            45.189773,
            45.7606886,
            43.8419984839,
            43.1507533,
            43.2127069163,
            43.2978012,
            43.52688664,
            43.950894,
            44.0103511961,
            43.831888,
            43.57298752,
            43.451133,
            42.5244310979,
            43.2135992,
            42.8433267,
            43.6142037,
            44.0209955598,
            43.4702245,
            43.489513,
            46.143734
           ],
           "legendgroup": "",
           "lon": [
            -1.5103787184000002,
            -1.9864576500000002,
            -0.706367,
            0.09774695700000001,
            1.0973912,
            2.33110115,
            2.2889352,
            3.0608761,
            7.7494142564,
            7.34632093,
            7.3555119,
            7.3059976669,
            6.0274517,
            5.0302429,
            6.1191453,
            5.7281059,
            4.8368369,
            6.5363502502,
            6.3406583,
            5.5302556137,
            5.3732279,
            5.4472714700000004,
            4.812025,
            4.4221975386,
            4.3522837,
            4.1948247,
            4.430953,
            3.0903158521,
            2.3570812,
            1.7457363,
            1.4451265,
            1.349240014,
            -1.5678466,
            -1.479078,
            -1.160263
           ],
           "marker": {
            "color": [
             15.61,
             -4.43,
             13.12,
             13.06,
             14.07,
             14.25,
             12.73,
             12.57,
             9.95,
             9.3,
             11.71,
             11.5,
             12.11,
             11.82,
             12.74,
             14.1,
             13.37,
             16.59,
             16.85,
             16.93,
             16.93,
             18.44,
             14.58,
             17.25,
             18.49,
             18.5,
             17.34,
             22.13,
             16.48,
             12.95,
             15.76,
             15.33,
             16.56,
             17.27,
             14.26
            ],
            "coloraxis": "coloraxis",
            "size": [
             58,
             70,
             69,
             67,
             54,
             41,
             54,
             44,
             54,
             50,
             52,
             52,
             54,
             57,
             49,
             52,
             47,
             44,
             51,
             46,
             46,
             34,
             50,
             38,
             34,
             34,
             40,
             31,
             52,
             63,
             53,
             57,
             62,
             59,
             62
            ],
            "sizemode": "area",
            "sizeref": 0.2475
           },
           "mode": "markers",
           "name": "",
           "showlegend": false,
           "subplot": "mapbox",
           "type": "scattermapbox"
          }
         ],
         "name": "2025-03-31 00:00:00"
        },
        {
         "data": [
          {
           "hovertemplate": "<b>%{hovertext}</b><br><br>date=2025-04-01 00:00:00<br>humidity=%{marker.size}<br>latitude=%{lat}<br>longitude=%{lon}<br>temp=%{marker.color}<extra></extra>",
           "hovertext": [
            "Mont Saint Michel",
            "St Malo",
            "Bayeux",
            "Le Havre",
            "Rouen",
            "Paris",
            "Amiens",
            "Lille",
            "Strasbourg",
            "Chateau du Haut Koenigsbourg",
            "Colmar",
            "Eguisheim",
            "Besancon",
            "Dijon",
            "Annecy",
            "Grenoble",
            "Lyon",
            "Gorges du Verdon",
            "Bormes les Mimosas",
            "Cassis",
            "Marseille",
            "Aix en Provence",
            "Avignon",
            "Uzes",
            "Nimes",
            "Aigues Mortes",
            "Saintes Maries de la mer",
            "Collioure",
            "Carcassonne",
            "Ariege",
            "Toulouse",
            "Montauban",
            "Biarritz",
            "Bayonne",
            "La Rochelle"
           ],
           "lat": [
            48.6353494256,
            48.63250885,
            49.276465,
            49.49008699,
            49.4408228,
            48.87421372,
            49.8921749,
            50.6363018,
            48.5820517941,
            48.2470228,
            48.0762675,
            48.0437021981,
            47.2345273,
            47.3243384,
            45.8998809,
            45.189773,
            45.7606886,
            43.8419984839,
            43.1507533,
            43.2127069163,
            43.2978012,
            43.52688664,
            43.950894,
            44.0103511961,
            43.831888,
            43.57298752,
            43.451133,
            42.5244310979,
            43.2135992,
            42.8433267,
            43.6142037,
            44.0209955598,
            43.4702245,
            43.489513,
            46.143734
           ],
           "legendgroup": "",
           "lon": [
            -1.5103787184000002,
            -1.9864576500000002,
            -0.706367,
            0.09774695700000001,
            1.0973912,
            2.33110115,
            2.2889352,
            3.0608761,
            7.7494142564,
            7.34632093,
            7.3555119,
            7.3059976669,
            6.0274517,
            5.0302429,
            6.1191453,
            5.7281059,
            4.8368369,
            6.5363502502,
            6.3406583,
            5.5302556137,
            5.3732279,
            5.4472714700000004,
            4.812025,
            4.4221975386,
            4.3522837,
            4.1948247,
            4.430953,
            3.0903158521,
            2.3570812,
            1.7457363,
            1.4451265,
            1.349240014,
            -1.5678466,
            -1.479078,
            -1.160263
           ],
           "marker": {
            "color": [
             14.23,
             0.96,
             12.5,
             12.39,
             12.67,
             13.44,
             12.74,
             13.17,
             12.17,
             8.38,
             11.49,
             11.37,
             12.05,
             11.41,
             9.87,
             10.07,
             13.16,
             2.87,
             7.9,
             10.62,
             12.21,
             10.73,
             15.5,
             14.72,
             15.5,
             14.86,
             14.2,
             14.88,
             17.79,
             16.2,
             18.3,
             18.44,
             16.27,
             18.09,
             13.89
            ],
            "coloraxis": "coloraxis",
            "size": [
             52,
             95,
             56,
             52,
             51,
             37,
             50,
             45,
             44,
             51,
             50,
             48,
             46,
             50,
             56,
             62,
             40,
             97,
             85,
             72,
             65,
             63,
             50,
             49,
             47,
             57,
             64,
             64,
             39,
             44,
             41,
             40,
             65,
             60,
             58
            ],
            "sizemode": "area",
            "sizeref": 0.2475
           },
           "mode": "markers",
           "name": "",
           "showlegend": false,
           "subplot": "mapbox",
           "type": "scattermapbox"
          }
         ],
         "name": "2025-04-01 00:00:00"
        },
        {
         "data": [
          {
           "hovertemplate": "<b>%{hovertext}</b><br><br>date=2025-04-02 00:00:00<br>humidity=%{marker.size}<br>latitude=%{lat}<br>longitude=%{lon}<br>temp=%{marker.color}<extra></extra>",
           "hovertext": [
            "Mont Saint Michel",
            "St Malo",
            "Bayeux",
            "Le Havre",
            "Rouen",
            "Paris",
            "Amiens",
            "Lille",
            "Strasbourg",
            "Chateau du Haut Koenigsbourg",
            "Colmar",
            "Eguisheim",
            "Besancon",
            "Dijon",
            "Annecy",
            "Grenoble",
            "Lyon",
            "Gorges du Verdon",
            "Bormes les Mimosas",
            "Cassis",
            "Marseille",
            "Aix en Provence",
            "Avignon",
            "Uzes",
            "Nimes",
            "Aigues Mortes",
            "Saintes Maries de la mer",
            "Collioure",
            "Carcassonne",
            "Ariege",
            "Toulouse",
            "Montauban",
            "Biarritz",
            "Bayonne",
            "La Rochelle"
           ],
           "lat": [
            48.6353494256,
            48.63250885,
            49.276465,
            49.49008699,
            49.4408228,
            48.87421372,
            49.8921749,
            50.6363018,
            48.5820517941,
            48.2470228,
            48.0762675,
            48.0437021981,
            47.2345273,
            47.3243384,
            45.8998809,
            45.189773,
            45.7606886,
            43.8419984839,
            43.1507533,
            43.2127069163,
            43.2978012,
            43.52688664,
            43.950894,
            44.0103511961,
            43.831888,
            43.57298752,
            43.451133,
            42.5244310979,
            43.2135992,
            42.8433267,
            43.6142037,
            44.0209955598,
            43.4702245,
            43.489513,
            46.143734
           ],
           "legendgroup": "",
           "lon": [
            -1.5103787184000002,
            -1.9864576500000002,
            -0.706367,
            0.09774695700000001,
            1.0973912,
            2.33110115,
            2.2889352,
            3.0608761,
            7.7494142564,
            7.34632093,
            7.3555119,
            7.3059976669,
            6.0274517,
            5.0302429,
            6.1191453,
            5.7281059,
            4.8368369,
            6.5363502502,
            6.3406583,
            5.5302556137,
            5.3732279,
            5.4472714700000004,
            4.812025,
            4.4221975386,
            4.3522837,
            4.1948247,
            4.430953,
            3.0903158521,
            2.3570812,
            1.7457363,
            1.4451265,
            1.349240014,
            -1.5678466,
            -1.479078,
            -1.160263
           ],
           "marker": {
            "color": [
             14.13,
             1.21,
             12.6,
             12.9,
             14.47,
             15.28,
             15.41,
             15.44,
             16.14,
             12.5,
             14.81,
             14.33,
             15.34,
             12.94,
             14.28,
             15.92,
             14.49,
             9.17,
             12.94,
             13.76,
             14.31,
             14.97,
             15.7,
             14.55,
             15.44,
             13.08,
             13.37,
             12.05,
             12.78,
             11.35,
             13.51,
             14.63,
             11.06,
             11.19,
             14.37
            ],
            "coloraxis": "coloraxis",
            "size": [
             58,
             80,
             67,
             64,
             59,
             46,
             52,
             45,
             45,
             51,
             50,
             50,
             45,
             58,
             54,
             53,
             44,
             61,
             64,
             56,
             58,
             42,
             44,
             51,
             46,
             63,
             64,
             84,
             69,
             60,
             65,
             58,
             94,
             94,
             55
            ],
            "sizemode": "area",
            "sizeref": 0.2475
           },
           "mode": "markers",
           "name": "",
           "showlegend": false,
           "subplot": "mapbox",
           "type": "scattermapbox"
          }
         ],
         "name": "2025-04-02 00:00:00"
        },
        {
         "data": [
          {
           "hovertemplate": "<b>%{hovertext}</b><br><br>date=2025-04-03 00:00:00<br>humidity=%{marker.size}<br>latitude=%{lat}<br>longitude=%{lon}<br>temp=%{marker.color}<extra></extra>",
           "hovertext": [
            "Mont Saint Michel",
            "St Malo",
            "Bayeux",
            "Le Havre",
            "Rouen",
            "Paris",
            "Amiens",
            "Lille",
            "Strasbourg",
            "Chateau du Haut Koenigsbourg",
            "Colmar",
            "Eguisheim",
            "Besancon",
            "Dijon",
            "Annecy",
            "Grenoble",
            "Lyon",
            "Gorges du Verdon",
            "Bormes les Mimosas",
            "Cassis",
            "Marseille",
            "Aix en Provence",
            "Avignon",
            "Uzes",
            "Nimes",
            "Aigues Mortes",
            "Saintes Maries de la mer",
            "Collioure",
            "Carcassonne",
            "Ariege",
            "Toulouse",
            "Montauban",
            "Biarritz",
            "Bayonne",
            "La Rochelle"
           ],
           "lat": [
            48.6353494256,
            48.63250885,
            49.276465,
            49.49008699,
            49.4408228,
            48.87421372,
            49.8921749,
            50.6363018,
            48.5820517941,
            48.2470228,
            48.0762675,
            48.0437021981,
            47.2345273,
            47.3243384,
            45.8998809,
            45.189773,
            45.7606886,
            43.8419984839,
            43.1507533,
            43.2127069163,
            43.2978012,
            43.52688664,
            43.950894,
            44.0103511961,
            43.831888,
            43.57298752,
            43.451133,
            42.5244310979,
            43.2135992,
            42.8433267,
            43.6142037,
            44.0209955598,
            43.4702245,
            43.489513,
            46.143734
           ],
           "legendgroup": "",
           "lon": [
            -1.5103787184000002,
            -1.9864576500000002,
            -0.706367,
            0.09774695700000001,
            1.0973912,
            2.33110115,
            2.2889352,
            3.0608761,
            7.7494142564,
            7.34632093,
            7.3555119,
            7.3059976669,
            6.0274517,
            5.0302429,
            6.1191453,
            5.7281059,
            4.8368369,
            6.5363502502,
            6.3406583,
            5.5302556137,
            5.3732279,
            5.4472714700000004,
            4.812025,
            4.4221975386,
            4.3522837,
            4.1948247,
            4.430953,
            3.0903158521,
            2.3570812,
            1.7457363,
            1.4451265,
            1.349240014,
            -1.5678466,
            -1.479078,
            -1.160263
           ],
           "marker": {
            "color": [
             16.19,
             1.2,
             16.88,
             15.15,
             17.69,
             18.9,
             17.12,
             17.77,
             15.83,
             14.57,
             16.87,
             16.67,
             17.61,
             16.47,
             17.94,
             19.07,
             18.02,
             13.91,
             15.08,
             15.25,
             15.6,
             18.48,
             18.84,
             17.49,
             18.41,
             14.51,
             14.41,
             16.46,
             16,
             15.72,
             17.25,
             17.59,
             18.2,
             19.38,
             15.73
            ],
            "coloraxis": "coloraxis",
            "size": [
             61,
             77,
             60,
             63,
             54,
             36,
             56,
             44,
             55,
             55,
             55,
             55,
             51,
             61,
             47,
             51,
             49,
             48,
             62,
             65,
             67,
             42,
             46,
             54,
             48,
             73,
             74,
             63,
             58,
             52,
             57,
             56,
             59,
             55,
             70
            ],
            "sizemode": "area",
            "sizeref": 0.2475
           },
           "mode": "markers",
           "name": "",
           "showlegend": false,
           "subplot": "mapbox",
           "type": "scattermapbox"
          }
         ],
         "name": "2025-04-03 00:00:00"
        },
        {
         "data": [
          {
           "hovertemplate": "<b>%{hovertext}</b><br><br>date=2025-04-04 00:00:00<br>humidity=%{marker.size}<br>latitude=%{lat}<br>longitude=%{lon}<br>temp=%{marker.color}<extra></extra>",
           "hovertext": [
            "Mont Saint Michel",
            "St Malo",
            "Bayeux",
            "Le Havre",
            "Rouen",
            "Paris",
            "Amiens",
            "Lille",
            "Strasbourg",
            "Chateau du Haut Koenigsbourg",
            "Colmar",
            "Eguisheim",
            "Besancon",
            "Dijon",
            "Annecy",
            "Grenoble",
            "Lyon",
            "Gorges du Verdon",
            "Bormes les Mimosas",
            "Cassis",
            "Marseille",
            "Aix en Provence",
            "Avignon",
            "Uzes",
            "Nimes",
            "Aigues Mortes",
            "Saintes Maries de la mer",
            "Collioure",
            "Carcassonne",
            "Ariege",
            "Toulouse",
            "Montauban",
            "Biarritz",
            "Bayonne",
            "La Rochelle"
           ],
           "lat": [
            48.6353494256,
            48.63250885,
            49.276465,
            49.49008699,
            49.4408228,
            48.87421372,
            49.8921749,
            50.6363018,
            48.5820517941,
            48.2470228,
            48.0762675,
            48.0437021981,
            47.2345273,
            47.3243384,
            45.8998809,
            45.189773,
            45.7606886,
            43.8419984839,
            43.1507533,
            43.2127069163,
            43.2978012,
            43.52688664,
            43.950894,
            44.0103511961,
            43.831888,
            43.57298752,
            43.451133,
            42.5244310979,
            43.2135992,
            42.8433267,
            43.6142037,
            44.0209955598,
            43.4702245,
            43.489513,
            46.143734
           ],
           "legendgroup": "",
           "lon": [
            -1.5103787184000002,
            -1.9864576500000002,
            -0.706367,
            0.09774695700000001,
            1.0973912,
            2.33110115,
            2.2889352,
            3.0608761,
            7.7494142564,
            7.34632093,
            7.3555119,
            7.3059976669,
            6.0274517,
            5.0302429,
            6.1191453,
            5.7281059,
            4.8368369,
            6.5363502502,
            6.3406583,
            5.5302556137,
            5.3732279,
            5.4472714700000004,
            4.812025,
            4.4221975386,
            4.3522837,
            4.1948247,
            4.430953,
            3.0903158521,
            2.3570812,
            1.7457363,
            1.4451265,
            1.349240014,
            -1.5678466,
            -1.479078,
            -1.160263
           ],
           "marker": {
            "color": [
             17.87,
             1.27,
             18.27,
             16.58,
             20.12,
             22.06,
             20.09,
             20.1,
             18.8,
             17.2,
             19.77,
             19.56,
             20.28,
             18.44,
             20.85,
             23.06,
             20.41,
             16.51,
             16.64,
             16.92,
             17.1,
             21.22,
             22.11,
             19.92,
             21.05,
             15.98,
             15.66,
             18.61,
             18.67,
             18.56,
             19.05,
             18.99,
             17.7,
             18.37,
             15.73
            ],
            "coloraxis": "coloraxis",
            "size": [
             60,
             99,
             62,
             64,
             53,
             38,
             52,
             43,
             52,
             51,
             51,
             51,
             49,
             60,
             46,
             41,
             42,
             41,
             61,
             61,
             64,
             33,
             36,
             49,
             43,
             60,
             67,
             51,
             48,
             41,
             47,
             49,
             54,
             52,
             66
            ],
            "sizemode": "area",
            "sizeref": 0.2475
           },
           "mode": "markers",
           "name": "",
           "showlegend": false,
           "subplot": "mapbox",
           "type": "scattermapbox"
          }
         ],
         "name": "2025-04-04 00:00:00"
        }
       ],
       "layout": {
        "coloraxis": {
         "cmax": 23.06,
         "cmin": -4.61,
         "colorbar": {
          "title": {
           "text": "temp"
          }
         },
         "colorscale": [
          [
           0,
           "rgb(0,0,131)"
          ],
          [
           0.2,
           "rgb(0,60,170)"
          ],
          [
           0.4,
           "rgb(5,255,255)"
          ],
          [
           0.6,
           "rgb(255,255,0)"
          ],
          [
           0.8,
           "rgb(250,0,0)"
          ],
          [
           1,
           "rgb(128,0,0)"
          ]
         ]
        },
        "height": 600,
        "legend": {
         "itemsizing": "constant",
         "tracegroupgap": 0
        },
        "mapbox": {
         "center": {
          "lat": 45.840102971194284,
          "lon": 3.4112066980142854
         },
         "domain": {
          "x": [
           0,
           1
          ],
          "y": [
           0,
           1
          ]
         },
         "style": "open-street-map",
         "zoom": 4
        },
        "sliders": [
         {
          "active": 0,
          "currentvalue": {
           "prefix": "date="
          },
          "len": 0.9,
          "pad": {
           "b": 10,
           "t": 60
          },
          "steps": [
           {
            "args": [
             [
              "2025-03-28 00:00:00"
             ],
             {
              "frame": {
               "duration": 0,
               "redraw": true
              },
              "fromcurrent": true,
              "mode": "immediate",
              "transition": {
               "duration": 0,
               "easing": "linear"
              }
             }
            ],
            "label": "2025-03-28 00:00:00",
            "method": "animate"
           },
           {
            "args": [
             [
              "2025-03-29 00:00:00"
             ],
             {
              "frame": {
               "duration": 0,
               "redraw": true
              },
              "fromcurrent": true,
              "mode": "immediate",
              "transition": {
               "duration": 0,
               "easing": "linear"
              }
             }
            ],
            "label": "2025-03-29 00:00:00",
            "method": "animate"
           },
           {
            "args": [
             [
              "2025-03-30 00:00:00"
             ],
             {
              "frame": {
               "duration": 0,
               "redraw": true
              },
              "fromcurrent": true,
              "mode": "immediate",
              "transition": {
               "duration": 0,
               "easing": "linear"
              }
             }
            ],
            "label": "2025-03-30 00:00:00",
            "method": "animate"
           },
           {
            "args": [
             [
              "2025-03-31 00:00:00"
             ],
             {
              "frame": {
               "duration": 0,
               "redraw": true
              },
              "fromcurrent": true,
              "mode": "immediate",
              "transition": {
               "duration": 0,
               "easing": "linear"
              }
             }
            ],
            "label": "2025-03-31 00:00:00",
            "method": "animate"
           },
           {
            "args": [
             [
              "2025-04-01 00:00:00"
             ],
             {
              "frame": {
               "duration": 0,
               "redraw": true
              },
              "fromcurrent": true,
              "mode": "immediate",
              "transition": {
               "duration": 0,
               "easing": "linear"
              }
             }
            ],
            "label": "2025-04-01 00:00:00",
            "method": "animate"
           },
           {
            "args": [
             [
              "2025-04-02 00:00:00"
             ],
             {
              "frame": {
               "duration": 0,
               "redraw": true
              },
              "fromcurrent": true,
              "mode": "immediate",
              "transition": {
               "duration": 0,
               "easing": "linear"
              }
             }
            ],
            "label": "2025-04-02 00:00:00",
            "method": "animate"
           },
           {
            "args": [
             [
              "2025-04-03 00:00:00"
             ],
             {
              "frame": {
               "duration": 0,
               "redraw": true
              },
              "fromcurrent": true,
              "mode": "immediate",
              "transition": {
               "duration": 0,
               "easing": "linear"
              }
             }
            ],
            "label": "2025-04-03 00:00:00",
            "method": "animate"
           },
           {
            "args": [
             [
              "2025-04-04 00:00:00"
             ],
             {
              "frame": {
               "duration": 0,
               "redraw": true
              },
              "fromcurrent": true,
              "mode": "immediate",
              "transition": {
               "duration": 0,
               "easing": "linear"
              }
             }
            ],
            "label": "2025-04-04 00:00:00",
            "method": "animate"
           }
          ],
          "x": 0.1,
          "xanchor": "left",
          "y": 0,
          "yanchor": "top"
         }
        ],
        "template": {
         "data": {
          "bar": [
           {
            "error_x": {
             "color": "#2a3f5f"
            },
            "error_y": {
             "color": "#2a3f5f"
            },
            "marker": {
             "line": {
              "color": "#E5ECF6",
              "width": 0.5
             },
             "pattern": {
              "fillmode": "overlay",
              "size": 10,
              "solidity": 0.2
             }
            },
            "type": "bar"
           }
          ],
          "barpolar": [
           {
            "marker": {
             "line": {
              "color": "#E5ECF6",
              "width": 0.5
             },
             "pattern": {
              "fillmode": "overlay",
              "size": 10,
              "solidity": 0.2
             }
            },
            "type": "barpolar"
           }
          ],
          "carpet": [
           {
            "aaxis": {
             "endlinecolor": "#2a3f5f",
             "gridcolor": "white",
             "linecolor": "white",
             "minorgridcolor": "white",
             "startlinecolor": "#2a3f5f"
            },
            "baxis": {
             "endlinecolor": "#2a3f5f",
             "gridcolor": "white",
             "linecolor": "white",
             "minorgridcolor": "white",
             "startlinecolor": "#2a3f5f"
            },
            "type": "carpet"
           }
          ],
          "choropleth": [
           {
            "colorbar": {
             "outlinewidth": 0,
             "ticks": ""
            },
            "type": "choropleth"
           }
          ],
          "contour": [
           {
            "colorbar": {
             "outlinewidth": 0,
             "ticks": ""
            },
            "colorscale": [
             [
              0,
              "#0d0887"
             ],
             [
              0.1111111111111111,
              "#46039f"
             ],
             [
              0.2222222222222222,
              "#7201a8"
             ],
             [
              0.3333333333333333,
              "#9c179e"
             ],
             [
              0.4444444444444444,
              "#bd3786"
             ],
             [
              0.5555555555555556,
              "#d8576b"
             ],
             [
              0.6666666666666666,
              "#ed7953"
             ],
             [
              0.7777777777777778,
              "#fb9f3a"
             ],
             [
              0.8888888888888888,
              "#fdca26"
             ],
             [
              1,
              "#f0f921"
             ]
            ],
            "type": "contour"
           }
          ],
          "contourcarpet": [
           {
            "colorbar": {
             "outlinewidth": 0,
             "ticks": ""
            },
            "type": "contourcarpet"
           }
          ],
          "heatmap": [
           {
            "colorbar": {
             "outlinewidth": 0,
             "ticks": ""
            },
            "colorscale": [
             [
              0,
              "#0d0887"
             ],
             [
              0.1111111111111111,
              "#46039f"
             ],
             [
              0.2222222222222222,
              "#7201a8"
             ],
             [
              0.3333333333333333,
              "#9c179e"
             ],
             [
              0.4444444444444444,
              "#bd3786"
             ],
             [
              0.5555555555555556,
              "#d8576b"
             ],
             [
              0.6666666666666666,
              "#ed7953"
             ],
             [
              0.7777777777777778,
              "#fb9f3a"
             ],
             [
              0.8888888888888888,
              "#fdca26"
             ],
             [
              1,
              "#f0f921"
             ]
            ],
            "type": "heatmap"
           }
          ],
          "heatmapgl": [
           {
            "colorbar": {
             "outlinewidth": 0,
             "ticks": ""
            },
            "colorscale": [
             [
              0,
              "#0d0887"
             ],
             [
              0.1111111111111111,
              "#46039f"
             ],
             [
              0.2222222222222222,
              "#7201a8"
             ],
             [
              0.3333333333333333,
              "#9c179e"
             ],
             [
              0.4444444444444444,
              "#bd3786"
             ],
             [
              0.5555555555555556,
              "#d8576b"
             ],
             [
              0.6666666666666666,
              "#ed7953"
             ],
             [
              0.7777777777777778,
              "#fb9f3a"
             ],
             [
              0.8888888888888888,
              "#fdca26"
             ],
             [
              1,
              "#f0f921"
             ]
            ],
            "type": "heatmapgl"
           }
          ],
          "histogram": [
           {
            "marker": {
             "pattern": {
              "fillmode": "overlay",
              "size": 10,
              "solidity": 0.2
             }
            },
            "type": "histogram"
           }
          ],
          "histogram2d": [
           {
            "colorbar": {
             "outlinewidth": 0,
             "ticks": ""
            },
            "colorscale": [
             [
              0,
              "#0d0887"
             ],
             [
              0.1111111111111111,
              "#46039f"
             ],
             [
              0.2222222222222222,
              "#7201a8"
             ],
             [
              0.3333333333333333,
              "#9c179e"
             ],
             [
              0.4444444444444444,
              "#bd3786"
             ],
             [
              0.5555555555555556,
              "#d8576b"
             ],
             [
              0.6666666666666666,
              "#ed7953"
             ],
             [
              0.7777777777777778,
              "#fb9f3a"
             ],
             [
              0.8888888888888888,
              "#fdca26"
             ],
             [
              1,
              "#f0f921"
             ]
            ],
            "type": "histogram2d"
           }
          ],
          "histogram2dcontour": [
           {
            "colorbar": {
             "outlinewidth": 0,
             "ticks": ""
            },
            "colorscale": [
             [
              0,
              "#0d0887"
             ],
             [
              0.1111111111111111,
              "#46039f"
             ],
             [
              0.2222222222222222,
              "#7201a8"
             ],
             [
              0.3333333333333333,
              "#9c179e"
             ],
             [
              0.4444444444444444,
              "#bd3786"
             ],
             [
              0.5555555555555556,
              "#d8576b"
             ],
             [
              0.6666666666666666,
              "#ed7953"
             ],
             [
              0.7777777777777778,
              "#fb9f3a"
             ],
             [
              0.8888888888888888,
              "#fdca26"
             ],
             [
              1,
              "#f0f921"
             ]
            ],
            "type": "histogram2dcontour"
           }
          ],
          "mesh3d": [
           {
            "colorbar": {
             "outlinewidth": 0,
             "ticks": ""
            },
            "type": "mesh3d"
           }
          ],
          "parcoords": [
           {
            "line": {
             "colorbar": {
              "outlinewidth": 0,
              "ticks": ""
             }
            },
            "type": "parcoords"
           }
          ],
          "pie": [
           {
            "automargin": true,
            "type": "pie"
           }
          ],
          "scatter": [
           {
            "fillpattern": {
             "fillmode": "overlay",
             "size": 10,
             "solidity": 0.2
            },
            "type": "scatter"
           }
          ],
          "scatter3d": [
           {
            "line": {
             "colorbar": {
              "outlinewidth": 0,
              "ticks": ""
             }
            },
            "marker": {
             "colorbar": {
              "outlinewidth": 0,
              "ticks": ""
             }
            },
            "type": "scatter3d"
           }
          ],
          "scattercarpet": [
           {
            "marker": {
             "colorbar": {
              "outlinewidth": 0,
              "ticks": ""
             }
            },
            "type": "scattercarpet"
           }
          ],
          "scattergeo": [
           {
            "marker": {
             "colorbar": {
              "outlinewidth": 0,
              "ticks": ""
             }
            },
            "type": "scattergeo"
           }
          ],
          "scattergl": [
           {
            "marker": {
             "colorbar": {
              "outlinewidth": 0,
              "ticks": ""
             }
            },
            "type": "scattergl"
           }
          ],
          "scattermapbox": [
           {
            "marker": {
             "colorbar": {
              "outlinewidth": 0,
              "ticks": ""
             }
            },
            "type": "scattermapbox"
           }
          ],
          "scatterpolar": [
           {
            "marker": {
             "colorbar": {
              "outlinewidth": 0,
              "ticks": ""
             }
            },
            "type": "scatterpolar"
           }
          ],
          "scatterpolargl": [
           {
            "marker": {
             "colorbar": {
              "outlinewidth": 0,
              "ticks": ""
             }
            },
            "type": "scatterpolargl"
           }
          ],
          "scatterternary": [
           {
            "marker": {
             "colorbar": {
              "outlinewidth": 0,
              "ticks": ""
             }
            },
            "type": "scatterternary"
           }
          ],
          "surface": [
           {
            "colorbar": {
             "outlinewidth": 0,
             "ticks": ""
            },
            "colorscale": [
             [
              0,
              "#0d0887"
             ],
             [
              0.1111111111111111,
              "#46039f"
             ],
             [
              0.2222222222222222,
              "#7201a8"
             ],
             [
              0.3333333333333333,
              "#9c179e"
             ],
             [
              0.4444444444444444,
              "#bd3786"
             ],
             [
              0.5555555555555556,
              "#d8576b"
             ],
             [
              0.6666666666666666,
              "#ed7953"
             ],
             [
              0.7777777777777778,
              "#fb9f3a"
             ],
             [
              0.8888888888888888,
              "#fdca26"
             ],
             [
              1,
              "#f0f921"
             ]
            ],
            "type": "surface"
           }
          ],
          "table": [
           {
            "cells": {
             "fill": {
              "color": "#EBF0F8"
             },
             "line": {
              "color": "white"
             }
            },
            "header": {
             "fill": {
              "color": "#C8D4E3"
             },
             "line": {
              "color": "white"
             }
            },
            "type": "table"
           }
          ]
         },
         "layout": {
          "annotationdefaults": {
           "arrowcolor": "#2a3f5f",
           "arrowhead": 0,
           "arrowwidth": 1
          },
          "autotypenumbers": "strict",
          "coloraxis": {
           "colorbar": {
            "outlinewidth": 0,
            "ticks": ""
           }
          },
          "colorscale": {
           "diverging": [
            [
             0,
             "#8e0152"
            ],
            [
             0.1,
             "#c51b7d"
            ],
            [
             0.2,
             "#de77ae"
            ],
            [
             0.3,
             "#f1b6da"
            ],
            [
             0.4,
             "#fde0ef"
            ],
            [
             0.5,
             "#f7f7f7"
            ],
            [
             0.6,
             "#e6f5d0"
            ],
            [
             0.7,
             "#b8e186"
            ],
            [
             0.8,
             "#7fbc41"
            ],
            [
             0.9,
             "#4d9221"
            ],
            [
             1,
             "#276419"
            ]
           ],
           "sequential": [
            [
             0,
             "#0d0887"
            ],
            [
             0.1111111111111111,
             "#46039f"
            ],
            [
             0.2222222222222222,
             "#7201a8"
            ],
            [
             0.3333333333333333,
             "#9c179e"
            ],
            [
             0.4444444444444444,
             "#bd3786"
            ],
            [
             0.5555555555555556,
             "#d8576b"
            ],
            [
             0.6666666666666666,
             "#ed7953"
            ],
            [
             0.7777777777777778,
             "#fb9f3a"
            ],
            [
             0.8888888888888888,
             "#fdca26"
            ],
            [
             1,
             "#f0f921"
            ]
           ],
           "sequentialminus": [
            [
             0,
             "#0d0887"
            ],
            [
             0.1111111111111111,
             "#46039f"
            ],
            [
             0.2222222222222222,
             "#7201a8"
            ],
            [
             0.3333333333333333,
             "#9c179e"
            ],
            [
             0.4444444444444444,
             "#bd3786"
            ],
            [
             0.5555555555555556,
             "#d8576b"
            ],
            [
             0.6666666666666666,
             "#ed7953"
            ],
            [
             0.7777777777777778,
             "#fb9f3a"
            ],
            [
             0.8888888888888888,
             "#fdca26"
            ],
            [
             1,
             "#f0f921"
            ]
           ]
          },
          "colorway": [
           "#636efa",
           "#EF553B",
           "#00cc96",
           "#ab63fa",
           "#FFA15A",
           "#19d3f3",
           "#FF6692",
           "#B6E880",
           "#FF97FF",
           "#FECB52"
          ],
          "font": {
           "color": "#2a3f5f"
          },
          "geo": {
           "bgcolor": "white",
           "lakecolor": "white",
           "landcolor": "#E5ECF6",
           "showlakes": true,
           "showland": true,
           "subunitcolor": "white"
          },
          "hoverlabel": {
           "align": "left"
          },
          "hovermode": "closest",
          "mapbox": {
           "style": "light"
          },
          "paper_bgcolor": "white",
          "plot_bgcolor": "#E5ECF6",
          "polar": {
           "angularaxis": {
            "gridcolor": "white",
            "linecolor": "white",
            "ticks": ""
           },
           "bgcolor": "#E5ECF6",
           "radialaxis": {
            "gridcolor": "white",
            "linecolor": "white",
            "ticks": ""
           }
          },
          "scene": {
           "xaxis": {
            "backgroundcolor": "#E5ECF6",
            "gridcolor": "white",
            "gridwidth": 2,
            "linecolor": "white",
            "showbackground": true,
            "ticks": "",
            "zerolinecolor": "white"
           },
           "yaxis": {
            "backgroundcolor": "#E5ECF6",
            "gridcolor": "white",
            "gridwidth": 2,
            "linecolor": "white",
            "showbackground": true,
            "ticks": "",
            "zerolinecolor": "white"
           },
           "zaxis": {
            "backgroundcolor": "#E5ECF6",
            "gridcolor": "white",
            "gridwidth": 2,
            "linecolor": "white",
            "showbackground": true,
            "ticks": "",
            "zerolinecolor": "white"
           }
          },
          "shapedefaults": {
           "line": {
            "color": "#2a3f5f"
           }
          },
          "ternary": {
           "aaxis": {
            "gridcolor": "white",
            "linecolor": "white",
            "ticks": ""
           },
           "baxis": {
            "gridcolor": "white",
            "linecolor": "white",
            "ticks": ""
           },
           "bgcolor": "#E5ECF6",
           "caxis": {
            "gridcolor": "white",
            "linecolor": "white",
            "ticks": ""
           }
          },
          "title": {
           "x": 0.05
          },
          "xaxis": {
           "automargin": true,
           "gridcolor": "white",
           "linecolor": "white",
           "ticks": "",
           "title": {
            "standoff": 15
           },
           "zerolinecolor": "white",
           "zerolinewidth": 2
          },
          "yaxis": {
           "automargin": true,
           "gridcolor": "white",
           "linecolor": "white",
           "ticks": "",
           "title": {
            "standoff": 15
           },
           "zerolinecolor": "white",
           "zerolinewidth": 2
          }
         }
        },
        "title": {
         "text": "Temperature and humidity (size) for 35 cities in the next 7 days"
        },
        "updatemenus": [
         {
          "buttons": [
           {
            "args": [
             null,
             {
              "frame": {
               "duration": 500,
               "redraw": true
              },
              "fromcurrent": true,
              "mode": "immediate",
              "transition": {
               "duration": 500,
               "easing": "linear"
              }
             }
            ],
            "label": "&#9654;",
            "method": "animate"
           },
           {
            "args": [
             [
              null
             ],
             {
              "frame": {
               "duration": 0,
               "redraw": true
              },
              "fromcurrent": true,
              "mode": "immediate",
              "transition": {
               "duration": 0,
               "easing": "linear"
              }
             }
            ],
            "label": "&#9724;",
            "method": "animate"
           }
          ],
          "direction": "left",
          "pad": {
           "r": 10,
           "t": 70
          },
          "showactive": false,
          "type": "buttons",
          "x": 0.1,
          "xanchor": "right",
          "y": 0,
          "yanchor": "top"
         }
        ],
        "width": 600
       }
      }
     },
     "metadata": {},
     "output_type": "display_data"
    }
   ],
   "source": [
    "fig = px.scatter_mapbox(df_weather, lat=\"latitude\", lon=\"longitude\", color=\"temp\", size=\"humidity\",\n",
    "                        center=dict(lat=df_weather[\"latitude\"].mean(), lon=df_weather[\"longitude\"].mean()), \n",
    "                        zoom=4, mapbox_style=\"open-street-map\", width=600, height=600, \n",
    "                        color_continuous_scale = \"Jet\", hover_name='city_name',\n",
    "                        animation_frame = \"date\", range_color=[df_weather['temp'].min(), df_weather['temp'].max()],\n",
    "                        title='Temperature and humidity (size) for 35 cities in the next 7 days')\n",
    "fig.show()"
   ]
  },
  {
   "cell_type": "markdown",
   "metadata": {},
   "source": [
    "## Map of top-20 hotels in the 5 best cities"
   ]
  },
  {
   "cell_type": "code",
   "execution_count": null,
   "metadata": {},
   "outputs": [
    {
     "name": "stdout",
     "output_type": "stream",
     "text": [
      "['Paris', 'Lille', 'Besancon', 'Grenoble', 'Toulouse']\n",
      "(108, 17)\n"
     ]
    },
    {
     "data": {
      "text/html": [
       "<div>\n",
       "<style scoped>\n",
       "    .dataframe tbody tr th:only-of-type {\n",
       "        vertical-align: middle;\n",
       "    }\n",
       "\n",
       "    .dataframe tbody tr th {\n",
       "        vertical-align: top;\n",
       "    }\n",
       "\n",
       "    .dataframe thead th {\n",
       "        text-align: right;\n",
       "    }\n",
       "</style>\n",
       "<table border=\"1\" class=\"dataframe\">\n",
       "  <thead>\n",
       "    <tr style=\"text-align: right;\">\n",
       "      <th></th>\n",
       "      <th>city_id</th>\n",
       "      <th>city_name</th>\n",
       "      <th>date</th>\n",
       "      <th>temp</th>\n",
       "      <th>humidity</th>\n",
       "      <th>wind</th>\n",
       "      <th>type_weather</th>\n",
       "      <th>name</th>\n",
       "      <th>latitude</th>\n",
       "      <th>longitude</th>\n",
       "      <th>score</th>\n",
       "      <th>url</th>\n",
       "      <th>description</th>\n",
       "      <th>hotel_id</th>\n",
       "      <th>short_description1</th>\n",
       "      <th>short_description2</th>\n",
       "      <th>short_description3</th>\n",
       "    </tr>\n",
       "  </thead>\n",
       "  <tbody>\n",
       "    <tr>\n",
       "      <th>1028</th>\n",
       "      <td>6</td>\n",
       "      <td>Paris</td>\n",
       "      <td>2025-04-04</td>\n",
       "      <td>22.06</td>\n",
       "      <td>38</td>\n",
       "      <td>114</td>\n",
       "      <td>Clear</td>\n",
       "      <td>Appart Merryland Paris Châtelet</td>\n",
       "      <td>48.860978</td>\n",
       "      <td>2.348225</td>\n",
       "      <td>9.1</td>\n",
       "      <td>https://www.booking.com/hotel/fr/appartement-p...</td>\n",
       "      <td>Set in the centre of Paris, Appart Merryland P...</td>\n",
       "      <td>14</td>\n",
       "      <td>Set in the centre of Paris, Appart Merryland P...</td>\n",
       "      <td>historic building. This recently renovated ap...</td>\n",
       "      <td>d 800 metres from Sainte-Chapelle. Orsay Museu...</td>\n",
       "    </tr>\n",
       "    <tr>\n",
       "      <th>1029</th>\n",
       "      <td>6</td>\n",
       "      <td>Paris</td>\n",
       "      <td>2025-04-04</td>\n",
       "      <td>22.06</td>\n",
       "      <td>38</td>\n",
       "      <td>114</td>\n",
       "      <td>Clear</td>\n",
       "      <td>Appartement Paris 16 proche à 20 minutes de la...</td>\n",
       "      <td>48.838346</td>\n",
       "      <td>2.260577</td>\n",
       "      <td>9.3</td>\n",
       "      <td>https://www.booking.com/hotel/fr/elegance-pari...</td>\n",
       "      <td>Offrant une vue sur la cour intérieure, l&amp;#x27...</td>\n",
       "      <td>5</td>\n",
       "      <td>Offrant une vue sur la cour intérieure, l&amp;#x27...</td>\n",
       "      <td>iffel est situé à Paris, à 4,1 km de la tour E...</td>\n",
       "      <td>de Versailles. Il propose un ascenseur, un ser...</td>\n",
       "    </tr>\n",
       "    <tr>\n",
       "      <th>1030</th>\n",
       "      <td>6</td>\n",
       "      <td>Paris</td>\n",
       "      <td>2025-04-04</td>\n",
       "      <td>22.06</td>\n",
       "      <td>38</td>\n",
       "      <td>114</td>\n",
       "      <td>Clear</td>\n",
       "      <td>Appartement parisien baigné de soleil</td>\n",
       "      <td>48.883823</td>\n",
       "      <td>2.292958</td>\n",
       "      <td>8.3</td>\n",
       "      <td>https://www.booking.com/hotel/fr/appartement-p...</td>\n",
       "      <td>L&amp;#x27;Appartement parisien baigné de soleil e...</td>\n",
       "      <td>8</td>\n",
       "      <td>L&amp;#x27;Appartement parisien baigné de soleil e...</td>\n",
       "      <td>z à 1,3 km du palais des congrès de Paris, à 3...</td>\n",
       "      <td>fel. Vous séjournerez à 3,5 km de l&amp;#x27;opéra...</td>\n",
       "    </tr>\n",
       "    <tr>\n",
       "      <th>1031</th>\n",
       "      <td>6</td>\n",
       "      <td>Paris</td>\n",
       "      <td>2025-04-04</td>\n",
       "      <td>22.06</td>\n",
       "      <td>38</td>\n",
       "      <td>114</td>\n",
       "      <td>Clear</td>\n",
       "      <td>BESTInPARIS</td>\n",
       "      <td>48.860363</td>\n",
       "      <td>2.347777</td>\n",
       "      <td>9.3</td>\n",
       "      <td>https://www.booking.com/hotel/fr/bestinparis.f...</td>\n",
       "      <td>Situé à Paris, à moins de 1 km du musée du Lou...</td>\n",
       "      <td>20</td>\n",
       "      <td>Situé à Paris, à moins de 1 km du musée du Lou...</td>\n",
       "      <td>, le BESTInPARIS propose la climatisation. Il ...</td>\n",
       "      <td>4,1 km du musée d&amp;#x27;Orsay et à 4,4 km de l&amp;...</td>\n",
       "    </tr>\n",
       "    <tr>\n",
       "      <th>1032</th>\n",
       "      <td>6</td>\n",
       "      <td>Paris</td>\n",
       "      <td>2025-04-04</td>\n",
       "      <td>22.06</td>\n",
       "      <td>38</td>\n",
       "      <td>114</td>\n",
       "      <td>Clear</td>\n",
       "      <td>Charming Studio Ideally Located in Paris, 9th</td>\n",
       "      <td>48.882512</td>\n",
       "      <td>2.333105</td>\n",
       "      <td>8.7</td>\n",
       "      <td>https://www.booking.com/hotel/fr/charming-stud...</td>\n",
       "      <td>Offrant une vue sur la ville, le Charming Stud...</td>\n",
       "      <td>12</td>\n",
       "      <td>Offrant une vue sur la ville, le Charming Stud...</td>\n",
       "      <td>tué à Paris, à 1,2 km de la gare Saint-Lazare ...</td>\n",
       "      <td>d&amp;#x27;un service de sécurité d&amp;#x27;une jour...</td>\n",
       "    </tr>\n",
       "  </tbody>\n",
       "</table>\n",
       "</div>"
      ],
      "text/plain": [
       "      city_id city_name       date   temp  humidity  wind type_weather  \\\n",
       "1028        6     Paris 2025-04-04  22.06        38   114        Clear   \n",
       "1029        6     Paris 2025-04-04  22.06        38   114        Clear   \n",
       "1030        6     Paris 2025-04-04  22.06        38   114        Clear   \n",
       "1031        6     Paris 2025-04-04  22.06        38   114        Clear   \n",
       "1032        6     Paris 2025-04-04  22.06        38   114        Clear   \n",
       "\n",
       "                                                   name   latitude  longitude  \\\n",
       "1028                    Appart Merryland Paris Châtelet  48.860978   2.348225   \n",
       "1029  Appartement Paris 16 proche à 20 minutes de la...  48.838346   2.260577   \n",
       "1030              Appartement parisien baigné de soleil  48.883823   2.292958   \n",
       "1031                                        BESTInPARIS  48.860363   2.347777   \n",
       "1032      Charming Studio Ideally Located in Paris, 9th  48.882512   2.333105   \n",
       "\n",
       "      score                                                url  \\\n",
       "1028    9.1  https://www.booking.com/hotel/fr/appartement-p...   \n",
       "1029    9.3  https://www.booking.com/hotel/fr/elegance-pari...   \n",
       "1030    8.3  https://www.booking.com/hotel/fr/appartement-p...   \n",
       "1031    9.3  https://www.booking.com/hotel/fr/bestinparis.f...   \n",
       "1032    8.7  https://www.booking.com/hotel/fr/charming-stud...   \n",
       "\n",
       "                                            description  hotel_id  \\\n",
       "1028  Set in the centre of Paris, Appart Merryland P...        14   \n",
       "1029  Offrant une vue sur la cour intérieure, l&#x27...         5   \n",
       "1030  L&#x27;Appartement parisien baigné de soleil e...         8   \n",
       "1031  Situé à Paris, à moins de 1 km du musée du Lou...        20   \n",
       "1032  Offrant une vue sur la ville, le Charming Stud...        12   \n",
       "\n",
       "                                     short_description1  \\\n",
       "1028  Set in the centre of Paris, Appart Merryland P...   \n",
       "1029  Offrant une vue sur la cour intérieure, l&#x27...   \n",
       "1030  L&#x27;Appartement parisien baigné de soleil e...   \n",
       "1031  Situé à Paris, à moins de 1 km du musée du Lou...   \n",
       "1032  Offrant une vue sur la ville, le Charming Stud...   \n",
       "\n",
       "                                     short_description2  \\\n",
       "1028   historic building. This recently renovated ap...   \n",
       "1029  iffel est situé à Paris, à 4,1 km de la tour E...   \n",
       "1030  z à 1,3 km du palais des congrès de Paris, à 3...   \n",
       "1031  , le BESTInPARIS propose la climatisation. Il ...   \n",
       "1032  tué à Paris, à 1,2 km de la gare Saint-Lazare ...   \n",
       "\n",
       "                                     short_description3  \n",
       "1028  d 800 metres from Sainte-Chapelle. Orsay Museu...  \n",
       "1029  de Versailles. Il propose un ascenseur, un ser...  \n",
       "1030  fel. Vous séjournerez à 3,5 km de l&#x27;opéra...  \n",
       "1031  4,1 km du musée d&#x27;Orsay et à 4,4 km de l&...  \n",
       "1032   d&#x27;un service de sécurité d&#x27;une jour...  "
      ]
     },
     "metadata": {},
     "output_type": "display_data"
    }
   ],
   "source": [
    "best5_cities = df_weather_7day.loc[df_weather_7day['temp']>19,:]\\\n",
    "    .loc[df_weather_7day['humidity']<50,:]\\\n",
    "    .loc[df_weather_7day['wind']<150,\"city_name\"].to_list()\n",
    "print(best5_cities)\n",
    "\n",
    "df_hotels = df.loc[df['city_name'].isin(best5_cities), :].loc[df['date'] == '2025-04-04', :]\n",
    "df_hotels['short_description1'] = [x[:100] for x in df_hotels['description']]\n",
    "df_hotels['short_description2'] = [x[100:200] for x in df_hotels['description']]\n",
    "df_hotels['short_description3'] = [x[200:300] for x in df_hotels['description']]\n",
    "print(df_hotels.shape)\n",
    "df_hotels.head()\n"
   ]
  },
  {
   "cell_type": "code",
   "execution_count": null,
   "metadata": {},
   "outputs": [
    {
     "data": {
      "application/vnd.plotly.v1+json": {
       "config": {
        "plotlyServerURL": "https://plot.ly"
       },
       "data": [
        {
         "customdata": [
          [
           "Set in the centre of Paris, Appart Merryland Paris Châtelet offers accommodation with free WiFi in a",
           " historic building. This recently renovated apartment is located 1.1 km from Notre Dame Cathedral an",
           "d 800 metres from Sainte-Chapelle. Orsay Museum is 3.2 km from the apartment and Opéra Bastille is 3"
          ],
          [
           "Offrant une vue sur la cour intérieure, l&#x27;Appartement Paris 16 proche à 20 minutes de la Tour E",
           "iffel est situé à Paris, à 4,1 km de la tour Eiffel et à 5,3 km du parc des expositions de la porte ",
           "de Versailles. Il propose un ascenseur, un service d&#x27;enregistrement et de départ privés ainsi q"
          ],
          [
           "L&#x27;Appartement parisien baigné de soleil est situé dans le 17ème arrondissement. Vous séjournere",
           "z à 1,3 km du palais des congrès de Paris, à 3 km de la gare Saint-Lazare et à 3,4 km de la tour Eif",
           "fel. Vous séjournerez à 3,5 km de l&#x27;opéra Garnier, à 3,9 km de la station de métro Pigalle et à"
          ],
          [
           "Situé à Paris, à moins de 1 km du musée du Louvre et à 12 minutes à pied de la cathédrale Notre-Dame",
           ", le BESTInPARIS propose la climatisation. Il se trouve à environ 3,1 km de l&#x27;opéra Garnier, à ",
           "4,1 km du musée d&#x27;Orsay et à 4,4 km de l&#x27;opéra Bastille. Il se trouve à 1,3 km du centre-v"
          ],
          [
           "Offrant une vue sur la ville, le Charming Studio Idéalement situé à Paris, 9th est un hébergement si",
           "tué à Paris, à 1,2 km de la gare Saint-Lazare et à 1,5 km de l&#x27;opéra Garnier. Vous bénéficierez",
           " d&#x27;un service de sécurité d&#x27;une journée, d&#x27;une supérette et d&#x27;une connexion Wi-F"
          ],
          [
           "Situé à Paris, en Île-de-France, le Cosy 1 bedroom Paris 15 dispose d&#x27;une terrasse. Il est situ",
           "é à 2,4 km de la tour Eiffel et dispose d&#x27;un ascenseur. Une connexion Wi-Fi est disponible grat",
           "uitement dans l&#x27;ensemble de l&#x27;établissement et le musée Rodin se trouve à 2,4 km.\n\nCet app"
          ],
          [
           "Idéalement situé dans le centre de Paris, l&#x27;HOTEL DU PRINTEMPS propose un petit-déjeuner contin",
           "ental et une connexion Wi-Fi gratuite dans l&#x27;ensemble de ses locaux. Cet hôtel 3 étoiles propos",
           "e des chambres climatisées avec salle de bains privative. L&#x27;établissement assure des services d"
          ],
          [
           "L&#x27;Hôtel Mirabeau Eiffel est situé dans le 15ème arrondissement de Paris. Il propose des héberge",
           "ments contemporains et une réception ouverte 24h/24. Vous pourrez vous détendre sur la terrasse de l",
           "&#x27;hôtel. La station de métro Javel (ligne 10) est à 350 mètres et permet d&#x27;accéder directem"
          ],
          [
           "Situé dans le centre de Paris, à 2 minutes à pied de l&#x27;opéra Garnier et des Galeries Lafayette,",
           " l’Hotel Prince Albert Opéra propose des chambres simples dotées d&#x27;une télévision à écran plat.",
           " Une connexion Wi-Fi est disponible gratuitement dans tout l’hôtel.\n\nToutes les chambres du Prince A"
          ],
          [
           "Composé de 2 bâtiments différents, l&#x27;Hotel Terminus Montparnasse propose des hébergements accep",
           "tant les animaux domestiques à Paris. La connexion Wi-Fi est gratuite.\n\nCertaines chambres sont dess",
           "ervies par un ascenseur tandis que d&#x27;autres sont accessibles par des escaliers. Toutes les cham"
          ],
          [
           "Situé à 800 mètres du centre Pompidou, l&#x27;Hotel Zora propose des hébergements à Paris dotés d&#x",
           "27;une connexion Wi-Fi gratuite.\n\nToutes les chambres sont équipées d&#x27;une télévision à écran pl",
           "at et d&#x27;une salle de bains privative avec articles de toilette gratuits et sèche-cheveux.\n\nLe m"
          ],
          [
           "L&#x27;Hôtel Gérando vous accueille dans le quartier de Montmartre à Paris. Il vous propose une réce",
           "ption ouverte 24h/24, une bagagerie et une connexion Wi-Fi gratuite.\n\nSes chambres insonorisées disp",
           "osent d&#x27;un bureau, d&#x27;une télévision par satellite à écran plat et d&#x27;une salle de bain"
          ],
          [
           "Situé à Paris, à moins de 800 mètres de la gare de l&#x27;Est, l&#x27;Hôtel du Marché Paris propose ",
           "un service de concierge, des chambres non-fumeurs, un salon commun, une connexion Wi-Fi gratuite et ",
           "une terrasse. Il se trouve à environ 1,2 km de la gare du Nord, à 1,4 km du centre Pompidou et à 2,5"
          ],
          [
           "Le Kyriad Hotel XIII Italie Gobelins est situé dans le 13ème arrondissement de Paris. Il propose des",
           " chambres avec salle de bains privative dotées d&#x27;une connexion Wi-Fi à 100 mètres de la station",
           " de métro Les Gobelins.\n\nLes chambres de l&#x27;hôtel Kyriad disposent d&#x27;une télévision par sat"
          ],
          [
           "Cet hôtel Kyriad se situe tout près de la place de la République à Paris. Il propose une réception o",
           "uverte 24h/24 et une connexion Wi-Fi gratuite.\n\nLes chambres du Kyriad Paris 10 disposent d&#x27;une",
           " salle de bains privative avec baignoire ou douche ainsi que d&#x27;une télévision à écran plat par "
          ],
          [
           "Le GuestReady - Quiet Studio near Musée du Louvre est situé à Paris, à 1,2 km du centre Pompidou et ",
           "de la station de métro Gare de l&#x27;Est, dans une région propice au vélo. Offrant une vue sur la v",
           "ille, il se trouve à 1,2 km de la gare de l&#x27;Est et à 1,7 km de la station de métro Gare du Nord"
          ],
          [
           "Situé en plein cœur de Paris, Le Wagram - With Terrasse - Arc de Triomphe offre une vue sur la ville",
           " depuis sa terrasse. Cet appartement récemment rénové est situé à 700 mètres de l&#x27;Arc de Triomp",
           "he et à 1,7 km du palais des congrès de Paris. L&#x27;établissement dispose d&#x27;un ascenseur et d"
          ],
          [
           "Situé à Paris, dans le 12ème arrondissement, le Motel One Paris-Porte Dorée dispose d&#x27;un bar et",
           " d&#x27;un jardin. Vous serez à 6 minutes à pied de la station de métro Porte Dorée, à 4 km de l&#x2",
           "7;opéra Bastille et à 6 km de la cathédrale Notre-Dame.\n\nLes chambres climatisées comportent un bure"
          ],
          [
           "Idéalement situé dans le 9ème arrondissement. Le Victoire est situé à Paris, à moins de 1 km de l&#x",
           "27;opéra Garnier, à 11 minutes à pied de la station de métro Pigalle et à 1,4 km de la gare du Nord.",
           " Vous séjournerez à proximité de plusieurs attractions réputées, à 1,7 km de la gare de l&#x27;Est, "
          ],
          [
           "Offrant une vue sur la cour intérieure, l&#x27;appartement atypique aux Batignolles est situé à Pari",
           "s, à 1,3 km de la station de métro Pigalle et à 1,8 km de l&#x27;opéra Garnier. Il se trouve à envir",
           "on 1,5 km de la salle de concert La Cigale, à 2,7 km du musée de l&#x27;Orangerie et de l&#x27;Arc d"
          ]
         ],
         "hovertemplate": "<b>Description: </b><br> %{customdata[0]} <br> %{customdata[1]} <br> %{customdata[2]}",
         "lat": [
          48.8609777,
          48.838346,
          48.8838232,
          48.86036297,
          48.882512,
          48.8428873,
          48.87476116,
          48.84405703,
          48.87421372,
          48.84433,
          48.86645888,
          48.88253133,
          48.87102,
          48.83379537,
          48.87279887,
          48.8678043,
          48.8764173,
          48.834942,
          48.8750475,
          48.8841322
         ],
         "legendgroup": "",
         "lon": [
          2.3482250000000002,
          2.2605771,
          2.2929584,
          2.34777711,
          2.3331046,
          2.2989858,
          2.32643598,
          2.27965744,
          2.33110115,
          2.3233129999999997,
          2.34674074,
          2.34581105,
          2.357519,
          2.35496745,
          2.36122906,
          2.3564233,
          2.2975282,
          2.410246,
          2.3391424,
          2.3235932999999998
         ],
         "marker": {
          "color": [
           9.1,
           9.3,
           8.3,
           9.3,
           8.7,
           9.4,
           7.9,
           7.1,
           8.8,
           7.4,
           8.5,
           8.2,
           7.1,
           7.9,
           7.1,
           8.2,
           9.5,
           8.7,
           8.3,
           8.7
          ],
          "coloraxis": "coloraxis"
         },
         "mode": "markers",
         "name": "",
         "showlegend": false,
         "subplot": "mapbox",
         "type": "scattermapbox"
        }
       ],
       "layout": {
        "coloraxis": {
         "colorbar": {
          "title": {
           "text": "score"
          }
         },
         "colorscale": [
          [
           0,
           "#0d0887"
          ],
          [
           0.1111111111111111,
           "#46039f"
          ],
          [
           0.2222222222222222,
           "#7201a8"
          ],
          [
           0.3333333333333333,
           "#9c179e"
          ],
          [
           0.4444444444444444,
           "#bd3786"
          ],
          [
           0.5555555555555556,
           "#d8576b"
          ],
          [
           0.6666666666666666,
           "#ed7953"
          ],
          [
           0.7777777777777778,
           "#fb9f3a"
          ],
          [
           0.8888888888888888,
           "#fdca26"
          ],
          [
           1,
           "#f0f921"
          ]
         ]
        },
        "height": 600,
        "legend": {
         "tracegroupgap": 0
        },
        "mapbox": {
         "center": {
          "lat": 48.8635609415,
          "lon": 2.331766804
         },
         "domain": {
          "x": [
           0,
           1
          ],
          "y": [
           0,
           1
          ]
         },
         "style": "carto-positron",
         "zoom": 11
        },
        "margin": {
         "t": 60
        },
        "template": {
         "data": {
          "bar": [
           {
            "error_x": {
             "color": "#2a3f5f"
            },
            "error_y": {
             "color": "#2a3f5f"
            },
            "marker": {
             "line": {
              "color": "#E5ECF6",
              "width": 0.5
             },
             "pattern": {
              "fillmode": "overlay",
              "size": 10,
              "solidity": 0.2
             }
            },
            "type": "bar"
           }
          ],
          "barpolar": [
           {
            "marker": {
             "line": {
              "color": "#E5ECF6",
              "width": 0.5
             },
             "pattern": {
              "fillmode": "overlay",
              "size": 10,
              "solidity": 0.2
             }
            },
            "type": "barpolar"
           }
          ],
          "carpet": [
           {
            "aaxis": {
             "endlinecolor": "#2a3f5f",
             "gridcolor": "white",
             "linecolor": "white",
             "minorgridcolor": "white",
             "startlinecolor": "#2a3f5f"
            },
            "baxis": {
             "endlinecolor": "#2a3f5f",
             "gridcolor": "white",
             "linecolor": "white",
             "minorgridcolor": "white",
             "startlinecolor": "#2a3f5f"
            },
            "type": "carpet"
           }
          ],
          "choropleth": [
           {
            "colorbar": {
             "outlinewidth": 0,
             "ticks": ""
            },
            "type": "choropleth"
           }
          ],
          "contour": [
           {
            "colorbar": {
             "outlinewidth": 0,
             "ticks": ""
            },
            "colorscale": [
             [
              0,
              "#0d0887"
             ],
             [
              0.1111111111111111,
              "#46039f"
             ],
             [
              0.2222222222222222,
              "#7201a8"
             ],
             [
              0.3333333333333333,
              "#9c179e"
             ],
             [
              0.4444444444444444,
              "#bd3786"
             ],
             [
              0.5555555555555556,
              "#d8576b"
             ],
             [
              0.6666666666666666,
              "#ed7953"
             ],
             [
              0.7777777777777778,
              "#fb9f3a"
             ],
             [
              0.8888888888888888,
              "#fdca26"
             ],
             [
              1,
              "#f0f921"
             ]
            ],
            "type": "contour"
           }
          ],
          "contourcarpet": [
           {
            "colorbar": {
             "outlinewidth": 0,
             "ticks": ""
            },
            "type": "contourcarpet"
           }
          ],
          "heatmap": [
           {
            "colorbar": {
             "outlinewidth": 0,
             "ticks": ""
            },
            "colorscale": [
             [
              0,
              "#0d0887"
             ],
             [
              0.1111111111111111,
              "#46039f"
             ],
             [
              0.2222222222222222,
              "#7201a8"
             ],
             [
              0.3333333333333333,
              "#9c179e"
             ],
             [
              0.4444444444444444,
              "#bd3786"
             ],
             [
              0.5555555555555556,
              "#d8576b"
             ],
             [
              0.6666666666666666,
              "#ed7953"
             ],
             [
              0.7777777777777778,
              "#fb9f3a"
             ],
             [
              0.8888888888888888,
              "#fdca26"
             ],
             [
              1,
              "#f0f921"
             ]
            ],
            "type": "heatmap"
           }
          ],
          "heatmapgl": [
           {
            "colorbar": {
             "outlinewidth": 0,
             "ticks": ""
            },
            "colorscale": [
             [
              0,
              "#0d0887"
             ],
             [
              0.1111111111111111,
              "#46039f"
             ],
             [
              0.2222222222222222,
              "#7201a8"
             ],
             [
              0.3333333333333333,
              "#9c179e"
             ],
             [
              0.4444444444444444,
              "#bd3786"
             ],
             [
              0.5555555555555556,
              "#d8576b"
             ],
             [
              0.6666666666666666,
              "#ed7953"
             ],
             [
              0.7777777777777778,
              "#fb9f3a"
             ],
             [
              0.8888888888888888,
              "#fdca26"
             ],
             [
              1,
              "#f0f921"
             ]
            ],
            "type": "heatmapgl"
           }
          ],
          "histogram": [
           {
            "marker": {
             "pattern": {
              "fillmode": "overlay",
              "size": 10,
              "solidity": 0.2
             }
            },
            "type": "histogram"
           }
          ],
          "histogram2d": [
           {
            "colorbar": {
             "outlinewidth": 0,
             "ticks": ""
            },
            "colorscale": [
             [
              0,
              "#0d0887"
             ],
             [
              0.1111111111111111,
              "#46039f"
             ],
             [
              0.2222222222222222,
              "#7201a8"
             ],
             [
              0.3333333333333333,
              "#9c179e"
             ],
             [
              0.4444444444444444,
              "#bd3786"
             ],
             [
              0.5555555555555556,
              "#d8576b"
             ],
             [
              0.6666666666666666,
              "#ed7953"
             ],
             [
              0.7777777777777778,
              "#fb9f3a"
             ],
             [
              0.8888888888888888,
              "#fdca26"
             ],
             [
              1,
              "#f0f921"
             ]
            ],
            "type": "histogram2d"
           }
          ],
          "histogram2dcontour": [
           {
            "colorbar": {
             "outlinewidth": 0,
             "ticks": ""
            },
            "colorscale": [
             [
              0,
              "#0d0887"
             ],
             [
              0.1111111111111111,
              "#46039f"
             ],
             [
              0.2222222222222222,
              "#7201a8"
             ],
             [
              0.3333333333333333,
              "#9c179e"
             ],
             [
              0.4444444444444444,
              "#bd3786"
             ],
             [
              0.5555555555555556,
              "#d8576b"
             ],
             [
              0.6666666666666666,
              "#ed7953"
             ],
             [
              0.7777777777777778,
              "#fb9f3a"
             ],
             [
              0.8888888888888888,
              "#fdca26"
             ],
             [
              1,
              "#f0f921"
             ]
            ],
            "type": "histogram2dcontour"
           }
          ],
          "mesh3d": [
           {
            "colorbar": {
             "outlinewidth": 0,
             "ticks": ""
            },
            "type": "mesh3d"
           }
          ],
          "parcoords": [
           {
            "line": {
             "colorbar": {
              "outlinewidth": 0,
              "ticks": ""
             }
            },
            "type": "parcoords"
           }
          ],
          "pie": [
           {
            "automargin": true,
            "type": "pie"
           }
          ],
          "scatter": [
           {
            "fillpattern": {
             "fillmode": "overlay",
             "size": 10,
             "solidity": 0.2
            },
            "type": "scatter"
           }
          ],
          "scatter3d": [
           {
            "line": {
             "colorbar": {
              "outlinewidth": 0,
              "ticks": ""
             }
            },
            "marker": {
             "colorbar": {
              "outlinewidth": 0,
              "ticks": ""
             }
            },
            "type": "scatter3d"
           }
          ],
          "scattercarpet": [
           {
            "marker": {
             "colorbar": {
              "outlinewidth": 0,
              "ticks": ""
             }
            },
            "type": "scattercarpet"
           }
          ],
          "scattergeo": [
           {
            "marker": {
             "colorbar": {
              "outlinewidth": 0,
              "ticks": ""
             }
            },
            "type": "scattergeo"
           }
          ],
          "scattergl": [
           {
            "marker": {
             "colorbar": {
              "outlinewidth": 0,
              "ticks": ""
             }
            },
            "type": "scattergl"
           }
          ],
          "scattermapbox": [
           {
            "marker": {
             "colorbar": {
              "outlinewidth": 0,
              "ticks": ""
             }
            },
            "type": "scattermapbox"
           }
          ],
          "scatterpolar": [
           {
            "marker": {
             "colorbar": {
              "outlinewidth": 0,
              "ticks": ""
             }
            },
            "type": "scatterpolar"
           }
          ],
          "scatterpolargl": [
           {
            "marker": {
             "colorbar": {
              "outlinewidth": 0,
              "ticks": ""
             }
            },
            "type": "scatterpolargl"
           }
          ],
          "scatterternary": [
           {
            "marker": {
             "colorbar": {
              "outlinewidth": 0,
              "ticks": ""
             }
            },
            "type": "scatterternary"
           }
          ],
          "surface": [
           {
            "colorbar": {
             "outlinewidth": 0,
             "ticks": ""
            },
            "colorscale": [
             [
              0,
              "#0d0887"
             ],
             [
              0.1111111111111111,
              "#46039f"
             ],
             [
              0.2222222222222222,
              "#7201a8"
             ],
             [
              0.3333333333333333,
              "#9c179e"
             ],
             [
              0.4444444444444444,
              "#bd3786"
             ],
             [
              0.5555555555555556,
              "#d8576b"
             ],
             [
              0.6666666666666666,
              "#ed7953"
             ],
             [
              0.7777777777777778,
              "#fb9f3a"
             ],
             [
              0.8888888888888888,
              "#fdca26"
             ],
             [
              1,
              "#f0f921"
             ]
            ],
            "type": "surface"
           }
          ],
          "table": [
           {
            "cells": {
             "fill": {
              "color": "#EBF0F8"
             },
             "line": {
              "color": "white"
             }
            },
            "header": {
             "fill": {
              "color": "#C8D4E3"
             },
             "line": {
              "color": "white"
             }
            },
            "type": "table"
           }
          ]
         },
         "layout": {
          "annotationdefaults": {
           "arrowcolor": "#2a3f5f",
           "arrowhead": 0,
           "arrowwidth": 1
          },
          "autotypenumbers": "strict",
          "coloraxis": {
           "colorbar": {
            "outlinewidth": 0,
            "ticks": ""
           }
          },
          "colorscale": {
           "diverging": [
            [
             0,
             "#8e0152"
            ],
            [
             0.1,
             "#c51b7d"
            ],
            [
             0.2,
             "#de77ae"
            ],
            [
             0.3,
             "#f1b6da"
            ],
            [
             0.4,
             "#fde0ef"
            ],
            [
             0.5,
             "#f7f7f7"
            ],
            [
             0.6,
             "#e6f5d0"
            ],
            [
             0.7,
             "#b8e186"
            ],
            [
             0.8,
             "#7fbc41"
            ],
            [
             0.9,
             "#4d9221"
            ],
            [
             1,
             "#276419"
            ]
           ],
           "sequential": [
            [
             0,
             "#0d0887"
            ],
            [
             0.1111111111111111,
             "#46039f"
            ],
            [
             0.2222222222222222,
             "#7201a8"
            ],
            [
             0.3333333333333333,
             "#9c179e"
            ],
            [
             0.4444444444444444,
             "#bd3786"
            ],
            [
             0.5555555555555556,
             "#d8576b"
            ],
            [
             0.6666666666666666,
             "#ed7953"
            ],
            [
             0.7777777777777778,
             "#fb9f3a"
            ],
            [
             0.8888888888888888,
             "#fdca26"
            ],
            [
             1,
             "#f0f921"
            ]
           ],
           "sequentialminus": [
            [
             0,
             "#0d0887"
            ],
            [
             0.1111111111111111,
             "#46039f"
            ],
            [
             0.2222222222222222,
             "#7201a8"
            ],
            [
             0.3333333333333333,
             "#9c179e"
            ],
            [
             0.4444444444444444,
             "#bd3786"
            ],
            [
             0.5555555555555556,
             "#d8576b"
            ],
            [
             0.6666666666666666,
             "#ed7953"
            ],
            [
             0.7777777777777778,
             "#fb9f3a"
            ],
            [
             0.8888888888888888,
             "#fdca26"
            ],
            [
             1,
             "#f0f921"
            ]
           ]
          },
          "colorway": [
           "#636efa",
           "#EF553B",
           "#00cc96",
           "#ab63fa",
           "#FFA15A",
           "#19d3f3",
           "#FF6692",
           "#B6E880",
           "#FF97FF",
           "#FECB52"
          ],
          "font": {
           "color": "#2a3f5f"
          },
          "geo": {
           "bgcolor": "white",
           "lakecolor": "white",
           "landcolor": "#E5ECF6",
           "showlakes": true,
           "showland": true,
           "subunitcolor": "white"
          },
          "hoverlabel": {
           "align": "left"
          },
          "hovermode": "closest",
          "mapbox": {
           "style": "light"
          },
          "paper_bgcolor": "white",
          "plot_bgcolor": "#E5ECF6",
          "polar": {
           "angularaxis": {
            "gridcolor": "white",
            "linecolor": "white",
            "ticks": ""
           },
           "bgcolor": "#E5ECF6",
           "radialaxis": {
            "gridcolor": "white",
            "linecolor": "white",
            "ticks": ""
           }
          },
          "scene": {
           "xaxis": {
            "backgroundcolor": "#E5ECF6",
            "gridcolor": "white",
            "gridwidth": 2,
            "linecolor": "white",
            "showbackground": true,
            "ticks": "",
            "zerolinecolor": "white"
           },
           "yaxis": {
            "backgroundcolor": "#E5ECF6",
            "gridcolor": "white",
            "gridwidth": 2,
            "linecolor": "white",
            "showbackground": true,
            "ticks": "",
            "zerolinecolor": "white"
           },
           "zaxis": {
            "backgroundcolor": "#E5ECF6",
            "gridcolor": "white",
            "gridwidth": 2,
            "linecolor": "white",
            "showbackground": true,
            "ticks": "",
            "zerolinecolor": "white"
           }
          },
          "shapedefaults": {
           "line": {
            "color": "#2a3f5f"
           }
          },
          "ternary": {
           "aaxis": {
            "gridcolor": "white",
            "linecolor": "white",
            "ticks": ""
           },
           "baxis": {
            "gridcolor": "white",
            "linecolor": "white",
            "ticks": ""
           },
           "bgcolor": "#E5ECF6",
           "caxis": {
            "gridcolor": "white",
            "linecolor": "white",
            "ticks": ""
           }
          },
          "title": {
           "x": 0.05
          },
          "xaxis": {
           "automargin": true,
           "gridcolor": "white",
           "linecolor": "white",
           "ticks": "",
           "title": {
            "standoff": 15
           },
           "zerolinecolor": "white",
           "zerolinewidth": 2
          },
          "yaxis": {
           "automargin": true,
           "gridcolor": "white",
           "linecolor": "white",
           "ticks": "",
           "title": {
            "standoff": 15
           },
           "zerolinecolor": "white",
           "zerolinewidth": 2
          }
         }
        },
        "width": 600
       }
      }
     },
     "metadata": {},
     "output_type": "display_data"
    },
    {
     "data": {
      "application/vnd.plotly.v1+json": {
       "config": {
        "plotlyServerURL": "https://plot.ly"
       },
       "data": [
        {
         "customdata": [
          [
           "L&#x27;Appartement Cosy - Vieux lille est situé dans le quartier du Vieux Lille, à 2,4 km de la gare",
           " de Lille-Europe, à 2,5 km de la Tour de Lille et à 1,8 km du grand magasin Printemps. Vous bénéfici",
           "erez d&#x27;un accès à un balcon et d&#x27;un parking privé gratuit. Cet établissement non-fumeurs s"
          ],
          [
           "Offrant une vue sur la ville, l&#x27;établissement Au Cœur De Lille est situé dans le quartier de Li",
           "lle-Centre, à moins de 1 km du zoo et à 15 minutes à pied de l&#x27;Hospice Gantois. Vous bénéficier",
           "ez d’un parking privé sur place et d’une connexion Wi-Fi gratuite dans tout l’établissement. L&#x27;"
          ],
          [
           "Occupant un bâtiment historique, la Chambre privée Place aux oignons, récemment rénovée, propose des",
           " hébergements avec une terrasse et une connexion Wi-Fi gratuite. Offrant une vue sur la cour intérie",
           "ure, il se trouve à 1,3 km du zoo de Lille et à 800 mètres du grand magasin Printemps. Vous séjourne"
          ],
          [
           "Charmant appartement lumineux au Vieux Lille. Il est situé dans le quartier du Vieux-Lille à Lille, ",
           "à moins de 1 km du grand magasin Printemps, à 7 minutes à pied de l&#x27;opéra et à 600 mètres de la",
           " Grand-Place. L&#x27;établissement se trouve à proximité de la gare de Lille-Europe, de la Tour de L"
          ],
          [
           "Offrant une vue sur son jardin, l&#x27;établissement Chez Christophe propose des hébergements bien s",
           "itués à Lille, à proximité du zoo, du grand magasin Printemps et de l&#x27;hospice Gantois. Vous séj",
           "ournerez à 3,9 km de la Tour de Lille, à moins de 1 km de l&#x27;opéra de Lille et à 9 minutes à pie"
          ],
          [
           "L&#x27;Escalille la Travia propose un appartement d&#x27;une chambre dans le centre historique de Li",
           "lle, à 600 mètres de la Grand-Place. Ce logement à la décoration moderne offre une vue sur la cour. ",
           "Une connexion Wi-Fi gratuite est disponible.\n\nAccessible par un escalier, l&#x27;appartement est équ"
          ],
          [
           "Situé à Lille, à proximité de l&#x27;Hospice Gantois, du zoo de Lille et de la maison Coilliot, le G",
           "rand&#x27; Place of Lille - Superb designer apartment dispose d&#x27;une connexion Wi-Fi gratuite. V",
           "ous séjournerez à proximité du Zénith de Lille, de l&#x27;Aéronef et de la gare de Lille-Europe. Il "
          ],
          [
           "L’Hôtel de la Treille vous accueille à 3 minutes à pied du quartier du Vieux-Lille, à 650 mètres du ",
           "complexe Nouveau Siècle et à 1,5 km du Lille Grand Palais. Cet établissement accepte les animaux dom",
           "estiques et met à votre disposition une connexion Wi-Fi gratuite.\n\nToutes les chambres comprennent u"
          ],
          [
           "Située à Lille, l&#x27;Hyper centre chambre au calme est une chambre double se trouvant à 100 mètres",
           " du Printemps, à 200 mètres de la place du Général-de-Gaulle et à 800 mètres du quartier du Vieux-Li",
           "lle. Vous bénéficierez gratuitement d&#x27;une connexion Wi-Fi.\n\nSitué au 3ème étage avec ascenseur,"
          ],
          [
           "L’Hôtel Saint Maurice est situé dans une zone piétonne paisible du centre de Lille, à côté de l’égli",
           "se gothique Saint-Maurice. Vous bénéficierez gratuitement d’une connexion Wi-Fi dans l’ensemble des ",
           "locaux. Le centre de conventions Nouveau Siècle est à moins de 1 km.\n\nL’Hôtel Saint Maurice propose "
          ],
          [
           "Situé à Lille, à moins de 1 km de la maison Coilliot, le JOST Hôtel Lille Centre propose des héberge",
           "ments avec une terrasse, un parking privé, un restaurant et un bar. Cet hôtel 3 étoiles propose des ",
           "chambres climatisées avec salle de bains privative et connexion Wi-Fi gratuite. Cet établissement no"
          ],
          [
           "Situé au cœur de la vieille ville de Lille, le Lille A Part -Gîtes Urbains propose 2 appartements à ",
           "seulement 10 minutes à pied de la gare de Lille Flandres, à 2 km du Grand Palais de Lille et à 1,1 k",
           "m du centre de conventions Nouveau Siècle. Vous pourrez admirer la cour depuis le salon, tout en pro"
          ],
          [
           "La Lille au calme - chambre d&#x27;hôte M et Me Collet est située à Lille, à 800 mètres du centre-vi",
           "lle et du Vieux-Lille. Vous bénéficierez gratuitement d&#x27;une connexion Wi-Fi et d&#x27;un parkin",
           "g privé sur place.\n\nLa chambre est à l&#x27;étage\n\nVous trouverez de nombreux restaurants à proximit"
          ],
          [
           "Bénéficiant d’un emplacement idéal dans le centre de Lille, le Moxy Lille City propose des chambres ",
           "climatisées, une salle de sport, une connexion Wi-Fi gratuite et une terrasse. Cet établissement 3 é",
           "toiles est doté d’un bar. Un parking privé est disponible sur place.\n\nTous les logements de l’hôtel "
          ],
          [
           "Situé à Lille, à 400 mètres du grand magasin du Printemps et à 800 mètres du quartier du Vieux-Lille",
           ", le Sparadise Lille propose des hébergements avec une vue sur la ville et une connexion Wi-Fi gratu",
           "ite. Lors de votre séjour, vous pourrez profiter d’une baignoire spa.\n\nRevêtus de carrelage, les log"
          ],
          [
           "Situé à Lille, le Stayappart Lille Nouveau Siècle propose deux appartements dotés d&#x27;une connexi",
           "on Wi-Fi gratuite, à 100 mètres du grand magasin Printemps.\n\nLa cuisine est équipée d&#x27;un four, ",
           "d&#x27;un micro-ondes et d&#x27;une machine à café. Une télévision par câble à écran plat est égalem"
          ],
          [
           "Situé dans la vieille ville de Lille, le The People - Lille est une auberge de jeunesse proposant de",
           "s dortoirs communs et des chambres privées. À pied, vous rejoindrez la place du Général-de-Gaulle en",
           " seulement 10 minutes et les gares ferroviaires en 20 minutes.\n\nLes dortoirs disposent du chauffage "
          ],
          [
           "Vieux Lille Appartement lumineux entièrement équipé! Vous séjournerez dans le quartier du Vieux-Lill",
           "e, à 1,6 km du grand magasin Printemps, à 2,8 km de l&#x27;Hospice Gantois et à 3,1 km de la gare de",
           " Lille Europe. Il se trouve à environ 3,1 km de la maison Coilliot, à 3,2 km de la tour de Lille et "
          ],
          [
           "L&#x27;appartement Wazemoff est situé à Lille, dans un bâtiment datant de 1850, à 4 minutes à pied d",
           "es halles de Wazemmes. Vous bénéficierez d&#x27;une connexion Wi-Fi gratuite. La station de métro Ga",
           "mbetta se trouve à 450 mètres et la gare ferroviaire de Lille-Flandres à 3 km.\n\nSitué au 2ème étage,"
          ],
          [
           "L’ibis Styles Lille Centre Gare Beffroi vous accueille dans le centre-ville de Lille, à 600 mètres d",
           "es gares de Lille-Europe et de Lille-Flandres. Le centre des congrès Lille Grand Palais et le comple",
           "xe Nouveau Siècle se trouvent à 1 km.\n\nToutes les chambres comprennent une télévision à écran plat, "
          ]
         ],
         "hovertemplate": "<b>Description: </b><br> %{customdata[0]} <br> %{customdata[1]} <br> %{customdata[2]}",
         "lat": [
          50.647328,
          50.6355131233,
          50.6404964783,
          50.6409944,
          50.6404606323,
          50.6421568121,
          50.6349319,
          50.6405310118,
          50.6366156454,
          50.6355714458,
          50.6288419,
          50.6434277481,
          50.6437710543,
          50.627831,
          50.6363018,
          50.6364733845,
          50.6457460291,
          50.6463729,
          50.6255655663,
          50.6323824517
         ],
         "legendgroup": "",
         "lon": [
          3.0568329,
          3.0543925123,
          3.0612863761,
          3.0595794,
          3.0557763577,
          3.0640241504,
          3.0586239,
          3.0642414093,
          3.0605808521,
          3.0678328872,
          3.0519791,
          3.0608564615,
          3.0542598369,
          3.063592,
          3.0608761,
          3.0606344963,
          3.0559265614,
          3.052484,
          3.0479654006,
          3.0679428577
         ],
         "marker": {
          "color": [
           8.8,
           9.4,
           9.5,
           8.1,
           8.9,
           8.9,
           7.7,
           8.3,
           9.1,
           7.6,
           7.8,
           8.4,
           8.4,
           8.4,
           8.1,
           9.1,
           8.1,
           8.1,
           9.2,
           7.9
          ],
          "coloraxis": "coloraxis"
         },
         "mode": "markers",
         "name": "",
         "showlegend": false,
         "subplot": "mapbox",
         "type": "scattermapbox"
        }
       ],
       "layout": {
        "coloraxis": {
         "colorbar": {
          "title": {
           "text": "score"
          }
         },
         "colorscale": [
          [
           0,
           "#0d0887"
          ],
          [
           0.1111111111111111,
           "#46039f"
          ],
          [
           0.2222222222222222,
           "#7201a8"
          ],
          [
           0.3333333333333333,
           "#9c179e"
          ],
          [
           0.4444444444444444,
           "#bd3786"
          ],
          [
           0.5555555555555556,
           "#d8576b"
          ],
          [
           0.6666666666666666,
           "#ed7953"
          ],
          [
           0.7777777777777778,
           "#fb9f3a"
          ],
          [
           0.8888888888888888,
           "#fdca26"
          ],
          [
           1,
           "#f0f921"
          ]
         ]
        },
        "height": 600,
        "legend": {
         "tracegroupgap": 0
        },
        "mapbox": {
         "center": {
          "lat": 50.63806566414999,
          "lon": 3.058984377975
         },
         "domain": {
          "x": [
           0,
           1
          ],
          "y": [
           0,
           1
          ]
         },
         "style": "carto-positron",
         "zoom": 11
        },
        "margin": {
         "t": 60
        },
        "template": {
         "data": {
          "bar": [
           {
            "error_x": {
             "color": "#2a3f5f"
            },
            "error_y": {
             "color": "#2a3f5f"
            },
            "marker": {
             "line": {
              "color": "#E5ECF6",
              "width": 0.5
             },
             "pattern": {
              "fillmode": "overlay",
              "size": 10,
              "solidity": 0.2
             }
            },
            "type": "bar"
           }
          ],
          "barpolar": [
           {
            "marker": {
             "line": {
              "color": "#E5ECF6",
              "width": 0.5
             },
             "pattern": {
              "fillmode": "overlay",
              "size": 10,
              "solidity": 0.2
             }
            },
            "type": "barpolar"
           }
          ],
          "carpet": [
           {
            "aaxis": {
             "endlinecolor": "#2a3f5f",
             "gridcolor": "white",
             "linecolor": "white",
             "minorgridcolor": "white",
             "startlinecolor": "#2a3f5f"
            },
            "baxis": {
             "endlinecolor": "#2a3f5f",
             "gridcolor": "white",
             "linecolor": "white",
             "minorgridcolor": "white",
             "startlinecolor": "#2a3f5f"
            },
            "type": "carpet"
           }
          ],
          "choropleth": [
           {
            "colorbar": {
             "outlinewidth": 0,
             "ticks": ""
            },
            "type": "choropleth"
           }
          ],
          "contour": [
           {
            "colorbar": {
             "outlinewidth": 0,
             "ticks": ""
            },
            "colorscale": [
             [
              0,
              "#0d0887"
             ],
             [
              0.1111111111111111,
              "#46039f"
             ],
             [
              0.2222222222222222,
              "#7201a8"
             ],
             [
              0.3333333333333333,
              "#9c179e"
             ],
             [
              0.4444444444444444,
              "#bd3786"
             ],
             [
              0.5555555555555556,
              "#d8576b"
             ],
             [
              0.6666666666666666,
              "#ed7953"
             ],
             [
              0.7777777777777778,
              "#fb9f3a"
             ],
             [
              0.8888888888888888,
              "#fdca26"
             ],
             [
              1,
              "#f0f921"
             ]
            ],
            "type": "contour"
           }
          ],
          "contourcarpet": [
           {
            "colorbar": {
             "outlinewidth": 0,
             "ticks": ""
            },
            "type": "contourcarpet"
           }
          ],
          "heatmap": [
           {
            "colorbar": {
             "outlinewidth": 0,
             "ticks": ""
            },
            "colorscale": [
             [
              0,
              "#0d0887"
             ],
             [
              0.1111111111111111,
              "#46039f"
             ],
             [
              0.2222222222222222,
              "#7201a8"
             ],
             [
              0.3333333333333333,
              "#9c179e"
             ],
             [
              0.4444444444444444,
              "#bd3786"
             ],
             [
              0.5555555555555556,
              "#d8576b"
             ],
             [
              0.6666666666666666,
              "#ed7953"
             ],
             [
              0.7777777777777778,
              "#fb9f3a"
             ],
             [
              0.8888888888888888,
              "#fdca26"
             ],
             [
              1,
              "#f0f921"
             ]
            ],
            "type": "heatmap"
           }
          ],
          "heatmapgl": [
           {
            "colorbar": {
             "outlinewidth": 0,
             "ticks": ""
            },
            "colorscale": [
             [
              0,
              "#0d0887"
             ],
             [
              0.1111111111111111,
              "#46039f"
             ],
             [
              0.2222222222222222,
              "#7201a8"
             ],
             [
              0.3333333333333333,
              "#9c179e"
             ],
             [
              0.4444444444444444,
              "#bd3786"
             ],
             [
              0.5555555555555556,
              "#d8576b"
             ],
             [
              0.6666666666666666,
              "#ed7953"
             ],
             [
              0.7777777777777778,
              "#fb9f3a"
             ],
             [
              0.8888888888888888,
              "#fdca26"
             ],
             [
              1,
              "#f0f921"
             ]
            ],
            "type": "heatmapgl"
           }
          ],
          "histogram": [
           {
            "marker": {
             "pattern": {
              "fillmode": "overlay",
              "size": 10,
              "solidity": 0.2
             }
            },
            "type": "histogram"
           }
          ],
          "histogram2d": [
           {
            "colorbar": {
             "outlinewidth": 0,
             "ticks": ""
            },
            "colorscale": [
             [
              0,
              "#0d0887"
             ],
             [
              0.1111111111111111,
              "#46039f"
             ],
             [
              0.2222222222222222,
              "#7201a8"
             ],
             [
              0.3333333333333333,
              "#9c179e"
             ],
             [
              0.4444444444444444,
              "#bd3786"
             ],
             [
              0.5555555555555556,
              "#d8576b"
             ],
             [
              0.6666666666666666,
              "#ed7953"
             ],
             [
              0.7777777777777778,
              "#fb9f3a"
             ],
             [
              0.8888888888888888,
              "#fdca26"
             ],
             [
              1,
              "#f0f921"
             ]
            ],
            "type": "histogram2d"
           }
          ],
          "histogram2dcontour": [
           {
            "colorbar": {
             "outlinewidth": 0,
             "ticks": ""
            },
            "colorscale": [
             [
              0,
              "#0d0887"
             ],
             [
              0.1111111111111111,
              "#46039f"
             ],
             [
              0.2222222222222222,
              "#7201a8"
             ],
             [
              0.3333333333333333,
              "#9c179e"
             ],
             [
              0.4444444444444444,
              "#bd3786"
             ],
             [
              0.5555555555555556,
              "#d8576b"
             ],
             [
              0.6666666666666666,
              "#ed7953"
             ],
             [
              0.7777777777777778,
              "#fb9f3a"
             ],
             [
              0.8888888888888888,
              "#fdca26"
             ],
             [
              1,
              "#f0f921"
             ]
            ],
            "type": "histogram2dcontour"
           }
          ],
          "mesh3d": [
           {
            "colorbar": {
             "outlinewidth": 0,
             "ticks": ""
            },
            "type": "mesh3d"
           }
          ],
          "parcoords": [
           {
            "line": {
             "colorbar": {
              "outlinewidth": 0,
              "ticks": ""
             }
            },
            "type": "parcoords"
           }
          ],
          "pie": [
           {
            "automargin": true,
            "type": "pie"
           }
          ],
          "scatter": [
           {
            "fillpattern": {
             "fillmode": "overlay",
             "size": 10,
             "solidity": 0.2
            },
            "type": "scatter"
           }
          ],
          "scatter3d": [
           {
            "line": {
             "colorbar": {
              "outlinewidth": 0,
              "ticks": ""
             }
            },
            "marker": {
             "colorbar": {
              "outlinewidth": 0,
              "ticks": ""
             }
            },
            "type": "scatter3d"
           }
          ],
          "scattercarpet": [
           {
            "marker": {
             "colorbar": {
              "outlinewidth": 0,
              "ticks": ""
             }
            },
            "type": "scattercarpet"
           }
          ],
          "scattergeo": [
           {
            "marker": {
             "colorbar": {
              "outlinewidth": 0,
              "ticks": ""
             }
            },
            "type": "scattergeo"
           }
          ],
          "scattergl": [
           {
            "marker": {
             "colorbar": {
              "outlinewidth": 0,
              "ticks": ""
             }
            },
            "type": "scattergl"
           }
          ],
          "scattermapbox": [
           {
            "marker": {
             "colorbar": {
              "outlinewidth": 0,
              "ticks": ""
             }
            },
            "type": "scattermapbox"
           }
          ],
          "scatterpolar": [
           {
            "marker": {
             "colorbar": {
              "outlinewidth": 0,
              "ticks": ""
             }
            },
            "type": "scatterpolar"
           }
          ],
          "scatterpolargl": [
           {
            "marker": {
             "colorbar": {
              "outlinewidth": 0,
              "ticks": ""
             }
            },
            "type": "scatterpolargl"
           }
          ],
          "scatterternary": [
           {
            "marker": {
             "colorbar": {
              "outlinewidth": 0,
              "ticks": ""
             }
            },
            "type": "scatterternary"
           }
          ],
          "surface": [
           {
            "colorbar": {
             "outlinewidth": 0,
             "ticks": ""
            },
            "colorscale": [
             [
              0,
              "#0d0887"
             ],
             [
              0.1111111111111111,
              "#46039f"
             ],
             [
              0.2222222222222222,
              "#7201a8"
             ],
             [
              0.3333333333333333,
              "#9c179e"
             ],
             [
              0.4444444444444444,
              "#bd3786"
             ],
             [
              0.5555555555555556,
              "#d8576b"
             ],
             [
              0.6666666666666666,
              "#ed7953"
             ],
             [
              0.7777777777777778,
              "#fb9f3a"
             ],
             [
              0.8888888888888888,
              "#fdca26"
             ],
             [
              1,
              "#f0f921"
             ]
            ],
            "type": "surface"
           }
          ],
          "table": [
           {
            "cells": {
             "fill": {
              "color": "#EBF0F8"
             },
             "line": {
              "color": "white"
             }
            },
            "header": {
             "fill": {
              "color": "#C8D4E3"
             },
             "line": {
              "color": "white"
             }
            },
            "type": "table"
           }
          ]
         },
         "layout": {
          "annotationdefaults": {
           "arrowcolor": "#2a3f5f",
           "arrowhead": 0,
           "arrowwidth": 1
          },
          "autotypenumbers": "strict",
          "coloraxis": {
           "colorbar": {
            "outlinewidth": 0,
            "ticks": ""
           }
          },
          "colorscale": {
           "diverging": [
            [
             0,
             "#8e0152"
            ],
            [
             0.1,
             "#c51b7d"
            ],
            [
             0.2,
             "#de77ae"
            ],
            [
             0.3,
             "#f1b6da"
            ],
            [
             0.4,
             "#fde0ef"
            ],
            [
             0.5,
             "#f7f7f7"
            ],
            [
             0.6,
             "#e6f5d0"
            ],
            [
             0.7,
             "#b8e186"
            ],
            [
             0.8,
             "#7fbc41"
            ],
            [
             0.9,
             "#4d9221"
            ],
            [
             1,
             "#276419"
            ]
           ],
           "sequential": [
            [
             0,
             "#0d0887"
            ],
            [
             0.1111111111111111,
             "#46039f"
            ],
            [
             0.2222222222222222,
             "#7201a8"
            ],
            [
             0.3333333333333333,
             "#9c179e"
            ],
            [
             0.4444444444444444,
             "#bd3786"
            ],
            [
             0.5555555555555556,
             "#d8576b"
            ],
            [
             0.6666666666666666,
             "#ed7953"
            ],
            [
             0.7777777777777778,
             "#fb9f3a"
            ],
            [
             0.8888888888888888,
             "#fdca26"
            ],
            [
             1,
             "#f0f921"
            ]
           ],
           "sequentialminus": [
            [
             0,
             "#0d0887"
            ],
            [
             0.1111111111111111,
             "#46039f"
            ],
            [
             0.2222222222222222,
             "#7201a8"
            ],
            [
             0.3333333333333333,
             "#9c179e"
            ],
            [
             0.4444444444444444,
             "#bd3786"
            ],
            [
             0.5555555555555556,
             "#d8576b"
            ],
            [
             0.6666666666666666,
             "#ed7953"
            ],
            [
             0.7777777777777778,
             "#fb9f3a"
            ],
            [
             0.8888888888888888,
             "#fdca26"
            ],
            [
             1,
             "#f0f921"
            ]
           ]
          },
          "colorway": [
           "#636efa",
           "#EF553B",
           "#00cc96",
           "#ab63fa",
           "#FFA15A",
           "#19d3f3",
           "#FF6692",
           "#B6E880",
           "#FF97FF",
           "#FECB52"
          ],
          "font": {
           "color": "#2a3f5f"
          },
          "geo": {
           "bgcolor": "white",
           "lakecolor": "white",
           "landcolor": "#E5ECF6",
           "showlakes": true,
           "showland": true,
           "subunitcolor": "white"
          },
          "hoverlabel": {
           "align": "left"
          },
          "hovermode": "closest",
          "mapbox": {
           "style": "light"
          },
          "paper_bgcolor": "white",
          "plot_bgcolor": "#E5ECF6",
          "polar": {
           "angularaxis": {
            "gridcolor": "white",
            "linecolor": "white",
            "ticks": ""
           },
           "bgcolor": "#E5ECF6",
           "radialaxis": {
            "gridcolor": "white",
            "linecolor": "white",
            "ticks": ""
           }
          },
          "scene": {
           "xaxis": {
            "backgroundcolor": "#E5ECF6",
            "gridcolor": "white",
            "gridwidth": 2,
            "linecolor": "white",
            "showbackground": true,
            "ticks": "",
            "zerolinecolor": "white"
           },
           "yaxis": {
            "backgroundcolor": "#E5ECF6",
            "gridcolor": "white",
            "gridwidth": 2,
            "linecolor": "white",
            "showbackground": true,
            "ticks": "",
            "zerolinecolor": "white"
           },
           "zaxis": {
            "backgroundcolor": "#E5ECF6",
            "gridcolor": "white",
            "gridwidth": 2,
            "linecolor": "white",
            "showbackground": true,
            "ticks": "",
            "zerolinecolor": "white"
           }
          },
          "shapedefaults": {
           "line": {
            "color": "#2a3f5f"
           }
          },
          "ternary": {
           "aaxis": {
            "gridcolor": "white",
            "linecolor": "white",
            "ticks": ""
           },
           "baxis": {
            "gridcolor": "white",
            "linecolor": "white",
            "ticks": ""
           },
           "bgcolor": "#E5ECF6",
           "caxis": {
            "gridcolor": "white",
            "linecolor": "white",
            "ticks": ""
           }
          },
          "title": {
           "x": 0.05
          },
          "xaxis": {
           "automargin": true,
           "gridcolor": "white",
           "linecolor": "white",
           "ticks": "",
           "title": {
            "standoff": 15
           },
           "zerolinecolor": "white",
           "zerolinewidth": 2
          },
          "yaxis": {
           "automargin": true,
           "gridcolor": "white",
           "linecolor": "white",
           "ticks": "",
           "title": {
            "standoff": 15
           },
           "zerolinecolor": "white",
           "zerolinewidth": 2
          }
         }
        },
        "width": 600
       }
      }
     },
     "metadata": {},
     "output_type": "display_data"
    },
    {
     "data": {
      "application/vnd.plotly.v1+json": {
       "config": {
        "plotlyServerURL": "https://plot.ly"
       },
       "data": [
        {
         "customdata": [
          [
           "- N26- Le Studio calme et lumineux cœur de ville est situé dans le centre de Besançon, à proximité d",
           "e la gare de Besançon-Mouillère, de la gare de Besançon Viotte et du musée du Temps de Besançon. Vou",
           "s séjournerez à 4,6 km de Micropolis, à 13 km de la gare TGV de Besançon Franche-Comté et à 600 mètr"
          ],
          [
           "Situé dans la vieille ville de Besançon, à proximité de la gare de Besançon Viotte, l&#x27;APPARTEME",
           "NT CENTRE HISTORIQUE dispose d&#x27;une connexion Wi-Fi gratuite et d&#x27;un lave-linge. Il est sit",
           "ué à 5,2 km de Micropolis et dispose d&#x27;une cuisine commune. L&#x27;établissement se trouve à 20"
          ],
          [
           "Implanté dans le centre de Besançon, le Appart&#x27;Hôtel Luxapparts propose un appartement moderne ",
           "et indépendant bénéficiant d&#x27;une terrasse donnant sur la rivière. Pourvu d&#x27;une connexion W",
           "i-Fi gratuite, ce logement de 2 chambres se trouve à 400 mètres de la gare de Besançon-Mouillère.\n\nO"
          ],
          [
           "Situé dans le centre de Besançon, à 1,1 km de la gare de Besançon-Mouillère, l&#x27;Appartement avec",
           " sauna au pied de la citadelle propose un hébergement avec une connexion Wi-Fi gratuite et un sauna.",
           " Vous séjournerez à environ 5 km de Micropolis, à 13 km de la gare TGV de Besançon Franche-Comté et "
          ],
          [
           "Installée dans un jardin arboré doté d&#x27;une terrasse ombragée, la Chambre d&#x27;Hôtes La Villa ",
           "Molina est une villa française située à 5 minutes à pied de la gare de Viotte. Elle propose un petit",
           "-déjeuner continental quotidien, ainsi qu&#x27;une chambre offrant une vue sur le jardin.\n\nDécorée d"
          ],
          [
           "Situé à Besançon, à 1,9 km de la gare de Besançon Viotte et à 5,2 km de Micropolis, le Charmant coco",
           "n centre historique propose des hébergements avec une connexion Wi-Fi gratuite et une télévision à é",
           "cran plat. Cet appartement se trouve à 14 km de la gare TGV de Besançon Franche-Comté et à 6 km de l"
          ],
          [
           "Cet hôtel est situé au cœur de Besançon, à seulement 700 mètres des rives du Doubs. Vous bénéficiere",
           "z d&#x27;une connexion Wi-Fi gratuite.- une connexion Wi-Fi et vous pourrez vous détendre dans le ba",
           "r-salon de l&#x27;hôtel.\n\nDécorées avec simplicité, toutes les chambres comprennent une télévision p"
          ],
          [
           "L’Hôtel Restaurant Spa Le Sauvage vous accueille dans l’ancien monastère des Clarisses, dans le quar",
           "tier historique de Besançon, à 500 mètres des anciens contreforts de la citadelle. Cet établissement",
           " offre des vues sur le parc bordé d’arbres, les remparts médiévaux, la ville et la vallée du Doubs.\n"
          ],
          [
           "Situé dans le centre de Besançon, l’Hôtel de Paris est un établissement à la décoration contemporain",
           "e doté d’une terrasse et d’une réception ouverte 24h/24. La citadelle de Besançon est à seulement 15",
           " minutes de marche. Vesoul se trouve à 48 km.\n\nToutes les chambres disposent de la climatisation, d’"
          ],
          [
           "Offrant une vue sur la ville, l&#x27;appartement du voisin d&#x27;Hugo est situé à Besançon, à 1,8 k",
           "m de la gare de Besançon Viotte et à 5,1 km du Micropolis. Cet appartement se trouve à 13 km de la g",
           "are TGV de Besançon Franche-Comté et à 6,1 km de l&#x27;université de Besançon Vesoul. L&#x27;établi"
          ],
          [
           "L&#x27;île d&#x27;Olive est située à Besançon, en Franche-Comté, à proximité de la gare de Besançon ",
           "Viotte et du musée du Temps. appartement entier 2 L&#x27;hébergement à 4 personnes terrasse 25 m2 Be",
           "sançon, proche CV, Micropolis et CHU propose gratuitement une connexion Wi-Fi et un parking privé. O"
          ],
          [
           "Situé à Besançon, à seulement 500 mètres de la gare de Besançon-Viotte, l&#x27;établissement Le New ",
           "York Bisontin propose des hébergements offrant une vue calme sur la rue. Vous bénéficierez gratuitem",
           "ent d&#x27;une connexion Wi-Fi et d&#x27;un parking privé. Vous séjournerez à 4,9 km de Micropolis, "
          ],
          [
           "Situé dans le centre de Besançon, à seulement 1,4 km de la gare de Besançon-Mouillère et à 1,9 km de",
           " la gare de Besançon-Viotte, l&#x27;établissement Le cocon propose un hébergement avec vue sur la co",
           "ur intérieure et connexion Wi-Fi gratuite. Cet appartement se trouve à 14 km de la gare TGV de Besan"
          ],
          [
           "Situé à Besançon, à proximité de la gare de Besançon Viotte et du musée du Temps de Besançon, l&#x27",
           ";établissement Le coquet chez Maguy Maison de ville avec jardin est un établissement récemment rénov",
           "é proposant un service de prêt de vélos et un jardin. Offrant une vue sur le jardin, cet hébergement"
          ],
          [
           "Situé à moins de 200 mètres du centre de Besançon, l&#x27;établissement Les Fabuleux appartements du",
           " Coeur de ville - Place Victor Hugo propose une connexion Wi-Fi gratuite ainsi qu&#x27;une cuisine a",
           "vec un lave-vaisselle, un four et un micro-ondes. Cet appartement dispose d&#x27;un parking privé gr"
          ],
          [
           "Le Magnifique F2 du bonheur est situé dans la vieille ville de Besançon, à 4,5 km de Micropolis, à 1",
           "3 km de la gare TGV de Besançon Franche-Comté et à 600 mètres du musée du Temps de Besançon. Il se t",
           "rouve à 1,7 km de la gare de Besançon-Mouillère et propose un service de concierge. L&#x27;établisse"
          ],
          [
           "Le Studio Petit Battant Wifi Supercentre Très calme est situé dans la vieille ville de Besançon, à 4",
           ",5 km du Micropolis, à 13 km de la gare TGV de Besançon Franche-Comté et à 700 mètres du musée du Te",
           "mps de Besançon. Il se trouve à 1,4 km de la gare de Besançon-Mouillère et propose une connexion Wi-"
          ],
          [
           "Situé à 1,2 km de la gare de Besançon-Mouillère, à 5 km de Micropolis et à 12 km de la gare TGV de B",
           "esançon Franche-Comté, le Studio centre-ville propose un hébergement à Besançon. L&#x27;université d",
           "e Besançon-Vesoul se trouve à 4,9 km. Une connexion Wi-Fi est disponible gratuitement dans l&#x27;en"
          ],
          [
           "Situé dans le centre de Besançon, à seulement 1,5 km de la gare de Besançon-Mouillère et à 3,5 km de",
           " la gare de Besançon-Viotte, le Zelda propose un hébergement avec vue sur la rue calme et connexion ",
           "Wi-Fi gratuite. Il est situé à 14 km de la gare TGV de Besançon Franche-Comté et propose un service "
          ],
          [
           "L&#x27;ibis Besançon Centre Ville se trouve dans la vieille ville de Besançon, à 500 mètres de la ga",
           "re de Viotte et à 20 minutes de marche de la citadelle Vauban ainsi que du musée des beaux-arts. Il ",
           "possède un snack-bar et une réception ouverts 24h/24. Une connexion Wi-Fi est disponible gratuitemen"
          ],
          [
           "L’ibis Besançon la City se trouve sur les rives du Doubs, dans le quartier d’affaires La City, à 10 ",
           "minutes de marche du centre-ville de Besançon et de ses musées. Vous rejoindrez la Citadelle en 35 m",
           "inutes à pied.\n\nL’établissement propose des chambres climatisées, dont 4 sont accessibles aux person"
          ],
          [
           "Idéalement situé dans un parc, l&#x27;hôtel ibis Styles Besançon se trouve à 15 minutes à pied de la",
           " gare TGV et du centre de Besançon. Il met à votre disposition une piscine extérieure dotée d&#x27;u",
           "ne terrasse bien exposée ainsi qu&#x27;une connexion Wi-Fi gratuite.\n\nSes chambres climatisées et sp"
          ]
         ],
         "hovertemplate": "<b>Description: </b><br> %{customdata[0]} <br> %{customdata[1]} <br> %{customdata[2]}",
         "lat": [
          47.23517188,
          47.2343245,
          47.23733956,
          47.2338443,
          47.25044475,
          47.2345273,
          47.23727603,
          47.23171767,
          47.23856537,
          47.23473903,
          47.2366798,
          47.24818544,
          47.2341445,
          47.2413863,
          47.23501264,
          47.23277157,
          47.23884,
          47.2419692,
          47.2320843,
          47.24045605,
          47.2354914,
          47.25425346
         ],
         "legendgroup": "",
         "lon": [
          6.02449345,
          6.0277347,
          6.03551203,
          6.0287922,
          6.02088064,
          6.0274517,
          6.02586955,
          6.02759153,
          6.02532506,
          6.02951074,
          6.0076126,
          6.01924119,
          6.0272694,
          6.0074701,
          6.02944083,
          6.02431265,
          6.0203882,
          6.0204702,
          6.0244142,
          6.02599533,
          6.01498839,
          6.0216397
         ],
         "marker": {
          "color": [
           8.7,
           8.1,
           8.4,
           9.1,
           9.3,
           9.2,
           8.2,
           8.6,
           8.2,
           8.6,
           9.3,
           9.4,
           7.6,
           8.5,
           8.3,
           8.6,
           8.5,
           7.5,
           7.9,
           8.3,
           7.7,
           7.9
          ],
          "coloraxis": "coloraxis"
         },
         "mode": "markers",
         "name": "",
         "showlegend": false,
         "subplot": "mapbox",
         "type": "scattermapbox"
        }
       ],
       "layout": {
        "coloraxis": {
         "colorbar": {
          "title": {
           "text": "score"
          }
         },
         "colorscale": [
          [
           0,
           "#0d0887"
          ],
          [
           0.1111111111111111,
           "#46039f"
          ],
          [
           0.2222222222222222,
           "#7201a8"
          ],
          [
           0.3333333333333333,
           "#9c179e"
          ],
          [
           0.4444444444444444,
           "#bd3786"
          ],
          [
           0.5555555555555556,
           "#d8576b"
          ],
          [
           0.6666666666666666,
           "#ed7953"
          ],
          [
           0.7777777777777778,
           "#fb9f3a"
          ],
          [
           0.8888888888888888,
           "#fdca26"
          ],
          [
           1,
           "#f0f921"
          ]
         ]
        },
        "height": 600,
        "legend": {
         "tracegroupgap": 0
        },
        "mapbox": {
         "center": {
          "lat": 47.23814659318182,
          "lon": 6.023472926818183
         },
         "domain": {
          "x": [
           0,
           1
          ],
          "y": [
           0,
           1
          ]
         },
         "style": "carto-positron",
         "zoom": 11
        },
        "margin": {
         "t": 60
        },
        "template": {
         "data": {
          "bar": [
           {
            "error_x": {
             "color": "#2a3f5f"
            },
            "error_y": {
             "color": "#2a3f5f"
            },
            "marker": {
             "line": {
              "color": "#E5ECF6",
              "width": 0.5
             },
             "pattern": {
              "fillmode": "overlay",
              "size": 10,
              "solidity": 0.2
             }
            },
            "type": "bar"
           }
          ],
          "barpolar": [
           {
            "marker": {
             "line": {
              "color": "#E5ECF6",
              "width": 0.5
             },
             "pattern": {
              "fillmode": "overlay",
              "size": 10,
              "solidity": 0.2
             }
            },
            "type": "barpolar"
           }
          ],
          "carpet": [
           {
            "aaxis": {
             "endlinecolor": "#2a3f5f",
             "gridcolor": "white",
             "linecolor": "white",
             "minorgridcolor": "white",
             "startlinecolor": "#2a3f5f"
            },
            "baxis": {
             "endlinecolor": "#2a3f5f",
             "gridcolor": "white",
             "linecolor": "white",
             "minorgridcolor": "white",
             "startlinecolor": "#2a3f5f"
            },
            "type": "carpet"
           }
          ],
          "choropleth": [
           {
            "colorbar": {
             "outlinewidth": 0,
             "ticks": ""
            },
            "type": "choropleth"
           }
          ],
          "contour": [
           {
            "colorbar": {
             "outlinewidth": 0,
             "ticks": ""
            },
            "colorscale": [
             [
              0,
              "#0d0887"
             ],
             [
              0.1111111111111111,
              "#46039f"
             ],
             [
              0.2222222222222222,
              "#7201a8"
             ],
             [
              0.3333333333333333,
              "#9c179e"
             ],
             [
              0.4444444444444444,
              "#bd3786"
             ],
             [
              0.5555555555555556,
              "#d8576b"
             ],
             [
              0.6666666666666666,
              "#ed7953"
             ],
             [
              0.7777777777777778,
              "#fb9f3a"
             ],
             [
              0.8888888888888888,
              "#fdca26"
             ],
             [
              1,
              "#f0f921"
             ]
            ],
            "type": "contour"
           }
          ],
          "contourcarpet": [
           {
            "colorbar": {
             "outlinewidth": 0,
             "ticks": ""
            },
            "type": "contourcarpet"
           }
          ],
          "heatmap": [
           {
            "colorbar": {
             "outlinewidth": 0,
             "ticks": ""
            },
            "colorscale": [
             [
              0,
              "#0d0887"
             ],
             [
              0.1111111111111111,
              "#46039f"
             ],
             [
              0.2222222222222222,
              "#7201a8"
             ],
             [
              0.3333333333333333,
              "#9c179e"
             ],
             [
              0.4444444444444444,
              "#bd3786"
             ],
             [
              0.5555555555555556,
              "#d8576b"
             ],
             [
              0.6666666666666666,
              "#ed7953"
             ],
             [
              0.7777777777777778,
              "#fb9f3a"
             ],
             [
              0.8888888888888888,
              "#fdca26"
             ],
             [
              1,
              "#f0f921"
             ]
            ],
            "type": "heatmap"
           }
          ],
          "heatmapgl": [
           {
            "colorbar": {
             "outlinewidth": 0,
             "ticks": ""
            },
            "colorscale": [
             [
              0,
              "#0d0887"
             ],
             [
              0.1111111111111111,
              "#46039f"
             ],
             [
              0.2222222222222222,
              "#7201a8"
             ],
             [
              0.3333333333333333,
              "#9c179e"
             ],
             [
              0.4444444444444444,
              "#bd3786"
             ],
             [
              0.5555555555555556,
              "#d8576b"
             ],
             [
              0.6666666666666666,
              "#ed7953"
             ],
             [
              0.7777777777777778,
              "#fb9f3a"
             ],
             [
              0.8888888888888888,
              "#fdca26"
             ],
             [
              1,
              "#f0f921"
             ]
            ],
            "type": "heatmapgl"
           }
          ],
          "histogram": [
           {
            "marker": {
             "pattern": {
              "fillmode": "overlay",
              "size": 10,
              "solidity": 0.2
             }
            },
            "type": "histogram"
           }
          ],
          "histogram2d": [
           {
            "colorbar": {
             "outlinewidth": 0,
             "ticks": ""
            },
            "colorscale": [
             [
              0,
              "#0d0887"
             ],
             [
              0.1111111111111111,
              "#46039f"
             ],
             [
              0.2222222222222222,
              "#7201a8"
             ],
             [
              0.3333333333333333,
              "#9c179e"
             ],
             [
              0.4444444444444444,
              "#bd3786"
             ],
             [
              0.5555555555555556,
              "#d8576b"
             ],
             [
              0.6666666666666666,
              "#ed7953"
             ],
             [
              0.7777777777777778,
              "#fb9f3a"
             ],
             [
              0.8888888888888888,
              "#fdca26"
             ],
             [
              1,
              "#f0f921"
             ]
            ],
            "type": "histogram2d"
           }
          ],
          "histogram2dcontour": [
           {
            "colorbar": {
             "outlinewidth": 0,
             "ticks": ""
            },
            "colorscale": [
             [
              0,
              "#0d0887"
             ],
             [
              0.1111111111111111,
              "#46039f"
             ],
             [
              0.2222222222222222,
              "#7201a8"
             ],
             [
              0.3333333333333333,
              "#9c179e"
             ],
             [
              0.4444444444444444,
              "#bd3786"
             ],
             [
              0.5555555555555556,
              "#d8576b"
             ],
             [
              0.6666666666666666,
              "#ed7953"
             ],
             [
              0.7777777777777778,
              "#fb9f3a"
             ],
             [
              0.8888888888888888,
              "#fdca26"
             ],
             [
              1,
              "#f0f921"
             ]
            ],
            "type": "histogram2dcontour"
           }
          ],
          "mesh3d": [
           {
            "colorbar": {
             "outlinewidth": 0,
             "ticks": ""
            },
            "type": "mesh3d"
           }
          ],
          "parcoords": [
           {
            "line": {
             "colorbar": {
              "outlinewidth": 0,
              "ticks": ""
             }
            },
            "type": "parcoords"
           }
          ],
          "pie": [
           {
            "automargin": true,
            "type": "pie"
           }
          ],
          "scatter": [
           {
            "fillpattern": {
             "fillmode": "overlay",
             "size": 10,
             "solidity": 0.2
            },
            "type": "scatter"
           }
          ],
          "scatter3d": [
           {
            "line": {
             "colorbar": {
              "outlinewidth": 0,
              "ticks": ""
             }
            },
            "marker": {
             "colorbar": {
              "outlinewidth": 0,
              "ticks": ""
             }
            },
            "type": "scatter3d"
           }
          ],
          "scattercarpet": [
           {
            "marker": {
             "colorbar": {
              "outlinewidth": 0,
              "ticks": ""
             }
            },
            "type": "scattercarpet"
           }
          ],
          "scattergeo": [
           {
            "marker": {
             "colorbar": {
              "outlinewidth": 0,
              "ticks": ""
             }
            },
            "type": "scattergeo"
           }
          ],
          "scattergl": [
           {
            "marker": {
             "colorbar": {
              "outlinewidth": 0,
              "ticks": ""
             }
            },
            "type": "scattergl"
           }
          ],
          "scattermapbox": [
           {
            "marker": {
             "colorbar": {
              "outlinewidth": 0,
              "ticks": ""
             }
            },
            "type": "scattermapbox"
           }
          ],
          "scatterpolar": [
           {
            "marker": {
             "colorbar": {
              "outlinewidth": 0,
              "ticks": ""
             }
            },
            "type": "scatterpolar"
           }
          ],
          "scatterpolargl": [
           {
            "marker": {
             "colorbar": {
              "outlinewidth": 0,
              "ticks": ""
             }
            },
            "type": "scatterpolargl"
           }
          ],
          "scatterternary": [
           {
            "marker": {
             "colorbar": {
              "outlinewidth": 0,
              "ticks": ""
             }
            },
            "type": "scatterternary"
           }
          ],
          "surface": [
           {
            "colorbar": {
             "outlinewidth": 0,
             "ticks": ""
            },
            "colorscale": [
             [
              0,
              "#0d0887"
             ],
             [
              0.1111111111111111,
              "#46039f"
             ],
             [
              0.2222222222222222,
              "#7201a8"
             ],
             [
              0.3333333333333333,
              "#9c179e"
             ],
             [
              0.4444444444444444,
              "#bd3786"
             ],
             [
              0.5555555555555556,
              "#d8576b"
             ],
             [
              0.6666666666666666,
              "#ed7953"
             ],
             [
              0.7777777777777778,
              "#fb9f3a"
             ],
             [
              0.8888888888888888,
              "#fdca26"
             ],
             [
              1,
              "#f0f921"
             ]
            ],
            "type": "surface"
           }
          ],
          "table": [
           {
            "cells": {
             "fill": {
              "color": "#EBF0F8"
             },
             "line": {
              "color": "white"
             }
            },
            "header": {
             "fill": {
              "color": "#C8D4E3"
             },
             "line": {
              "color": "white"
             }
            },
            "type": "table"
           }
          ]
         },
         "layout": {
          "annotationdefaults": {
           "arrowcolor": "#2a3f5f",
           "arrowhead": 0,
           "arrowwidth": 1
          },
          "autotypenumbers": "strict",
          "coloraxis": {
           "colorbar": {
            "outlinewidth": 0,
            "ticks": ""
           }
          },
          "colorscale": {
           "diverging": [
            [
             0,
             "#8e0152"
            ],
            [
             0.1,
             "#c51b7d"
            ],
            [
             0.2,
             "#de77ae"
            ],
            [
             0.3,
             "#f1b6da"
            ],
            [
             0.4,
             "#fde0ef"
            ],
            [
             0.5,
             "#f7f7f7"
            ],
            [
             0.6,
             "#e6f5d0"
            ],
            [
             0.7,
             "#b8e186"
            ],
            [
             0.8,
             "#7fbc41"
            ],
            [
             0.9,
             "#4d9221"
            ],
            [
             1,
             "#276419"
            ]
           ],
           "sequential": [
            [
             0,
             "#0d0887"
            ],
            [
             0.1111111111111111,
             "#46039f"
            ],
            [
             0.2222222222222222,
             "#7201a8"
            ],
            [
             0.3333333333333333,
             "#9c179e"
            ],
            [
             0.4444444444444444,
             "#bd3786"
            ],
            [
             0.5555555555555556,
             "#d8576b"
            ],
            [
             0.6666666666666666,
             "#ed7953"
            ],
            [
             0.7777777777777778,
             "#fb9f3a"
            ],
            [
             0.8888888888888888,
             "#fdca26"
            ],
            [
             1,
             "#f0f921"
            ]
           ],
           "sequentialminus": [
            [
             0,
             "#0d0887"
            ],
            [
             0.1111111111111111,
             "#46039f"
            ],
            [
             0.2222222222222222,
             "#7201a8"
            ],
            [
             0.3333333333333333,
             "#9c179e"
            ],
            [
             0.4444444444444444,
             "#bd3786"
            ],
            [
             0.5555555555555556,
             "#d8576b"
            ],
            [
             0.6666666666666666,
             "#ed7953"
            ],
            [
             0.7777777777777778,
             "#fb9f3a"
            ],
            [
             0.8888888888888888,
             "#fdca26"
            ],
            [
             1,
             "#f0f921"
            ]
           ]
          },
          "colorway": [
           "#636efa",
           "#EF553B",
           "#00cc96",
           "#ab63fa",
           "#FFA15A",
           "#19d3f3",
           "#FF6692",
           "#B6E880",
           "#FF97FF",
           "#FECB52"
          ],
          "font": {
           "color": "#2a3f5f"
          },
          "geo": {
           "bgcolor": "white",
           "lakecolor": "white",
           "landcolor": "#E5ECF6",
           "showlakes": true,
           "showland": true,
           "subunitcolor": "white"
          },
          "hoverlabel": {
           "align": "left"
          },
          "hovermode": "closest",
          "mapbox": {
           "style": "light"
          },
          "paper_bgcolor": "white",
          "plot_bgcolor": "#E5ECF6",
          "polar": {
           "angularaxis": {
            "gridcolor": "white",
            "linecolor": "white",
            "ticks": ""
           },
           "bgcolor": "#E5ECF6",
           "radialaxis": {
            "gridcolor": "white",
            "linecolor": "white",
            "ticks": ""
           }
          },
          "scene": {
           "xaxis": {
            "backgroundcolor": "#E5ECF6",
            "gridcolor": "white",
            "gridwidth": 2,
            "linecolor": "white",
            "showbackground": true,
            "ticks": "",
            "zerolinecolor": "white"
           },
           "yaxis": {
            "backgroundcolor": "#E5ECF6",
            "gridcolor": "white",
            "gridwidth": 2,
            "linecolor": "white",
            "showbackground": true,
            "ticks": "",
            "zerolinecolor": "white"
           },
           "zaxis": {
            "backgroundcolor": "#E5ECF6",
            "gridcolor": "white",
            "gridwidth": 2,
            "linecolor": "white",
            "showbackground": true,
            "ticks": "",
            "zerolinecolor": "white"
           }
          },
          "shapedefaults": {
           "line": {
            "color": "#2a3f5f"
           }
          },
          "ternary": {
           "aaxis": {
            "gridcolor": "white",
            "linecolor": "white",
            "ticks": ""
           },
           "baxis": {
            "gridcolor": "white",
            "linecolor": "white",
            "ticks": ""
           },
           "bgcolor": "#E5ECF6",
           "caxis": {
            "gridcolor": "white",
            "linecolor": "white",
            "ticks": ""
           }
          },
          "title": {
           "x": 0.05
          },
          "xaxis": {
           "automargin": true,
           "gridcolor": "white",
           "linecolor": "white",
           "ticks": "",
           "title": {
            "standoff": 15
           },
           "zerolinecolor": "white",
           "zerolinewidth": 2
          },
          "yaxis": {
           "automargin": true,
           "gridcolor": "white",
           "linecolor": "white",
           "ticks": "",
           "title": {
            "standoff": 15
           },
           "zerolinecolor": "white",
           "zerolinewidth": 2
          }
         }
        },
        "width": 600
       }
      }
     },
     "metadata": {},
     "output_type": "display_data"
    },
    {
     "data": {
      "application/vnd.plotly.v1+json": {
       "config": {
        "plotlyServerURL": "https://plot.ly"
       },
       "data": [
        {
         "customdata": [
          [
           "Situé au cœur de Grenoble, à seulement 450 mètres de la gare SNCF, le 1924 Hôtel propose une connexi",
           "on Wi-Fi gratuite. L&#x27;arrêt de tramway Alsace-Lorraine est à moins d&#x27;une minute à pied.\n\nTo",
           "utes les chambres sont insonorisées et pourvues d’une télévision par satellite et d’une salle de bai"
          ],
          [
           "Le B&amp;B Grenoble Centre Alpexpo est situé à Grenoble, à seulement 800 mètres d&#x27;Alpexpo. Doté",
           " d&#x27;une réception ouverte 24h/24, il propose une connexion Wi-Fi gratuite et des hébergements in",
           "sonorisés. Il se trouve à 200 mètres de la station de tramway Grand Place.\n\nToutes les chambres du B"
          ],
          [
           "Le Brit Hôtel Suisse et Bordeaux - Centre Gare est situé à proximité d’une rue piétonne et commerçan",
           "te du centre-ville de Grenoble. Il propose des chambres avec salle de bains privative et connexion W",
           "i-Fi gratuite, ainsi que des salles de réunion équipées d&#x27;un projecteur et d&#x27;un tableau à "
          ],
          [
           "Situé à Grenoble, l&#x27;Hôtel Terminus se trouve en face des gares routière et SNCF. Il propose des",
           " chambres climatisées et insonorisées avec télévision par satellite et connexion Wi-Fi gratuite.\n\nL&",
           "#x27;Hôtel Terminus Hotel propose une réception ouverte 24h/24 et un service de change.\n\nLe Terminus"
          ],
          [
           "Situé en plein cœur de Grenoble, L&#x27;élégance- Centre Historique- Confort- Netflix- Marché Frais ",
           "et Local offre une vue sur le lac depuis son balcon. Offrant une vue sur le jardin et la ville, il s",
           "e trouve à 1,4 km de la gare de Grenoble. L&#x27;appartement dispose d&#x27;une terrasse bien exposé"
          ],
          [
           "La Bulle du Téléphérique est un appartement récemment rénové situé dans le centre de Grenoble, à 800",
           " mètres de la gare de Grenoble et à 1,1 km du WTC Grenoble. Il offre une vue sur la cour intérieure ",
           "et dispose d&#x27;une connexion Wi-Fi gratuite. Cet établissement non-fumeurs se trouve à 5,5 km d&#"
          ],
          [
           "Offrant une vue sur la ville, l&#x27;établissement La loge parisienne 300m gare Bastille Téléphériqu",
           "e est situé à Grenoble, à 800 mètres du WTC Grenoble et à 5,4 km d&#x27;AlpExpo. Il propose un ascen",
           "seur, un service d&#x27;enregistrement et de départ privés ainsi qu&#x27;une connexion Wi-Fi gratuit"
          ],
          [
           "Situé à Grenoble, à proximité de la gare de Grenoble et du WTC Grenoble, l&#x27;établissement Le 62 ",
           "- Spacieux T2 avec JARDIN, parking &amp; tramway est un établissement récemment rénové proposant un ",
           "service de prêt de vélos et un jardin. Offrant une vue paisible sur la rue, il se trouve à 5,4 km d&"
          ],
          [
           "Situé à Grenoble, à proximité du WTC Grenoble, du stade des Alpes et de la Bastille, l&#x27;établiss",
           "ement Le Bohème, Cosy, Hypercentre propose une connexion Wi-Fi gratuite. Vous séjournerez à 7 km d&#",
           "x27;AlpExpo, à 7,2 km de Summum et à 34 km du col de Parménie. L&#x27;établissement se trouve à 1,4 "
          ],
          [
           "Doté d&#x27;une terrasse, l&#x27;établissement Le Bon Quai est situé à Grenoble, à seulement 1,1 km ",
           "du WTC et à 1,6 km de la Bastille. Il est situé à 5,9 km d&#x27;AlpExpo et dispose d&#x27;un ascense",
           "ur. L&#x27;établissement se trouve à 800 mètres de la gare de Grenoble et à moins de 600 mètres du c"
          ],
          [
           "Le Diderot est situé à Grenoble, à moins de 1 km de la gare, à 6,6 km de l&#x27;AlpExpo et à 4,3 km ",
           "du stade des Alpes. Il se trouve à environ 5,6 km de la Bastille Grenoble, à 6,8 km de Summum et à 3",
           "2 km du col de Parménie. Une connexion Wi-Fi est disponible gratuitement dans l&#x27;ensemble de ses"
          ],
          [
           "Au cœur du centre-ville historique de la capitale des Alpes, le Grand Hôtel de Grenoble, BW Premier ",
           "Collection by Best Western **** vous attend pour une expérience inoubliable.\n\nQue vous soyez en voya",
           "ge d’affaires ou profitiez d’une escapade sportive, notre équipe à l’écoute et dévouée est là pour v"
          ],
          [
           "Le Huppé, Hypercentre, proche Bastille, WIFI illimité &amp; Netflix est situé dans le centre de Gren",
           "oble, à 1,2 km de la gare et à 1,5 km du World Trade Center de Grenoble. Il propose la climatisation",
           " et une connexion Wi-Fi gratuite. Vous séjournerez à 1,5 km du stade des Alpes, à 1,7 km de la Basti"
          ],
          [
           "Doté d&#x27;un jardin et offrant une vue sur la rue, l&#x27;établissement Le REVOL est situé à Greno",
           "ble, à 600 mètres de la gare et à 6,5 km d&#x27;AlpExpo. Il se trouve à 3,1 km du stade des Alpes et",
           " propose un enregistrement et un départ privés. Une connexion Wi-Fi est disponible gratuitement dans"
          ],
          [
           "Situé en plein centre de Grenoble, à proximité de la gare de Grenoble et du WTC Grenoble, Le Vauban ",
           "T3 Hyper centre propose une connexion Wi-Fi gratuite, la climatisation et des équipements ménagers t",
           "els qu&#x27;un four micro-ondes et une machine à café. Cet appartement récemment rénové est situé à "
          ],
          [
           "Situé à 600 mètres du centre de Grenoble, l&#x27;hébergement Le petit Championnet T2 dispose d&#x27;",
           "un jardin et d&#x27;une terrasse. Il se trouve à environ 1,4 km du WTC Grenoble, à 4,8 km de l&#x27;",
           "AlpExpo et à 1,6 km du stade des Alpes. Cet établissement non-fumeurs se trouve à 1,1 km de la gare "
          ],
          [
           "Le rendezvous au jardin des grenoblois is located in the Grenoble City Centre district of Grenoble, ",
           "5.4 km from AlpExpo, 1.3 km from Alps Stadium and 2 km from The Bastille Grenoble. The 3-star apartm",
           "ent is 1.6 km from WTC Grenoble. The property is 200 metres from the city centre and 1.3 km from Gre"
          ],
          [
           "La Maison Barbillon Grenoble vous accueille à Grenoble, à seulement 100 mètres de la gare. L’établis",
           "sement propose des chambres confortables dotées d&#x27;une télévision par satellite et d&#x27;une co",
           "nnexion Wi-Fi gratuite.\n\nLes chambres de la Maison Barbillon Grenoble présentent une décoration auth"
          ],
          [
           "Le Residhotel Grenette est situé dans le centre de Grenoble, à 3 minutes à pied de la place Victor H",
           "ugo. Il propose un hébergement indépendant avec une connexion Wi-Fi gratuite.\n\nChaque logement dispo",
           "se d&#x27;une pièce à vivre avec un bureau et une télévision par câble. Leur kitchenette est équipée"
          ],
          [
           "Situé à Grenoble, à 1,6 km de la gare, le RockyPop Grenoble Hotel propose une salle de sport, un par",
           "king privé, un jardin et une terrasse. Il possède un restaurant, un bar et un sauna. Il se trouve à ",
           "1,9 km du WTC Grenoble et à moins de 600 mètres du centre-ville.\n\nLes chambres climatisées comprenne"
          ],
          [
           "La résidence Séjours &amp; Affaires Grenoble Marie Curie vous accueille à 5 minutes à pied de la gar",
           "e de Grenoble et à moins 100 mètres de l&#x27;arrêt de tramway Cité Internationale. Elle bénéficie d",
           "&#x27;un emplacement privilégié dans le quartier des affaires Europole, à 650 mètres de Grenoble Éco"
          ],
          [
           "Idéalement situé à Grenoble, l&#x27;établissement The Babel Community Hôtel - Grenoble Bastille prop",
           "ose un petit-déjeuner buffet et une connexion Wi-Fi gratuite. Offrant une vue sur la montagne et le ",
           "jardin, il se trouve à 1,9 km de la gare de Grenoble. Il propose des chambres familiales et une terr"
          ],
          [
           "Situé à Grenoble, le Très élégant duplex, proche Gare propose un hébergement récemment rénové à 400 ",
           "mètres de la gare de Grenoble et à 700 mètres du WTC Grenoble. Vous bénéficierez d&#x27;un service d",
           "e sécurité d&#x27;une journée, d&#x27;un enregistrement et d&#x27;un départ privés ainsi que d&#x27;"
          ],
          [
           "Dotée d&#x27;une connexion Wi-Fi gratuite, cette chambre offre une vue sur la montagne. Le chalet de",
           " montagne Style sur le Quai saint Laurent et Bastille est un hébergement situé en plein cœur de Gren",
           "oble, à seulement 1,4 km de la gare de Grenoble et à 1,7 km du WTC Grenoble. Offrant une vue sur la "
          ]
         ],
         "hovertemplate": "<b>Description: </b><br> %{customdata[0]} <br> %{customdata[1]} <br> %{customdata[2]}",
         "lat": [
          45.1892848318,
          45.1588366739,
          45.1905192053,
          45.1910782562,
          45.1916128,
          45.1925226,
          45.1920279682,
          45.1864523,
          45.192591604,
          45.1939358582,
          45.1898407,
          45.1908150351,
          45.1924910229,
          45.1904383903,
          45.1885872,
          45.186252739,
          45.189773,
          45.1907932969,
          45.1905636271,
          45.186911,
          45.1943964212,
          45.1958108378,
          45.1897794061,
          45.1953739
         ],
         "legendgroup": "",
         "lon": [
          5.7186198235,
          5.7344354689,
          5.7160194218,
          5.715598315,
          5.7293614,
          5.7234609,
          5.7198326687000005,
          5.710784,
          5.730104907,
          5.7208680675,
          5.7050208,
          5.7285480201,
          5.727852673,
          5.707847673,
          5.7235746,
          5.7236481552,
          5.7281059,
          5.7166966796,
          5.7244844735000004,
          5.731293,
          5.710593313,
          5.7254467754,
          5.7178892991,
          5.729468
         ],
         "marker": {
          "color": [
           8.6,
           7.5,
           7.8,
           8.3,
           8.9,
           9.8,
           8.8,
           8.5,
           8.5,
           9.1,
           8.5,
           8.4,
           8.9,
           8.9,
           8.4,
           8.5,
           8.2,
           8.4,
           7.6,
           8.4,
           7.6,
           8.5,
           8.9,
           8.3
          ],
          "coloraxis": "coloraxis"
         },
         "mode": "markers",
         "name": "",
         "showlegend": false,
         "subplot": "mapbox",
         "type": "scattermapbox"
        }
       ],
       "layout": {
        "coloraxis": {
         "colorbar": {
          "title": {
           "text": "score"
          }
         },
         "colorscale": [
          [
           0,
           "#0d0887"
          ],
          [
           0.1111111111111111,
           "#46039f"
          ],
          [
           0.2222222222222222,
           "#7201a8"
          ],
          [
           0.3333333333333333,
           "#9c179e"
          ],
          [
           0.4444444444444444,
           "#bd3786"
          ],
          [
           0.5555555555555556,
           "#d8576b"
          ],
          [
           0.6666666666666666,
           "#ed7953"
          ],
          [
           0.7777777777777778,
           "#fb9f3a"
          ],
          [
           0.8888888888888888,
           "#fdca26"
          ],
          [
           1,
           "#f0f921"
          ]
         ]
        },
        "height": 600,
        "legend": {
         "tracegroupgap": 0
        },
        "mapbox": {
         "center": {
          "lat": 45.18961202808333,
          "lon": 5.7216480972624995
         },
         "domain": {
          "x": [
           0,
           1
          ],
          "y": [
           0,
           1
          ]
         },
         "style": "carto-positron",
         "zoom": 11
        },
        "margin": {
         "t": 60
        },
        "template": {
         "data": {
          "bar": [
           {
            "error_x": {
             "color": "#2a3f5f"
            },
            "error_y": {
             "color": "#2a3f5f"
            },
            "marker": {
             "line": {
              "color": "#E5ECF6",
              "width": 0.5
             },
             "pattern": {
              "fillmode": "overlay",
              "size": 10,
              "solidity": 0.2
             }
            },
            "type": "bar"
           }
          ],
          "barpolar": [
           {
            "marker": {
             "line": {
              "color": "#E5ECF6",
              "width": 0.5
             },
             "pattern": {
              "fillmode": "overlay",
              "size": 10,
              "solidity": 0.2
             }
            },
            "type": "barpolar"
           }
          ],
          "carpet": [
           {
            "aaxis": {
             "endlinecolor": "#2a3f5f",
             "gridcolor": "white",
             "linecolor": "white",
             "minorgridcolor": "white",
             "startlinecolor": "#2a3f5f"
            },
            "baxis": {
             "endlinecolor": "#2a3f5f",
             "gridcolor": "white",
             "linecolor": "white",
             "minorgridcolor": "white",
             "startlinecolor": "#2a3f5f"
            },
            "type": "carpet"
           }
          ],
          "choropleth": [
           {
            "colorbar": {
             "outlinewidth": 0,
             "ticks": ""
            },
            "type": "choropleth"
           }
          ],
          "contour": [
           {
            "colorbar": {
             "outlinewidth": 0,
             "ticks": ""
            },
            "colorscale": [
             [
              0,
              "#0d0887"
             ],
             [
              0.1111111111111111,
              "#46039f"
             ],
             [
              0.2222222222222222,
              "#7201a8"
             ],
             [
              0.3333333333333333,
              "#9c179e"
             ],
             [
              0.4444444444444444,
              "#bd3786"
             ],
             [
              0.5555555555555556,
              "#d8576b"
             ],
             [
              0.6666666666666666,
              "#ed7953"
             ],
             [
              0.7777777777777778,
              "#fb9f3a"
             ],
             [
              0.8888888888888888,
              "#fdca26"
             ],
             [
              1,
              "#f0f921"
             ]
            ],
            "type": "contour"
           }
          ],
          "contourcarpet": [
           {
            "colorbar": {
             "outlinewidth": 0,
             "ticks": ""
            },
            "type": "contourcarpet"
           }
          ],
          "heatmap": [
           {
            "colorbar": {
             "outlinewidth": 0,
             "ticks": ""
            },
            "colorscale": [
             [
              0,
              "#0d0887"
             ],
             [
              0.1111111111111111,
              "#46039f"
             ],
             [
              0.2222222222222222,
              "#7201a8"
             ],
             [
              0.3333333333333333,
              "#9c179e"
             ],
             [
              0.4444444444444444,
              "#bd3786"
             ],
             [
              0.5555555555555556,
              "#d8576b"
             ],
             [
              0.6666666666666666,
              "#ed7953"
             ],
             [
              0.7777777777777778,
              "#fb9f3a"
             ],
             [
              0.8888888888888888,
              "#fdca26"
             ],
             [
              1,
              "#f0f921"
             ]
            ],
            "type": "heatmap"
           }
          ],
          "heatmapgl": [
           {
            "colorbar": {
             "outlinewidth": 0,
             "ticks": ""
            },
            "colorscale": [
             [
              0,
              "#0d0887"
             ],
             [
              0.1111111111111111,
              "#46039f"
             ],
             [
              0.2222222222222222,
              "#7201a8"
             ],
             [
              0.3333333333333333,
              "#9c179e"
             ],
             [
              0.4444444444444444,
              "#bd3786"
             ],
             [
              0.5555555555555556,
              "#d8576b"
             ],
             [
              0.6666666666666666,
              "#ed7953"
             ],
             [
              0.7777777777777778,
              "#fb9f3a"
             ],
             [
              0.8888888888888888,
              "#fdca26"
             ],
             [
              1,
              "#f0f921"
             ]
            ],
            "type": "heatmapgl"
           }
          ],
          "histogram": [
           {
            "marker": {
             "pattern": {
              "fillmode": "overlay",
              "size": 10,
              "solidity": 0.2
             }
            },
            "type": "histogram"
           }
          ],
          "histogram2d": [
           {
            "colorbar": {
             "outlinewidth": 0,
             "ticks": ""
            },
            "colorscale": [
             [
              0,
              "#0d0887"
             ],
             [
              0.1111111111111111,
              "#46039f"
             ],
             [
              0.2222222222222222,
              "#7201a8"
             ],
             [
              0.3333333333333333,
              "#9c179e"
             ],
             [
              0.4444444444444444,
              "#bd3786"
             ],
             [
              0.5555555555555556,
              "#d8576b"
             ],
             [
              0.6666666666666666,
              "#ed7953"
             ],
             [
              0.7777777777777778,
              "#fb9f3a"
             ],
             [
              0.8888888888888888,
              "#fdca26"
             ],
             [
              1,
              "#f0f921"
             ]
            ],
            "type": "histogram2d"
           }
          ],
          "histogram2dcontour": [
           {
            "colorbar": {
             "outlinewidth": 0,
             "ticks": ""
            },
            "colorscale": [
             [
              0,
              "#0d0887"
             ],
             [
              0.1111111111111111,
              "#46039f"
             ],
             [
              0.2222222222222222,
              "#7201a8"
             ],
             [
              0.3333333333333333,
              "#9c179e"
             ],
             [
              0.4444444444444444,
              "#bd3786"
             ],
             [
              0.5555555555555556,
              "#d8576b"
             ],
             [
              0.6666666666666666,
              "#ed7953"
             ],
             [
              0.7777777777777778,
              "#fb9f3a"
             ],
             [
              0.8888888888888888,
              "#fdca26"
             ],
             [
              1,
              "#f0f921"
             ]
            ],
            "type": "histogram2dcontour"
           }
          ],
          "mesh3d": [
           {
            "colorbar": {
             "outlinewidth": 0,
             "ticks": ""
            },
            "type": "mesh3d"
           }
          ],
          "parcoords": [
           {
            "line": {
             "colorbar": {
              "outlinewidth": 0,
              "ticks": ""
             }
            },
            "type": "parcoords"
           }
          ],
          "pie": [
           {
            "automargin": true,
            "type": "pie"
           }
          ],
          "scatter": [
           {
            "fillpattern": {
             "fillmode": "overlay",
             "size": 10,
             "solidity": 0.2
            },
            "type": "scatter"
           }
          ],
          "scatter3d": [
           {
            "line": {
             "colorbar": {
              "outlinewidth": 0,
              "ticks": ""
             }
            },
            "marker": {
             "colorbar": {
              "outlinewidth": 0,
              "ticks": ""
             }
            },
            "type": "scatter3d"
           }
          ],
          "scattercarpet": [
           {
            "marker": {
             "colorbar": {
              "outlinewidth": 0,
              "ticks": ""
             }
            },
            "type": "scattercarpet"
           }
          ],
          "scattergeo": [
           {
            "marker": {
             "colorbar": {
              "outlinewidth": 0,
              "ticks": ""
             }
            },
            "type": "scattergeo"
           }
          ],
          "scattergl": [
           {
            "marker": {
             "colorbar": {
              "outlinewidth": 0,
              "ticks": ""
             }
            },
            "type": "scattergl"
           }
          ],
          "scattermapbox": [
           {
            "marker": {
             "colorbar": {
              "outlinewidth": 0,
              "ticks": ""
             }
            },
            "type": "scattermapbox"
           }
          ],
          "scatterpolar": [
           {
            "marker": {
             "colorbar": {
              "outlinewidth": 0,
              "ticks": ""
             }
            },
            "type": "scatterpolar"
           }
          ],
          "scatterpolargl": [
           {
            "marker": {
             "colorbar": {
              "outlinewidth": 0,
              "ticks": ""
             }
            },
            "type": "scatterpolargl"
           }
          ],
          "scatterternary": [
           {
            "marker": {
             "colorbar": {
              "outlinewidth": 0,
              "ticks": ""
             }
            },
            "type": "scatterternary"
           }
          ],
          "surface": [
           {
            "colorbar": {
             "outlinewidth": 0,
             "ticks": ""
            },
            "colorscale": [
             [
              0,
              "#0d0887"
             ],
             [
              0.1111111111111111,
              "#46039f"
             ],
             [
              0.2222222222222222,
              "#7201a8"
             ],
             [
              0.3333333333333333,
              "#9c179e"
             ],
             [
              0.4444444444444444,
              "#bd3786"
             ],
             [
              0.5555555555555556,
              "#d8576b"
             ],
             [
              0.6666666666666666,
              "#ed7953"
             ],
             [
              0.7777777777777778,
              "#fb9f3a"
             ],
             [
              0.8888888888888888,
              "#fdca26"
             ],
             [
              1,
              "#f0f921"
             ]
            ],
            "type": "surface"
           }
          ],
          "table": [
           {
            "cells": {
             "fill": {
              "color": "#EBF0F8"
             },
             "line": {
              "color": "white"
             }
            },
            "header": {
             "fill": {
              "color": "#C8D4E3"
             },
             "line": {
              "color": "white"
             }
            },
            "type": "table"
           }
          ]
         },
         "layout": {
          "annotationdefaults": {
           "arrowcolor": "#2a3f5f",
           "arrowhead": 0,
           "arrowwidth": 1
          },
          "autotypenumbers": "strict",
          "coloraxis": {
           "colorbar": {
            "outlinewidth": 0,
            "ticks": ""
           }
          },
          "colorscale": {
           "diverging": [
            [
             0,
             "#8e0152"
            ],
            [
             0.1,
             "#c51b7d"
            ],
            [
             0.2,
             "#de77ae"
            ],
            [
             0.3,
             "#f1b6da"
            ],
            [
             0.4,
             "#fde0ef"
            ],
            [
             0.5,
             "#f7f7f7"
            ],
            [
             0.6,
             "#e6f5d0"
            ],
            [
             0.7,
             "#b8e186"
            ],
            [
             0.8,
             "#7fbc41"
            ],
            [
             0.9,
             "#4d9221"
            ],
            [
             1,
             "#276419"
            ]
           ],
           "sequential": [
            [
             0,
             "#0d0887"
            ],
            [
             0.1111111111111111,
             "#46039f"
            ],
            [
             0.2222222222222222,
             "#7201a8"
            ],
            [
             0.3333333333333333,
             "#9c179e"
            ],
            [
             0.4444444444444444,
             "#bd3786"
            ],
            [
             0.5555555555555556,
             "#d8576b"
            ],
            [
             0.6666666666666666,
             "#ed7953"
            ],
            [
             0.7777777777777778,
             "#fb9f3a"
            ],
            [
             0.8888888888888888,
             "#fdca26"
            ],
            [
             1,
             "#f0f921"
            ]
           ],
           "sequentialminus": [
            [
             0,
             "#0d0887"
            ],
            [
             0.1111111111111111,
             "#46039f"
            ],
            [
             0.2222222222222222,
             "#7201a8"
            ],
            [
             0.3333333333333333,
             "#9c179e"
            ],
            [
             0.4444444444444444,
             "#bd3786"
            ],
            [
             0.5555555555555556,
             "#d8576b"
            ],
            [
             0.6666666666666666,
             "#ed7953"
            ],
            [
             0.7777777777777778,
             "#fb9f3a"
            ],
            [
             0.8888888888888888,
             "#fdca26"
            ],
            [
             1,
             "#f0f921"
            ]
           ]
          },
          "colorway": [
           "#636efa",
           "#EF553B",
           "#00cc96",
           "#ab63fa",
           "#FFA15A",
           "#19d3f3",
           "#FF6692",
           "#B6E880",
           "#FF97FF",
           "#FECB52"
          ],
          "font": {
           "color": "#2a3f5f"
          },
          "geo": {
           "bgcolor": "white",
           "lakecolor": "white",
           "landcolor": "#E5ECF6",
           "showlakes": true,
           "showland": true,
           "subunitcolor": "white"
          },
          "hoverlabel": {
           "align": "left"
          },
          "hovermode": "closest",
          "mapbox": {
           "style": "light"
          },
          "paper_bgcolor": "white",
          "plot_bgcolor": "#E5ECF6",
          "polar": {
           "angularaxis": {
            "gridcolor": "white",
            "linecolor": "white",
            "ticks": ""
           },
           "bgcolor": "#E5ECF6",
           "radialaxis": {
            "gridcolor": "white",
            "linecolor": "white",
            "ticks": ""
           }
          },
          "scene": {
           "xaxis": {
            "backgroundcolor": "#E5ECF6",
            "gridcolor": "white",
            "gridwidth": 2,
            "linecolor": "white",
            "showbackground": true,
            "ticks": "",
            "zerolinecolor": "white"
           },
           "yaxis": {
            "backgroundcolor": "#E5ECF6",
            "gridcolor": "white",
            "gridwidth": 2,
            "linecolor": "white",
            "showbackground": true,
            "ticks": "",
            "zerolinecolor": "white"
           },
           "zaxis": {
            "backgroundcolor": "#E5ECF6",
            "gridcolor": "white",
            "gridwidth": 2,
            "linecolor": "white",
            "showbackground": true,
            "ticks": "",
            "zerolinecolor": "white"
           }
          },
          "shapedefaults": {
           "line": {
            "color": "#2a3f5f"
           }
          },
          "ternary": {
           "aaxis": {
            "gridcolor": "white",
            "linecolor": "white",
            "ticks": ""
           },
           "baxis": {
            "gridcolor": "white",
            "linecolor": "white",
            "ticks": ""
           },
           "bgcolor": "#E5ECF6",
           "caxis": {
            "gridcolor": "white",
            "linecolor": "white",
            "ticks": ""
           }
          },
          "title": {
           "x": 0.05
          },
          "xaxis": {
           "automargin": true,
           "gridcolor": "white",
           "linecolor": "white",
           "ticks": "",
           "title": {
            "standoff": 15
           },
           "zerolinecolor": "white",
           "zerolinewidth": 2
          },
          "yaxis": {
           "automargin": true,
           "gridcolor": "white",
           "linecolor": "white",
           "ticks": "",
           "title": {
            "standoff": 15
           },
           "zerolinecolor": "white",
           "zerolinewidth": 2
          }
         }
        },
        "width": 600
       }
      }
     },
     "metadata": {},
     "output_type": "display_data"
    },
    {
     "data": {
      "application/vnd.plotly.v1+json": {
       "config": {
        "plotlyServerURL": "https://plot.ly"
       },
       "data": [
        {
         "customdata": [
          [
           "Situé dans le centre-ville de Toulouse, à proximité de la station de métro Compans Caffarelli, l&#x2",
           "7;AU GOÛT DU JOUR Climatisé dispose d&#x27;une connexion Wi-Fi gratuite et d&#x27;un lave-linge. Il ",
           "se trouve à environ 5,2 km du Zénith de Toulouse, à 5,8 km de l&#x27;amphithéâtre Purpan-Ancely et à"
          ],
          [
           "Situé dans le quartier du Capitole de Toulouse, à proximité de la station de métro Carmes, l&#x27;Ap",
           "partement - Carmes dispose d&#x27;une connexion Wi-Fi gratuite et d&#x27;un lave-linge. Offrant une ",
           "vue sur la ville et la cour intérieure, il se trouve à 3,6 km du Zénith de Toulouse. Il se trouve à "
          ],
          [
           "Situé à Toulouse, à 4,8 km du Zénith et à 6,8 km de l&#x27;amphithéâtre Purpan-Ancely, le Grand Stud",
           "io*Victor Hugo*Centre propose des hébergements avec une connexion Wi-Fi gratuite et une télévision à",
           " écran plat. Il est situé à 11 km du centre de conventions Diagora et dispose d&#x27;un ascenseur. I"
          ],
          [
           "Situé dans le quartier du Capitole de Toulouse, à proximité de la station de métro Jean-Jaures, le G",
           "rand studio en hyper-centre dispose d&#x27;une connexion Wi-Fi gratuite et d&#x27;un lave-linge. Il ",
           "est situé à 4,3 km du Zénith de Toulouse et dispose d&#x27;un ascenseur. Il se trouve à 4,2 km du st"
          ],
          [
           "Hotel Wilson Square is located in the heart of Toulouse&#x27;s historic city centre, just 200 metres",
           " from Place du Capitole. Toulouse Stadium is 4 km away. The hotel offers soundproofed accommodation ",
           "with air conditioning and free WiFi internet access.\n\nEach guest room at the Wilson Square has a pri"
          ],
          [
           "L’Hôtel Innes by HappyCulture vous accueille dans le centre-ville de Toulouse, à côté de la station ",
           "de métro Jeanne-d’Arc. Cet établissement met à votre disposition une connexion Wi-Fi gratuite et un ",
           "coin café dans le hall de la réception.\n\nL&#x27;Hôtel Innes by HappyCulture propose des hébergements"
          ],
          [
           "Doté d&#x27;une connexion Wi-Fi gratuite et offrant une vue sur la cour intérieure, Le Chalande - Hy",
           "per Centre est un hébergement situé dans le centre de Toulouse, à seulement 300 mètres de la station",
           " de métro Esquirol et à 600 mètres de la station de métro Carmes. Vous séjournerez à proximité de pl"
          ],
          [
           "Situé au cœur de Toulouse, à proximité des stations de métro Jean-Jaures et Capitole, l&#x27;établis",
           "sement Le Nid Douillet de l&#x27;Hypercentre propose une connexion Wi-Fi gratuite, la climatisation ",
           "et des équipements ménagers tels qu&#x27;un réfrigérateur et une machine à café. Il se trouve à envi"
          ],
          [
           "Situé à Toulouse, à proximité du Pont Neuf, de la station de métro Compans Caffarelli et du jardin j",
           "aponais Pierre Baudis, l&#x27;établissement Le Saphir propose une connexion Wi-Fi gratuite. Il se tr",
           "ouve à environ 4,3 km du stade de Toulouse, à 6 km de l&#x27;amphithéâtre Purpan-Ancely et à 13 km d"
          ],
          [
           "Situé dans le centre de Toulouse, à seulement 6,6 km du Stadium et à 6,8 km du Zénith, l&#x27;établi",
           "ssement Le Toulousain 101 - Appartement Calme en Hypercentre - Quartier Jeanne d&#x27;Arc propose un",
           " hébergement avec vue sur le jardin et connexion Wi-Fi gratuite. Cet appartement possède une terrass"
          ],
          [
           "Situé dans le centre-ville de Toulouse, à proximité de la gare de Toulouse-Matabiau, l&#x27;établiss",
           "ement Le Toulousain 102 - Appartement Cosy en Hypercentre - Quartier Jeanne d&#x27;Arc dispose d&#x2",
           "7;une terrasse, d&#x27;une connexion Wi-Fi gratuite et d&#x27;un lave-linge. Il est situé à 6,8 km d"
          ],
          [
           "Dans le centre-ville de Toulouse, à proximité de la gare de Toulouse-Matabiau, Le Toulousain 302 - A",
           "ppartement Cosy en L&#x27;Hypercentre - Quartier Jeanne-d&#x27;Arc dispose d&#x27;une connexion Wi-F",
           "i gratuite et d&#x27;un lave-linge. Vous séjournerez à 6,8 km du Zénith de Toulouse, à 7,3 km de l&#"
          ],
          [
           "Situé à Toulouse, à 4,2 km du Zénith et à 7,1 km de l&#x27;amphithéâtre Purpan-Ancely, l&#x27;établi",
           "ssement Le bijou des carmes - Haut de gamme climatisé dispose de la climatisation. Il se trouve à 11",
           " km du centre de conventions Diagora, à 1,1 km du Pont Neuf et à 1,2 km de la station de métro Capit"
          ],
          [
           "Doté d&#x27;un jardin, le Montempô + Apparthôtel Toulouse Cité Internationale est situé à Toulouse, ",
           "à 1,8 km du stade, à 4,4 km du Zénith et à 7,3 km de l&#x27;amphithéâtre Purpan-Ancely. Vous bénéfic",
           "ierez gratuitement d&#x27;une connexion Wi-Fi dans l&#x27;ensemble des locaux et d&#x27;un parking p"
          ],
          [
           "Le Plaza Hotel Capitole Toulouse - Anciennement-formerly CROWNE PLAZA) est idéalement situé au cœur ",
           "de la ville, à 200 mètres de la station de métro Capitole, à 10 km de l&#x27;aéroport de Blagnac ain",
           "si qu’à 15 km du parc des expositions et centre de conventions MEETT.\nL&#x27;Opéra National du Capit"
          ],
          [
           "Situé dans le centre-ville de Toulouse, à proximité de la station de métro Capitole, le Péri by Yumē",
           " dispose d&#x27;une connexion Wi-Fi gratuite et d&#x27;un lave-linge. Vous séjournerez à 5,4 km du Z",
           "énith de Toulouse, à 7,3 km de l&#x27;amphithéâtre Purpan-Ancely et à 11 km du centre de conventions"
          ],
          [
           "Doté d&#x27;un bar, le Sangha Toulouse est situé à Toulouse, en Midi-Pyrénées, à 500 mètres du Zénit",
           "h et à 2 km de l&#x27;amphithéâtre Purpan-Ancely. Doté d&#x27;une terrasse, cet hôtel 3 étoiles prop",
           "ose des chambres climatisées avec connexion Wi-Fi gratuite et salle de bains privative. Un parking p"
          ],
          [
           "Situé dans le centre de Toulouse, à proximité de la station de métro Jean-Jaures et de la station de",
           " métro Marengo-SNCF, le Studio chic et lumineux, garage, wifi, clim propose une connexion Wi-Fi grat",
           "uite, la climatisation et des équipements ménagers tels qu&#x27;un grille-pain et une machine à café"
          ],
          [
           "Situé dans le centre-ville de Toulouse, à proximité de la station de métro Jeanne d&#x27;Arc, le Sup",
           "erbe T2 - Centre-ville - Gare dispose d&#x27;une connexion Wi-Fi gratuite et d&#x27;un lave-linge. I",
           "l se trouve à environ 6,5 km du stade de Toulouse, à 6,8 km de l&#x27;amphithéâtre Purpan-Ancely et "
          ],
          [
           "Situé dans le quartier du Capitole de Toulouse, à proximité de la station de métro Jean-Jaures, le T",
           "oucan by Yumē dispose d&#x27;une connexion Wi-Fi gratuite et d&#x27;un lave-linge. Offrant une vue s",
           "ur la ville, il se trouve à 4,3 km du Zénith de Toulouse et à 7,6 km de l&#x27;amphithéâtre Purpan-A"
          ],
          [
           "Situé dans le centre-ville de Toulouse, à 8 km de l&#x27;aéroport de Toulouse Blagnac et à 6 km du s",
           "tade de Toulouse, l&#x27;ibis budget Toulouse Centre possède une réception ouverte 24h/24, une conne",
           "xion Wi-Fi et un parking gratuits ainsi que des chambres insonorisées. Cet hôtel est non-fumeurs.\n\nT"
          ],
          [
           "L&#x27;Ô Quai St Pierre est situé dans le centre de Toulouse, à proximité du Pont Neuf, de la statio",
           "n de métro Compans Caffarelli et du jardin japonais Pierre Baudis. Il se trouve à environ 3,6 km du ",
           "Zénith de Toulouse, à 4,3 km du stade de Toulouse et à 6 km de l&#x27;amphithéâtre Purpan-Ancely. Il"
          ]
         ],
         "hovertemplate": "<b>Description: </b><br> %{customdata[0]} <br> %{customdata[1]} <br> %{customdata[2]}",
         "lat": [
          43.6141935,
          43.5948756,
          43.60777225,
          43.6035543,
          43.60614096,
          43.61060878,
          43.6022763,
          43.60803842,
          43.6042552,
          43.6097799,
          43.6097799,
          43.6097885,
          43.5948314,
          43.5908572,
          43.60373649,
          43.6049199,
          43.60163542,
          43.6063976,
          43.6142037,
          43.601948,
          43.61560862,
          43.6042552
         ],
         "legendgroup": "",
         "lon": [
          1.438294,
          1.443554,
          1.4468136999999999,
          1.4499509,
          1.44747555,
          1.4470879700000001,
          1.4440129,
          1.45001083,
          1.4336726,
          1.4470133,
          1.4470133,
          1.4469992999999999,
          1.4463197,
          1.4468588,
          1.4427535200000001,
          1.4509075,
          1.40701316,
          1.4556855,
          1.4451265,
          1.4471503000000001,
          1.44477457,
          1.4336726
         ],
         "marker": {
          "color": [
           9.7,
           8.5,
           8.4,
           8.1,
           8.3,
           8.4,
           9.5,
           9.1,
           8.3,
           8.4,
           9.3,
           8.1,
           9.3,
           8.1,
           8.2,
           8.9,
           8.9,
           8.8,
           9.8,
           9.5,
           7.4,
           8.8
          ],
          "coloraxis": "coloraxis"
         },
         "mode": "markers",
         "name": "",
         "showlegend": false,
         "subplot": "mapbox",
         "type": "scattermapbox"
        }
       ],
       "layout": {
        "coloraxis": {
         "colorbar": {
          "title": {
           "text": "score"
          }
         },
         "colorscale": [
          [
           0,
           "#0d0887"
          ],
          [
           0.1111111111111111,
           "#46039f"
          ],
          [
           0.2222222222222222,
           "#7201a8"
          ],
          [
           0.3333333333333333,
           "#9c179e"
          ],
          [
           0.4444444444444444,
           "#bd3786"
          ],
          [
           0.5555555555555556,
           "#d8576b"
          ],
          [
           0.6666666666666666,
           "#ed7953"
          ],
          [
           0.7777777777777778,
           "#fb9f3a"
          ],
          [
           0.8888888888888888,
           "#fdca26"
          ],
          [
           1,
           "#f0f921"
          ]
         ]
        },
        "height": 600,
        "legend": {
         "tracegroupgap": 0
        },
        "mapbox": {
         "center": {
          "lat": 43.60542987,
          "lon": 1.4437345681818183
         },
         "domain": {
          "x": [
           0,
           1
          ],
          "y": [
           0,
           1
          ]
         },
         "style": "carto-positron",
         "zoom": 11
        },
        "margin": {
         "t": 60
        },
        "template": {
         "data": {
          "bar": [
           {
            "error_x": {
             "color": "#2a3f5f"
            },
            "error_y": {
             "color": "#2a3f5f"
            },
            "marker": {
             "line": {
              "color": "#E5ECF6",
              "width": 0.5
             },
             "pattern": {
              "fillmode": "overlay",
              "size": 10,
              "solidity": 0.2
             }
            },
            "type": "bar"
           }
          ],
          "barpolar": [
           {
            "marker": {
             "line": {
              "color": "#E5ECF6",
              "width": 0.5
             },
             "pattern": {
              "fillmode": "overlay",
              "size": 10,
              "solidity": 0.2
             }
            },
            "type": "barpolar"
           }
          ],
          "carpet": [
           {
            "aaxis": {
             "endlinecolor": "#2a3f5f",
             "gridcolor": "white",
             "linecolor": "white",
             "minorgridcolor": "white",
             "startlinecolor": "#2a3f5f"
            },
            "baxis": {
             "endlinecolor": "#2a3f5f",
             "gridcolor": "white",
             "linecolor": "white",
             "minorgridcolor": "white",
             "startlinecolor": "#2a3f5f"
            },
            "type": "carpet"
           }
          ],
          "choropleth": [
           {
            "colorbar": {
             "outlinewidth": 0,
             "ticks": ""
            },
            "type": "choropleth"
           }
          ],
          "contour": [
           {
            "colorbar": {
             "outlinewidth": 0,
             "ticks": ""
            },
            "colorscale": [
             [
              0,
              "#0d0887"
             ],
             [
              0.1111111111111111,
              "#46039f"
             ],
             [
              0.2222222222222222,
              "#7201a8"
             ],
             [
              0.3333333333333333,
              "#9c179e"
             ],
             [
              0.4444444444444444,
              "#bd3786"
             ],
             [
              0.5555555555555556,
              "#d8576b"
             ],
             [
              0.6666666666666666,
              "#ed7953"
             ],
             [
              0.7777777777777778,
              "#fb9f3a"
             ],
             [
              0.8888888888888888,
              "#fdca26"
             ],
             [
              1,
              "#f0f921"
             ]
            ],
            "type": "contour"
           }
          ],
          "contourcarpet": [
           {
            "colorbar": {
             "outlinewidth": 0,
             "ticks": ""
            },
            "type": "contourcarpet"
           }
          ],
          "heatmap": [
           {
            "colorbar": {
             "outlinewidth": 0,
             "ticks": ""
            },
            "colorscale": [
             [
              0,
              "#0d0887"
             ],
             [
              0.1111111111111111,
              "#46039f"
             ],
             [
              0.2222222222222222,
              "#7201a8"
             ],
             [
              0.3333333333333333,
              "#9c179e"
             ],
             [
              0.4444444444444444,
              "#bd3786"
             ],
             [
              0.5555555555555556,
              "#d8576b"
             ],
             [
              0.6666666666666666,
              "#ed7953"
             ],
             [
              0.7777777777777778,
              "#fb9f3a"
             ],
             [
              0.8888888888888888,
              "#fdca26"
             ],
             [
              1,
              "#f0f921"
             ]
            ],
            "type": "heatmap"
           }
          ],
          "heatmapgl": [
           {
            "colorbar": {
             "outlinewidth": 0,
             "ticks": ""
            },
            "colorscale": [
             [
              0,
              "#0d0887"
             ],
             [
              0.1111111111111111,
              "#46039f"
             ],
             [
              0.2222222222222222,
              "#7201a8"
             ],
             [
              0.3333333333333333,
              "#9c179e"
             ],
             [
              0.4444444444444444,
              "#bd3786"
             ],
             [
              0.5555555555555556,
              "#d8576b"
             ],
             [
              0.6666666666666666,
              "#ed7953"
             ],
             [
              0.7777777777777778,
              "#fb9f3a"
             ],
             [
              0.8888888888888888,
              "#fdca26"
             ],
             [
              1,
              "#f0f921"
             ]
            ],
            "type": "heatmapgl"
           }
          ],
          "histogram": [
           {
            "marker": {
             "pattern": {
              "fillmode": "overlay",
              "size": 10,
              "solidity": 0.2
             }
            },
            "type": "histogram"
           }
          ],
          "histogram2d": [
           {
            "colorbar": {
             "outlinewidth": 0,
             "ticks": ""
            },
            "colorscale": [
             [
              0,
              "#0d0887"
             ],
             [
              0.1111111111111111,
              "#46039f"
             ],
             [
              0.2222222222222222,
              "#7201a8"
             ],
             [
              0.3333333333333333,
              "#9c179e"
             ],
             [
              0.4444444444444444,
              "#bd3786"
             ],
             [
              0.5555555555555556,
              "#d8576b"
             ],
             [
              0.6666666666666666,
              "#ed7953"
             ],
             [
              0.7777777777777778,
              "#fb9f3a"
             ],
             [
              0.8888888888888888,
              "#fdca26"
             ],
             [
              1,
              "#f0f921"
             ]
            ],
            "type": "histogram2d"
           }
          ],
          "histogram2dcontour": [
           {
            "colorbar": {
             "outlinewidth": 0,
             "ticks": ""
            },
            "colorscale": [
             [
              0,
              "#0d0887"
             ],
             [
              0.1111111111111111,
              "#46039f"
             ],
             [
              0.2222222222222222,
              "#7201a8"
             ],
             [
              0.3333333333333333,
              "#9c179e"
             ],
             [
              0.4444444444444444,
              "#bd3786"
             ],
             [
              0.5555555555555556,
              "#d8576b"
             ],
             [
              0.6666666666666666,
              "#ed7953"
             ],
             [
              0.7777777777777778,
              "#fb9f3a"
             ],
             [
              0.8888888888888888,
              "#fdca26"
             ],
             [
              1,
              "#f0f921"
             ]
            ],
            "type": "histogram2dcontour"
           }
          ],
          "mesh3d": [
           {
            "colorbar": {
             "outlinewidth": 0,
             "ticks": ""
            },
            "type": "mesh3d"
           }
          ],
          "parcoords": [
           {
            "line": {
             "colorbar": {
              "outlinewidth": 0,
              "ticks": ""
             }
            },
            "type": "parcoords"
           }
          ],
          "pie": [
           {
            "automargin": true,
            "type": "pie"
           }
          ],
          "scatter": [
           {
            "fillpattern": {
             "fillmode": "overlay",
             "size": 10,
             "solidity": 0.2
            },
            "type": "scatter"
           }
          ],
          "scatter3d": [
           {
            "line": {
             "colorbar": {
              "outlinewidth": 0,
              "ticks": ""
             }
            },
            "marker": {
             "colorbar": {
              "outlinewidth": 0,
              "ticks": ""
             }
            },
            "type": "scatter3d"
           }
          ],
          "scattercarpet": [
           {
            "marker": {
             "colorbar": {
              "outlinewidth": 0,
              "ticks": ""
             }
            },
            "type": "scattercarpet"
           }
          ],
          "scattergeo": [
           {
            "marker": {
             "colorbar": {
              "outlinewidth": 0,
              "ticks": ""
             }
            },
            "type": "scattergeo"
           }
          ],
          "scattergl": [
           {
            "marker": {
             "colorbar": {
              "outlinewidth": 0,
              "ticks": ""
             }
            },
            "type": "scattergl"
           }
          ],
          "scattermapbox": [
           {
            "marker": {
             "colorbar": {
              "outlinewidth": 0,
              "ticks": ""
             }
            },
            "type": "scattermapbox"
           }
          ],
          "scatterpolar": [
           {
            "marker": {
             "colorbar": {
              "outlinewidth": 0,
              "ticks": ""
             }
            },
            "type": "scatterpolar"
           }
          ],
          "scatterpolargl": [
           {
            "marker": {
             "colorbar": {
              "outlinewidth": 0,
              "ticks": ""
             }
            },
            "type": "scatterpolargl"
           }
          ],
          "scatterternary": [
           {
            "marker": {
             "colorbar": {
              "outlinewidth": 0,
              "ticks": ""
             }
            },
            "type": "scatterternary"
           }
          ],
          "surface": [
           {
            "colorbar": {
             "outlinewidth": 0,
             "ticks": ""
            },
            "colorscale": [
             [
              0,
              "#0d0887"
             ],
             [
              0.1111111111111111,
              "#46039f"
             ],
             [
              0.2222222222222222,
              "#7201a8"
             ],
             [
              0.3333333333333333,
              "#9c179e"
             ],
             [
              0.4444444444444444,
              "#bd3786"
             ],
             [
              0.5555555555555556,
              "#d8576b"
             ],
             [
              0.6666666666666666,
              "#ed7953"
             ],
             [
              0.7777777777777778,
              "#fb9f3a"
             ],
             [
              0.8888888888888888,
              "#fdca26"
             ],
             [
              1,
              "#f0f921"
             ]
            ],
            "type": "surface"
           }
          ],
          "table": [
           {
            "cells": {
             "fill": {
              "color": "#EBF0F8"
             },
             "line": {
              "color": "white"
             }
            },
            "header": {
             "fill": {
              "color": "#C8D4E3"
             },
             "line": {
              "color": "white"
             }
            },
            "type": "table"
           }
          ]
         },
         "layout": {
          "annotationdefaults": {
           "arrowcolor": "#2a3f5f",
           "arrowhead": 0,
           "arrowwidth": 1
          },
          "autotypenumbers": "strict",
          "coloraxis": {
           "colorbar": {
            "outlinewidth": 0,
            "ticks": ""
           }
          },
          "colorscale": {
           "diverging": [
            [
             0,
             "#8e0152"
            ],
            [
             0.1,
             "#c51b7d"
            ],
            [
             0.2,
             "#de77ae"
            ],
            [
             0.3,
             "#f1b6da"
            ],
            [
             0.4,
             "#fde0ef"
            ],
            [
             0.5,
             "#f7f7f7"
            ],
            [
             0.6,
             "#e6f5d0"
            ],
            [
             0.7,
             "#b8e186"
            ],
            [
             0.8,
             "#7fbc41"
            ],
            [
             0.9,
             "#4d9221"
            ],
            [
             1,
             "#276419"
            ]
           ],
           "sequential": [
            [
             0,
             "#0d0887"
            ],
            [
             0.1111111111111111,
             "#46039f"
            ],
            [
             0.2222222222222222,
             "#7201a8"
            ],
            [
             0.3333333333333333,
             "#9c179e"
            ],
            [
             0.4444444444444444,
             "#bd3786"
            ],
            [
             0.5555555555555556,
             "#d8576b"
            ],
            [
             0.6666666666666666,
             "#ed7953"
            ],
            [
             0.7777777777777778,
             "#fb9f3a"
            ],
            [
             0.8888888888888888,
             "#fdca26"
            ],
            [
             1,
             "#f0f921"
            ]
           ],
           "sequentialminus": [
            [
             0,
             "#0d0887"
            ],
            [
             0.1111111111111111,
             "#46039f"
            ],
            [
             0.2222222222222222,
             "#7201a8"
            ],
            [
             0.3333333333333333,
             "#9c179e"
            ],
            [
             0.4444444444444444,
             "#bd3786"
            ],
            [
             0.5555555555555556,
             "#d8576b"
            ],
            [
             0.6666666666666666,
             "#ed7953"
            ],
            [
             0.7777777777777778,
             "#fb9f3a"
            ],
            [
             0.8888888888888888,
             "#fdca26"
            ],
            [
             1,
             "#f0f921"
            ]
           ]
          },
          "colorway": [
           "#636efa",
           "#EF553B",
           "#00cc96",
           "#ab63fa",
           "#FFA15A",
           "#19d3f3",
           "#FF6692",
           "#B6E880",
           "#FF97FF",
           "#FECB52"
          ],
          "font": {
           "color": "#2a3f5f"
          },
          "geo": {
           "bgcolor": "white",
           "lakecolor": "white",
           "landcolor": "#E5ECF6",
           "showlakes": true,
           "showland": true,
           "subunitcolor": "white"
          },
          "hoverlabel": {
           "align": "left"
          },
          "hovermode": "closest",
          "mapbox": {
           "style": "light"
          },
          "paper_bgcolor": "white",
          "plot_bgcolor": "#E5ECF6",
          "polar": {
           "angularaxis": {
            "gridcolor": "white",
            "linecolor": "white",
            "ticks": ""
           },
           "bgcolor": "#E5ECF6",
           "radialaxis": {
            "gridcolor": "white",
            "linecolor": "white",
            "ticks": ""
           }
          },
          "scene": {
           "xaxis": {
            "backgroundcolor": "#E5ECF6",
            "gridcolor": "white",
            "gridwidth": 2,
            "linecolor": "white",
            "showbackground": true,
            "ticks": "",
            "zerolinecolor": "white"
           },
           "yaxis": {
            "backgroundcolor": "#E5ECF6",
            "gridcolor": "white",
            "gridwidth": 2,
            "linecolor": "white",
            "showbackground": true,
            "ticks": "",
            "zerolinecolor": "white"
           },
           "zaxis": {
            "backgroundcolor": "#E5ECF6",
            "gridcolor": "white",
            "gridwidth": 2,
            "linecolor": "white",
            "showbackground": true,
            "ticks": "",
            "zerolinecolor": "white"
           }
          },
          "shapedefaults": {
           "line": {
            "color": "#2a3f5f"
           }
          },
          "ternary": {
           "aaxis": {
            "gridcolor": "white",
            "linecolor": "white",
            "ticks": ""
           },
           "baxis": {
            "gridcolor": "white",
            "linecolor": "white",
            "ticks": ""
           },
           "bgcolor": "#E5ECF6",
           "caxis": {
            "gridcolor": "white",
            "linecolor": "white",
            "ticks": ""
           }
          },
          "title": {
           "x": 0.05
          },
          "xaxis": {
           "automargin": true,
           "gridcolor": "white",
           "linecolor": "white",
           "ticks": "",
           "title": {
            "standoff": 15
           },
           "zerolinecolor": "white",
           "zerolinewidth": 2
          },
          "yaxis": {
           "automargin": true,
           "gridcolor": "white",
           "linecolor": "white",
           "ticks": "",
           "title": {
            "standoff": 15
           },
           "zerolinecolor": "white",
           "zerolinewidth": 2
          }
         }
        },
        "width": 600
       }
      }
     },
     "metadata": {},
     "output_type": "display_data"
    }
   ],
   "source": [
    "for ville in best5_cities:\n",
    "    fig = px.scatter_mapbox(df_hotels.loc[df_hotels['city_name']==ville], lat=\"latitude\", lon=\"longitude\", \n",
    "                color='score', width=600, height=600, zoom=11,  \n",
    "                mapbox_style='carto-positron', \n",
    "                custom_data=['short_description1', 'short_description2', 'short_description3'],\n",
    "                title='Scores and description of the hotels found in '+str(ville)\n",
    "                )\n",
    "    fig.update_traces(hovertemplate='<b>Description: </b><br> %{customdata[0]} <br>'+\n",
    "                  ' %{customdata[1]} <br> %{customdata[2]}') \n",
    "    fig.show()"
   ]
  },
  {
   "cell_type": "markdown",
   "metadata": {},
   "source": [
    "# ETL"
   ]
  },
  {
   "cell_type": "markdown",
   "metadata": {},
   "source": [
    "## Extract"
   ]
  },
  {
   "cell_type": "code",
   "execution_count": 2,
   "metadata": {},
   "outputs": [
    {
     "name": "stderr",
     "output_type": "stream",
     "text": [
      "/tmp/ipykernel_319806/829915135.py:9: MovedIn20Warning: The ``declarative_base()`` function is now available as sqlalchemy.orm.declarative_base(). (deprecated since: 2.0) (Background on SQLAlchemy 2.0 at: https://sqlalche.me/e/b8d9)\n",
      "  Base = declarative_base()\n"
     ]
    },
    {
     "name": "stdout",
     "output_type": "stream",
     "text": [
      "2025-04-05 00:25:10,346 INFO sqlalchemy.engine.Engine select pg_catalog.version()\n",
      "2025-04-05 00:25:10,348 INFO sqlalchemy.engine.Engine [raw sql] {}\n",
      "2025-04-05 00:25:10,533 INFO sqlalchemy.engine.Engine select current_schema()\n",
      "2025-04-05 00:25:10,534 INFO sqlalchemy.engine.Engine [raw sql] {}\n",
      "2025-04-05 00:25:10,720 INFO sqlalchemy.engine.Engine show standard_conforming_strings\n",
      "2025-04-05 00:25:10,720 INFO sqlalchemy.engine.Engine [raw sql] {}\n",
      "2025-04-05 00:25:10,906 INFO sqlalchemy.engine.Engine BEGIN (implicit)\n",
      "2025-04-05 00:25:10,907 INFO sqlalchemy.engine.Engine COMMIT\n"
     ]
    }
   ],
   "source": [
    "from keys import PWD_DB\n",
    "\n",
    "engine = create_engine(f\"postgresql+psycopg2://postgres:\"+PWD_DB+\n",
    "                       \"@database-kayak.cviskoi684b5.us-east-1.rds.amazonaws.com:5432/postgres\", \n",
    "                       echo=True)\n",
    "\n",
    "Base = declarative_base()\n",
    "Base.metadata.create_all(engine)"
   ]
  },
  {
   "cell_type": "markdown",
   "metadata": {},
   "source": [
    "## Transform"
   ]
  },
  {
   "cell_type": "code",
   "execution_count": 3,
   "metadata": {},
   "outputs": [
    {
     "data": {
      "text/html": [
       "<div>\n",
       "<style scoped>\n",
       "    .dataframe tbody tr th:only-of-type {\n",
       "        vertical-align: middle;\n",
       "    }\n",
       "\n",
       "    .dataframe tbody tr th {\n",
       "        vertical-align: top;\n",
       "    }\n",
       "\n",
       "    .dataframe thead th {\n",
       "        text-align: right;\n",
       "    }\n",
       "</style>\n",
       "<table border=\"1\" class=\"dataframe\">\n",
       "  <thead>\n",
       "    <tr style=\"text-align: right;\">\n",
       "      <th></th>\n",
       "      <th>city_id</th>\n",
       "      <th>city_name</th>\n",
       "      <th>date</th>\n",
       "      <th>temp</th>\n",
       "      <th>humidity</th>\n",
       "      <th>wind</th>\n",
       "      <th>type_weather</th>\n",
       "      <th>name</th>\n",
       "      <th>latitude</th>\n",
       "      <th>longitude</th>\n",
       "      <th>score</th>\n",
       "      <th>url</th>\n",
       "      <th>description</th>\n",
       "      <th>hotel_id</th>\n",
       "    </tr>\n",
       "  </thead>\n",
       "  <tbody>\n",
       "    <tr>\n",
       "      <th>0</th>\n",
       "      <td>1</td>\n",
       "      <td>Mont Saint Michel</td>\n",
       "      <td>2025-03-28</td>\n",
       "      <td>9.74</td>\n",
       "      <td>89</td>\n",
       "      <td>316</td>\n",
       "      <td>Rain</td>\n",
       "      <td>Apparthôtel Mont Saint Michel - Résidence Fleu...</td>\n",
       "      <td>48.596482</td>\n",
       "      <td>-1.503147</td>\n",
       "      <td>8.2</td>\n",
       "      <td>https://www.booking.com/hotel/fr/residence-fle...</td>\n",
       "      <td>L’Apparthôtel Mont Saint Michel - Résidence Fl...</td>\n",
       "      <td>4</td>\n",
       "    </tr>\n",
       "    <tr>\n",
       "      <th>1</th>\n",
       "      <td>1</td>\n",
       "      <td>Mont Saint Michel</td>\n",
       "      <td>2025-03-28</td>\n",
       "      <td>9.74</td>\n",
       "      <td>89</td>\n",
       "      <td>316</td>\n",
       "      <td>Rain</td>\n",
       "      <td>Auberge Saint Pierre</td>\n",
       "      <td>48.635688</td>\n",
       "      <td>-1.509883</td>\n",
       "      <td>8.1</td>\n",
       "      <td>https://www.booking.com/hotel/fr/auberge-saint...</td>\n",
       "      <td>The Auberge Saint Pierre is made up of small 1...</td>\n",
       "      <td>11</td>\n",
       "    </tr>\n",
       "    <tr>\n",
       "      <th>2</th>\n",
       "      <td>1</td>\n",
       "      <td>Mont Saint Michel</td>\n",
       "      <td>2025-03-28</td>\n",
       "      <td>9.74</td>\n",
       "      <td>89</td>\n",
       "      <td>316</td>\n",
       "      <td>Rain</td>\n",
       "      <td>Chez Adèle</td>\n",
       "      <td>48.636166</td>\n",
       "      <td>-1.510476</td>\n",
       "      <td>8.3</td>\n",
       "      <td>https://www.booking.com/hotel/fr/chez-adele-le...</td>\n",
       "      <td>Doté d&amp;#x27;installations de sports nautiques,...</td>\n",
       "      <td>12</td>\n",
       "    </tr>\n",
       "    <tr>\n",
       "      <th>3</th>\n",
       "      <td>1</td>\n",
       "      <td>Mont Saint Michel</td>\n",
       "      <td>2025-03-28</td>\n",
       "      <td>9.74</td>\n",
       "      <td>89</td>\n",
       "      <td>316</td>\n",
       "      <td>Rain</td>\n",
       "      <td>Gites Bellevue</td>\n",
       "      <td>48.607880</td>\n",
       "      <td>-1.517224</td>\n",
       "      <td>9.2</td>\n",
       "      <td>https://www.booking.com/hotel/fr/gites-bellevu...</td>\n",
       "      <td>Situé à seulement 2 km du célèbre Mont-Saint-M...</td>\n",
       "      <td>14</td>\n",
       "    </tr>\n",
       "    <tr>\n",
       "      <th>4</th>\n",
       "      <td>1</td>\n",
       "      <td>Mont Saint Michel</td>\n",
       "      <td>2025-03-28</td>\n",
       "      <td>9.74</td>\n",
       "      <td>89</td>\n",
       "      <td>316</td>\n",
       "      <td>Rain</td>\n",
       "      <td>Gites les 2 Clos au pied du Mont</td>\n",
       "      <td>48.613966</td>\n",
       "      <td>-1.485792</td>\n",
       "      <td>9.1</td>\n",
       "      <td>https://www.booking.com/hotel/fr/les-deux-clos...</td>\n",
       "      <td>L&amp;#x27;établissement Gites les 2 Clos au pied ...</td>\n",
       "      <td>6</td>\n",
       "    </tr>\n",
       "  </tbody>\n",
       "</table>\n",
       "</div>"
      ],
      "text/plain": [
       "   city_id          city_name       date  temp  humidity  wind type_weather  \\\n",
       "0        1  Mont Saint Michel 2025-03-28  9.74        89   316         Rain   \n",
       "1        1  Mont Saint Michel 2025-03-28  9.74        89   316         Rain   \n",
       "2        1  Mont Saint Michel 2025-03-28  9.74        89   316         Rain   \n",
       "3        1  Mont Saint Michel 2025-03-28  9.74        89   316         Rain   \n",
       "4        1  Mont Saint Michel 2025-03-28  9.74        89   316         Rain   \n",
       "\n",
       "                                                name   latitude  longitude  \\\n",
       "0  Apparthôtel Mont Saint Michel - Résidence Fleu...  48.596482  -1.503147   \n",
       "1                               Auberge Saint Pierre  48.635688  -1.509883   \n",
       "2                                         Chez Adèle  48.636166  -1.510476   \n",
       "3                                     Gites Bellevue  48.607880  -1.517224   \n",
       "4                   Gites les 2 Clos au pied du Mont  48.613966  -1.485792   \n",
       "\n",
       "   score                                                url  \\\n",
       "0    8.2  https://www.booking.com/hotel/fr/residence-fle...   \n",
       "1    8.1  https://www.booking.com/hotel/fr/auberge-saint...   \n",
       "2    8.3  https://www.booking.com/hotel/fr/chez-adele-le...   \n",
       "3    9.2  https://www.booking.com/hotel/fr/gites-bellevu...   \n",
       "4    9.1  https://www.booking.com/hotel/fr/les-deux-clos...   \n",
       "\n",
       "                                         description  hotel_id  \n",
       "0  L’Apparthôtel Mont Saint Michel - Résidence Fl...         4  \n",
       "1  The Auberge Saint Pierre is made up of small 1...        11  \n",
       "2  Doté d&#x27;installations de sports nautiques,...        12  \n",
       "3  Situé à seulement 2 km du célèbre Mont-Saint-M...        14  \n",
       "4  L&#x27;établissement Gites les 2 Clos au pied ...         6  "
      ]
     },
     "execution_count": 3,
     "metadata": {},
     "output_type": "execute_result"
    }
   ],
   "source": [
    "dataset = pd.read_json(\"https://eugenie-s3-jedha-project-kayak.s3.us-east-1.amazonaws.com/35Cities\")\n",
    "dataset.head()"
   ]
  },
  {
   "cell_type": "code",
   "execution_count": 4,
   "metadata": {},
   "outputs": [],
   "source": [
    "for colonne in ['name', 'description']:\n",
    "    dataset[colonne] = [x.replace(\"&#x27;\",\"'\") for x in dataset[colonne]]\n",
    "    dataset[colonne] = [x.replace(\"&amp;\",\"et\") for x in dataset[colonne]]\n",
    "    dataset[colonne] = [x.replace(\"\\u00e9;\",\"é\") for x in dataset[colonne]]\n",
    "    dataset[colonne] = [x.replace(\"\\u00e8;\",\"è\") for x in dataset[colonne]]\n",
    "    dataset[colonne] = [x.replace(\"\\u00e0;\",\"à\") for x in dataset[colonne]]\n",
    "    dataset[colonne] = [x.replace(\"\\u00e2;\",\"â\") for x in dataset[colonne]]\n",
    "    dataset[colonne] = [x.replace(\"\\u00f4;\",\"ô\") for x in dataset[colonne]]"
   ]
  },
  {
   "cell_type": "code",
   "execution_count": 5,
   "metadata": {},
   "outputs": [],
   "source": [
    "df_weather = dataset.loc[dataset['hotel_id']==1, :]\n",
    "df_hotels = dataset.loc[dataset['date'] == '2025-04-04', :]"
   ]
  },
  {
   "cell_type": "markdown",
   "metadata": {},
   "source": [
    "## Load"
   ]
  },
  {
   "cell_type": "code",
   "execution_count": 6,
   "metadata": {},
   "outputs": [
    {
     "name": "stdout",
     "output_type": "stream",
     "text": [
      "2025-04-05 00:25:24,724 INFO sqlalchemy.engine.Engine BEGIN (implicit)\n",
      "2025-04-05 00:25:24,750 INFO sqlalchemy.engine.Engine SELECT pg_catalog.pg_class.relname \n",
      "FROM pg_catalog.pg_class JOIN pg_catalog.pg_namespace ON pg_catalog.pg_namespace.oid = pg_catalog.pg_class.relnamespace \n",
      "WHERE pg_catalog.pg_class.relname = %(table_name)s AND pg_catalog.pg_class.relkind = ANY (ARRAY[%(param_1)s, %(param_2)s, %(param_3)s, %(param_4)s, %(param_5)s]) AND pg_catalog.pg_table_is_visible(pg_catalog.pg_class.oid) AND pg_catalog.pg_namespace.nspname != %(nspname_1)s\n",
      "2025-04-05 00:25:24,753 INFO sqlalchemy.engine.Engine [generated in 0.00312s] {'table_name': 'citiesweather', 'param_1': 'r', 'param_2': 'p', 'param_3': 'f', 'param_4': 'v', 'param_5': 'm', 'nspname_1': 'pg_catalog'}\n",
      "2025-04-05 00:25:24,941 INFO sqlalchemy.engine.Engine SELECT pg_catalog.pg_class.relname \n",
      "FROM pg_catalog.pg_class JOIN pg_catalog.pg_namespace ON pg_catalog.pg_namespace.oid = pg_catalog.pg_class.relnamespace \n",
      "WHERE pg_catalog.pg_class.relname = %(table_name)s AND pg_catalog.pg_class.relkind = ANY (ARRAY[%(param_1)s, %(param_2)s, %(param_3)s, %(param_4)s, %(param_5)s]) AND pg_catalog.pg_table_is_visible(pg_catalog.pg_class.oid) AND pg_catalog.pg_namespace.nspname != %(nspname_1)s\n",
      "2025-04-05 00:25:24,943 INFO sqlalchemy.engine.Engine [cached since 0.1927s ago] {'table_name': 'citiesweather', 'param_1': 'r', 'param_2': 'p', 'param_3': 'f', 'param_4': 'v', 'param_5': 'm', 'nspname_1': 'pg_catalog'}\n",
      "2025-04-05 00:25:25,042 INFO sqlalchemy.engine.Engine SELECT pg_catalog.pg_class.relname \n",
      "FROM pg_catalog.pg_class JOIN pg_catalog.pg_namespace ON pg_catalog.pg_namespace.oid = pg_catalog.pg_class.relnamespace \n",
      "WHERE pg_catalog.pg_class.relkind = ANY (ARRAY[%(param_1)s, %(param_2)s]) AND pg_catalog.pg_class.relpersistence != %(relpersistence_1)s AND pg_catalog.pg_table_is_visible(pg_catalog.pg_class.oid) AND pg_catalog.pg_namespace.nspname != %(nspname_1)s\n",
      "2025-04-05 00:25:25,044 INFO sqlalchemy.engine.Engine [generated in 0.00198s] {'param_1': 'r', 'param_2': 'p', 'relpersistence_1': 't', 'nspname_1': 'pg_catalog'}\n",
      "2025-04-05 00:25:25,143 INFO sqlalchemy.engine.Engine SELECT pg_catalog.pg_class.relname \n",
      "FROM pg_catalog.pg_class JOIN pg_catalog.pg_namespace ON pg_catalog.pg_namespace.oid = pg_catalog.pg_class.relnamespace \n",
      "WHERE pg_catalog.pg_class.relkind = ANY (ARRAY[%(param_1)s]) AND pg_catalog.pg_class.relpersistence != %(relpersistence_1)s AND pg_catalog.pg_table_is_visible(pg_catalog.pg_class.oid) AND pg_catalog.pg_namespace.nspname != %(nspname_1)s\n",
      "2025-04-05 00:25:25,145 INFO sqlalchemy.engine.Engine [generated in 0.00237s] {'param_1': 'v', 'relpersistence_1': 't', 'nspname_1': 'pg_catalog'}\n",
      "2025-04-05 00:25:25,242 INFO sqlalchemy.engine.Engine SELECT pg_catalog.pg_class.relname \n",
      "FROM pg_catalog.pg_class JOIN pg_catalog.pg_namespace ON pg_catalog.pg_namespace.oid = pg_catalog.pg_class.relnamespace \n",
      "WHERE pg_catalog.pg_class.relkind = ANY (ARRAY[%(param_1)s]) AND pg_catalog.pg_class.relpersistence != %(relpersistence_1)s AND pg_catalog.pg_table_is_visible(pg_catalog.pg_class.oid) AND pg_catalog.pg_namespace.nspname != %(nspname_1)s\n",
      "2025-04-05 00:25:25,243 INFO sqlalchemy.engine.Engine [cached since 0.1007s ago] {'param_1': 'm', 'relpersistence_1': 't', 'nspname_1': 'pg_catalog'}\n",
      "2025-04-05 00:25:25,351 INFO sqlalchemy.engine.Engine SELECT pg_catalog.pg_attribute.attname AS name, pg_catalog.format_type(pg_catalog.pg_attribute.atttypid, pg_catalog.pg_attribute.atttypmod) AS format_type, (SELECT pg_catalog.pg_get_expr(pg_catalog.pg_attrdef.adbin, pg_catalog.pg_attrdef.adrelid) AS pg_get_expr_1 \n",
      "FROM pg_catalog.pg_attrdef \n",
      "WHERE pg_catalog.pg_attrdef.adrelid = pg_catalog.pg_attribute.attrelid AND pg_catalog.pg_attrdef.adnum = pg_catalog.pg_attribute.attnum AND pg_catalog.pg_attribute.atthasdef) AS \"default\", pg_catalog.pg_attribute.attnotnull AS not_null, pg_catalog.pg_class.relname AS table_name, pg_catalog.pg_description.description AS comment, pg_catalog.pg_attribute.attgenerated AS generated, (SELECT json_build_object(%(json_build_object_2)s, pg_catalog.pg_attribute.attidentity = %(attidentity_1)s, %(json_build_object_3)s, pg_catalog.pg_sequence.seqstart, %(json_build_object_4)s, pg_catalog.pg_sequence.seqincrement, %(json_build_object_5)s, pg_catalog.pg_sequence.seqmin, %(json_build_object_6)s, pg_catalog.pg_sequence.seqmax, %(json_build_object_7)s, pg_catalog.pg_sequence.seqcache, %(json_build_object_8)s, pg_catalog.pg_sequence.seqcycle) AS json_build_object_1 \n",
      "FROM pg_catalog.pg_sequence \n",
      "WHERE pg_catalog.pg_attribute.attidentity != %(attidentity_2)s AND pg_catalog.pg_sequence.seqrelid = CAST(CAST(pg_catalog.pg_get_serial_sequence(CAST(CAST(pg_catalog.pg_attribute.attrelid AS REGCLASS) AS TEXT), pg_catalog.pg_attribute.attname) AS REGCLASS) AS OID)) AS identity_options \n",
      "FROM pg_catalog.pg_class LEFT OUTER JOIN pg_catalog.pg_attribute ON pg_catalog.pg_class.oid = pg_catalog.pg_attribute.attrelid AND pg_catalog.pg_attribute.attnum > %(attnum_1)s AND NOT pg_catalog.pg_attribute.attisdropped LEFT OUTER JOIN pg_catalog.pg_description ON pg_catalog.pg_description.objoid = pg_catalog.pg_attribute.attrelid AND pg_catalog.pg_description.objsubid = pg_catalog.pg_attribute.attnum JOIN pg_catalog.pg_namespace ON pg_catalog.pg_namespace.oid = pg_catalog.pg_class.relnamespace \n",
      "WHERE pg_catalog.pg_class.relkind = ANY (ARRAY[%(param_1)s, %(param_2)s, %(param_3)s, %(param_4)s, %(param_5)s]) AND pg_catalog.pg_table_is_visible(pg_catalog.pg_class.oid) AND pg_catalog.pg_namespace.nspname != %(nspname_1)s AND pg_catalog.pg_class.relname IN (%(filter_names_1)s) ORDER BY pg_catalog.pg_class.relname, pg_catalog.pg_attribute.attnum\n",
      "2025-04-05 00:25:25,352 INFO sqlalchemy.engine.Engine [generated in 0.00088s] {'json_build_object_2': 'always', 'attidentity_1': 'a', 'json_build_object_3': 'start', 'json_build_object_4': 'increment', 'json_build_object_5': 'minvalue', 'json_build_object_6': 'maxvalue', 'json_build_object_7': 'cache', 'json_build_object_8': 'cycle', 'attidentity_2': '', 'attnum_1': 0, 'param_1': 'r', 'param_2': 'p', 'param_3': 'f', 'param_4': 'v', 'param_5': 'm', 'nspname_1': 'pg_catalog', 'filter_names_1': 'citiesweather'}\n",
      "2025-04-05 00:25:25,453 INFO sqlalchemy.engine.Engine SELECT pg_catalog.pg_type.typname AS name, pg_catalog.format_type(pg_catalog.pg_type.typbasetype, pg_catalog.pg_type.typtypmod) AS attype, NOT pg_catalog.pg_type.typnotnull AS nullable, pg_catalog.pg_type.typdefault AS \"default\", pg_catalog.pg_type_is_visible(pg_catalog.pg_type.oid) AS visible, pg_catalog.pg_namespace.nspname AS schema, domain_constraints.condefs, domain_constraints.connames, pg_catalog.pg_collation.collname \n",
      "FROM pg_catalog.pg_type JOIN pg_catalog.pg_namespace ON pg_catalog.pg_namespace.oid = pg_catalog.pg_type.typnamespace LEFT OUTER JOIN pg_catalog.pg_collation ON pg_catalog.pg_type.typcollation = pg_catalog.pg_collation.oid LEFT OUTER JOIN (SELECT pg_catalog.pg_constraint.contypid AS contypid, array_agg(pg_catalog.pg_get_constraintdef(pg_catalog.pg_constraint.oid, %(pg_get_constraintdef_1)s)) AS condefs, array_agg(CAST(pg_catalog.pg_constraint.conname AS TEXT)) AS connames \n",
      "FROM pg_catalog.pg_constraint \n",
      "WHERE pg_catalog.pg_constraint.contypid != %(contypid_1)s GROUP BY pg_catalog.pg_constraint.contypid) AS domain_constraints ON pg_catalog.pg_type.oid = domain_constraints.contypid \n",
      "WHERE pg_catalog.pg_type.typtype = %(typtype_1)s ORDER BY pg_catalog.pg_namespace.nspname, pg_catalog.pg_type.typname\n",
      "2025-04-05 00:25:25,454 INFO sqlalchemy.engine.Engine [generated in 0.00091s] {'pg_get_constraintdef_1': True, 'contypid_1': 0, 'typtype_1': 'd'}\n",
      "2025-04-05 00:25:25,551 INFO sqlalchemy.engine.Engine SELECT pg_catalog.pg_type.typname AS name, pg_catalog.pg_type_is_visible(pg_catalog.pg_type.oid) AS visible, pg_catalog.pg_namespace.nspname AS schema, lbl_agg.labels AS labels \n",
      "FROM pg_catalog.pg_type JOIN pg_catalog.pg_namespace ON pg_catalog.pg_namespace.oid = pg_catalog.pg_type.typnamespace LEFT OUTER JOIN (SELECT pg_catalog.pg_enum.enumtypid AS enumtypid, array_agg(CAST(pg_catalog.pg_enum.enumlabel AS TEXT) ORDER BY pg_catalog.pg_enum.enumsortorder) AS labels \n",
      "FROM pg_catalog.pg_enum GROUP BY pg_catalog.pg_enum.enumtypid) AS lbl_agg ON pg_catalog.pg_type.oid = lbl_agg.enumtypid \n",
      "WHERE pg_catalog.pg_type.typtype = %(typtype_1)s ORDER BY pg_catalog.pg_namespace.nspname, pg_catalog.pg_type.typname\n",
      "2025-04-05 00:25:25,552 INFO sqlalchemy.engine.Engine [generated in 0.00089s] {'typtype_1': 'e'}\n",
      "2025-04-05 00:25:25,655 INFO sqlalchemy.engine.Engine SELECT pg_catalog.pg_class.oid, pg_catalog.pg_class.relname \n",
      "FROM pg_catalog.pg_class JOIN pg_catalog.pg_namespace ON pg_catalog.pg_namespace.oid = pg_catalog.pg_class.relnamespace \n",
      "WHERE pg_catalog.pg_class.relkind = ANY (ARRAY[%(param_1)s, %(param_2)s, %(param_3)s, %(param_4)s, %(param_5)s]) AND pg_catalog.pg_table_is_visible(pg_catalog.pg_class.oid) AND pg_catalog.pg_namespace.nspname != %(nspname_1)s AND pg_catalog.pg_class.relname IN (%(filter_names_1)s)\n",
      "2025-04-05 00:25:25,657 INFO sqlalchemy.engine.Engine [generated in 0.00273s] {'param_1': 'r', 'param_2': 'p', 'param_3': 'f', 'param_4': 'v', 'param_5': 'm', 'nspname_1': 'pg_catalog', 'filter_names_1': 'citiesweather'}\n",
      "2025-04-05 00:25:25,767 INFO sqlalchemy.engine.Engine SELECT attr.conrelid, array_agg(CAST(attr.attname AS TEXT) ORDER BY attr.ord) AS cols, attr.conname, min(attr.description) AS description, NULL AS extra \n",
      "FROM (SELECT con.conrelid AS conrelid, con.conname AS conname, con.conindid AS conindid, con.description AS description, con.ord AS ord, pg_catalog.pg_attribute.attname AS attname \n",
      "FROM pg_catalog.pg_attribute JOIN (SELECT pg_catalog.pg_constraint.conrelid AS conrelid, pg_catalog.pg_constraint.conname AS conname, pg_catalog.pg_constraint.conindid AS conindid, unnest(pg_catalog.pg_constraint.conkey) AS attnum, generate_subscripts(pg_catalog.pg_constraint.conkey, %(generate_subscripts_1)s) AS ord, pg_catalog.pg_description.description AS description \n",
      "FROM pg_catalog.pg_constraint LEFT OUTER JOIN pg_catalog.pg_description ON pg_catalog.pg_description.objoid = pg_catalog.pg_constraint.oid \n",
      "WHERE pg_catalog.pg_constraint.contype = %(contype)s AND pg_catalog.pg_constraint.conrelid IN (%(oids_1)s)) AS con ON pg_catalog.pg_attribute.attnum = con.attnum AND pg_catalog.pg_attribute.attrelid = con.conrelid \n",
      "WHERE con.conrelid IN (%(oids_1)s)) AS attr GROUP BY attr.conrelid, attr.conname ORDER BY attr.conrelid, attr.conname\n",
      "2025-04-05 00:25:25,769 INFO sqlalchemy.engine.Engine [generated in 0.00210s] {'generate_subscripts_1': 1, 'contype': 'p', 'oids_1': 17193}\n",
      "2025-04-05 00:25:25,875 INFO sqlalchemy.engine.Engine SELECT pg_catalog.pg_class.relname, pg_catalog.pg_constraint.conname, CASE WHEN (pg_catalog.pg_constraint.oid IS NOT NULL) THEN pg_catalog.pg_get_constraintdef(pg_catalog.pg_constraint.oid, %(pg_get_constraintdef_1)s) END AS anon_1, nsp_ref.nspname, pg_catalog.pg_description.description \n",
      "FROM pg_catalog.pg_class LEFT OUTER JOIN pg_catalog.pg_constraint ON pg_catalog.pg_class.oid = pg_catalog.pg_constraint.conrelid AND pg_catalog.pg_constraint.contype = %(contype_1)s LEFT OUTER JOIN pg_catalog.pg_class AS cls_ref ON cls_ref.oid = pg_catalog.pg_constraint.confrelid LEFT OUTER JOIN pg_catalog.pg_namespace AS nsp_ref ON cls_ref.relnamespace = nsp_ref.oid LEFT OUTER JOIN pg_catalog.pg_description ON pg_catalog.pg_description.objoid = pg_catalog.pg_constraint.oid JOIN pg_catalog.pg_namespace ON pg_catalog.pg_namespace.oid = pg_catalog.pg_class.relnamespace \n",
      "WHERE pg_catalog.pg_class.relkind = ANY (ARRAY[%(param_1)s, %(param_2)s, %(param_3)s, %(param_4)s, %(param_5)s]) AND pg_catalog.pg_table_is_visible(pg_catalog.pg_class.oid) AND pg_catalog.pg_namespace.nspname != %(nspname_1)s AND pg_catalog.pg_class.relname IN (%(filter_names_1)s) ORDER BY pg_catalog.pg_class.relname, pg_catalog.pg_constraint.conname\n",
      "2025-04-05 00:25:25,877 INFO sqlalchemy.engine.Engine [generated in 0.00214s] {'pg_get_constraintdef_1': True, 'contype_1': 'f', 'param_1': 'r', 'param_2': 'p', 'param_3': 'f', 'param_4': 'v', 'param_5': 'm', 'nspname_1': 'pg_catalog', 'filter_names_1': 'citiesweather'}\n",
      "2025-04-05 00:25:25,994 INFO sqlalchemy.engine.Engine SELECT pg_catalog.pg_index.indrelid, cls_idx.relname AS relname_index, pg_catalog.pg_index.indisunique, pg_catalog.pg_constraint.conrelid IS NOT NULL AS has_constraint, pg_catalog.pg_index.indoption, cls_idx.reloptions, pg_catalog.pg_am.amname, CASE WHEN (pg_catalog.pg_index.indpred IS NOT NULL) THEN pg_catalog.pg_get_expr(pg_catalog.pg_index.indpred, pg_catalog.pg_index.indrelid) END AS filter_definition, pg_catalog.pg_index.indnkeyatts, pg_catalog.pg_index.indnullsnotdistinct, idx_cols.elements, idx_cols.elements_is_expr \n",
      "FROM pg_catalog.pg_index JOIN pg_catalog.pg_class AS cls_idx ON pg_catalog.pg_index.indexrelid = cls_idx.oid JOIN pg_catalog.pg_am ON cls_idx.relam = pg_catalog.pg_am.oid LEFT OUTER JOIN (SELECT idx_attr.indexrelid AS indexrelid, min(idx_attr.indrelid) AS min_1, array_agg(idx_attr.element ORDER BY idx_attr.ord) AS elements, array_agg(idx_attr.is_expr ORDER BY idx_attr.ord) AS elements_is_expr \n",
      "FROM (SELECT idx.indexrelid AS indexrelid, idx.indrelid AS indrelid, idx.ord AS ord, CASE WHEN (idx.attnum = %(attnum_1)s) THEN pg_catalog.pg_get_indexdef(idx.indexrelid, idx.ord + %(ord_1)s, %(pg_get_indexdef_1)s) ELSE CAST(pg_catalog.pg_attribute.attname AS TEXT) END AS element, idx.attnum = %(attnum_2)s AS is_expr \n",
      "FROM (SELECT pg_catalog.pg_index.indexrelid AS indexrelid, pg_catalog.pg_index.indrelid AS indrelid, unnest(pg_catalog.pg_index.indkey) AS attnum, generate_subscripts(pg_catalog.pg_index.indkey, %(generate_subscripts_1)s) AS ord \n",
      "FROM pg_catalog.pg_index \n",
      "WHERE NOT pg_catalog.pg_index.indisprimary AND pg_catalog.pg_index.indrelid IN (%(oids_1)s)) AS idx LEFT OUTER JOIN pg_catalog.pg_attribute ON pg_catalog.pg_attribute.attnum = idx.attnum AND pg_catalog.pg_attribute.attrelid = idx.indrelid \n",
      "WHERE idx.indrelid IN (%(oids_1)s)) AS idx_attr GROUP BY idx_attr.indexrelid) AS idx_cols ON pg_catalog.pg_index.indexrelid = idx_cols.indexrelid LEFT OUTER JOIN pg_catalog.pg_constraint ON pg_catalog.pg_index.indrelid = pg_catalog.pg_constraint.conrelid AND pg_catalog.pg_index.indexrelid = pg_catalog.pg_constraint.conindid AND pg_catalog.pg_constraint.contype = ANY (ARRAY[%(param_1)s, %(param_2)s, %(param_3)s]) \n",
      "WHERE pg_catalog.pg_index.indrelid IN (%(oids_1)s) AND NOT pg_catalog.pg_index.indisprimary ORDER BY pg_catalog.pg_index.indrelid, cls_idx.relname\n",
      "2025-04-05 00:25:25,995 INFO sqlalchemy.engine.Engine [generated in 0.00119s] {'attnum_1': 0, 'ord_1': 1, 'pg_get_indexdef_1': True, 'attnum_2': 0, 'generate_subscripts_1': 1, 'param_1': 'p', 'param_2': 'u', 'param_3': 'x', 'oids_1': 17193}\n",
      "2025-04-05 00:25:26,095 INFO sqlalchemy.engine.Engine SELECT attr.conrelid, array_agg(CAST(attr.attname AS TEXT) ORDER BY attr.ord) AS cols, attr.conname, min(attr.description) AS description, bool_and(pg_catalog.pg_index.indnullsnotdistinct) AS indnullsnotdistinct \n",
      "FROM (SELECT con.conrelid AS conrelid, con.conname AS conname, con.conindid AS conindid, con.description AS description, con.ord AS ord, pg_catalog.pg_attribute.attname AS attname \n",
      "FROM pg_catalog.pg_attribute JOIN (SELECT pg_catalog.pg_constraint.conrelid AS conrelid, pg_catalog.pg_constraint.conname AS conname, pg_catalog.pg_constraint.conindid AS conindid, unnest(pg_catalog.pg_constraint.conkey) AS attnum, generate_subscripts(pg_catalog.pg_constraint.conkey, %(generate_subscripts_1)s) AS ord, pg_catalog.pg_description.description AS description \n",
      "FROM pg_catalog.pg_constraint LEFT OUTER JOIN pg_catalog.pg_description ON pg_catalog.pg_description.objoid = pg_catalog.pg_constraint.oid \n",
      "WHERE pg_catalog.pg_constraint.contype = %(contype)s AND pg_catalog.pg_constraint.conrelid IN (%(oids_1)s)) AS con ON pg_catalog.pg_attribute.attnum = con.attnum AND pg_catalog.pg_attribute.attrelid = con.conrelid \n",
      "WHERE con.conrelid IN (%(oids_1)s)) AS attr JOIN pg_catalog.pg_index ON attr.conindid = pg_catalog.pg_index.indexrelid GROUP BY attr.conrelid, attr.conname ORDER BY attr.conrelid, attr.conname\n",
      "2025-04-05 00:25:26,096 INFO sqlalchemy.engine.Engine [generated in 0.00186s] {'generate_subscripts_1': 1, 'contype': 'u', 'oids_1': 17193}\n",
      "2025-04-05 00:25:26,193 INFO sqlalchemy.engine.Engine SELECT pg_catalog.pg_class.relname, pg_catalog.pg_description.description \n",
      "FROM pg_catalog.pg_class LEFT OUTER JOIN pg_catalog.pg_description ON pg_catalog.pg_class.oid = pg_catalog.pg_description.objoid AND pg_catalog.pg_description.objsubid = %(objsubid_1)s JOIN pg_catalog.pg_namespace ON pg_catalog.pg_namespace.oid = pg_catalog.pg_class.relnamespace \n",
      "WHERE pg_catalog.pg_class.relkind = ANY (ARRAY[%(param_1)s, %(param_2)s, %(param_3)s, %(param_4)s, %(param_5)s]) AND pg_catalog.pg_table_is_visible(pg_catalog.pg_class.oid) AND pg_catalog.pg_namespace.nspname != %(nspname_1)s AND pg_catalog.pg_class.relname IN (%(filter_names_1)s)\n",
      "2025-04-05 00:25:26,194 INFO sqlalchemy.engine.Engine [generated in 0.00101s] {'objsubid_1': 0, 'param_1': 'r', 'param_2': 'p', 'param_3': 'f', 'param_4': 'v', 'param_5': 'm', 'nspname_1': 'pg_catalog', 'filter_names_1': 'citiesweather'}\n",
      "2025-04-05 00:25:26,290 INFO sqlalchemy.engine.Engine SELECT pg_catalog.pg_class.relname, pg_catalog.pg_constraint.conname, CASE WHEN (pg_catalog.pg_constraint.oid IS NOT NULL) THEN pg_catalog.pg_get_constraintdef(pg_catalog.pg_constraint.oid, %(pg_get_constraintdef_1)s) END AS anon_1, pg_catalog.pg_description.description \n",
      "FROM pg_catalog.pg_class LEFT OUTER JOIN pg_catalog.pg_constraint ON pg_catalog.pg_class.oid = pg_catalog.pg_constraint.conrelid AND pg_catalog.pg_constraint.contype = %(contype_1)s LEFT OUTER JOIN pg_catalog.pg_description ON pg_catalog.pg_description.objoid = pg_catalog.pg_constraint.oid JOIN pg_catalog.pg_namespace ON pg_catalog.pg_namespace.oid = pg_catalog.pg_class.relnamespace \n",
      "WHERE pg_catalog.pg_class.relkind = ANY (ARRAY[%(param_1)s, %(param_2)s, %(param_3)s, %(param_4)s, %(param_5)s]) AND pg_catalog.pg_table_is_visible(pg_catalog.pg_class.oid) AND pg_catalog.pg_namespace.nspname != %(nspname_1)s AND pg_catalog.pg_class.relname IN (%(filter_names_1)s) ORDER BY pg_catalog.pg_class.relname, pg_catalog.pg_constraint.conname\n",
      "2025-04-05 00:25:26,291 INFO sqlalchemy.engine.Engine [generated in 0.00102s] {'pg_get_constraintdef_1': True, 'contype_1': 'c', 'param_1': 'r', 'param_2': 'p', 'param_3': 'f', 'param_4': 'v', 'param_5': 'm', 'nspname_1': 'pg_catalog', 'filter_names_1': 'citiesweather'}\n",
      "2025-04-05 00:25:26,388 INFO sqlalchemy.engine.Engine \n",
      "DROP TABLE citiesweather\n",
      "2025-04-05 00:25:26,389 INFO sqlalchemy.engine.Engine [no key 0.00088s] {}\n",
      "2025-04-05 00:25:26,487 INFO sqlalchemy.engine.Engine \n",
      "CREATE TABLE citiesweather (\n",
      "\tindex BIGINT, \n",
      "\tcity_id BIGINT, \n",
      "\tcity_name TEXT, \n",
      "\tdate TIMESTAMP WITHOUT TIME ZONE, \n",
      "\ttemp FLOAT(53), \n",
      "\thumidity BIGINT, \n",
      "\twind BIGINT, \n",
      "\ttype_weather TEXT, \n",
      "\tname TEXT, \n",
      "\tlatitude FLOAT(53), \n",
      "\tlongitude FLOAT(53), \n",
      "\tscore FLOAT(53), \n",
      "\turl TEXT, \n",
      "\tdescription TEXT, \n",
      "\thotel_id BIGINT\n",
      ")\n",
      "\n",
      "\n",
      "2025-04-05 00:25:26,488 INFO sqlalchemy.engine.Engine [no key 0.00117s] {}\n",
      "2025-04-05 00:25:26,586 INFO sqlalchemy.engine.Engine CREATE INDEX ix_citiesweather_index ON citiesweather (index)\n",
      "2025-04-05 00:25:26,587 INFO sqlalchemy.engine.Engine [no key 0.00089s] {}\n",
      "2025-04-05 00:25:26,697 INFO sqlalchemy.engine.Engine INSERT INTO citiesweather (index, city_id, city_name, date, temp, humidity, wind, type_weather, name, latitude, longitude, score, url, description, hotel_id) VALUES (%(index__0)s, %(city_id__0)s, %(city_name__0)s, %(date__0)s, %(temp__0)s, %(humidity ... 73203 characters truncated ... e__279)s, %(longitude__279)s, %(score__279)s, %(url__279)s, %(description__279)s, %(hotel_id__279)s)\n",
      "2025-04-05 00:25:26,698 INFO sqlalchemy.engine.Engine [generated in 0.00356s (insertmanyvalues) 1/1 (unordered)] {'description__0': 'Occupant 2\\xa0bâtiments différents au cœur du Mont-Saint-Michel, l’établissement historique Les Terrasses Poulard propose des hébergements avec une v ... (1046 characters truncated) ... tionOsmDisclaimer\" class=\"abf093bdfe f45d8e4c32\">Les distances indiquées dans la description de l\\'établissement sont calculées avec © OpenStreetMap.', 'url__0': 'https://www.booking.com/hotel/fr/les-terrasses-poulard.fr.html?aid=304142&label=gen173bo-1DCAQoggJCGHNlYXJjaF9tb250IHNhaW50IG1pY2hlbEgNWANoTYgBAZgBDb ... (140 characters truncated) ... _adults=2&no_rooms=1&group_children=0&req_children=0&hpos=1&hapos=1&sr_order=popularity&srpvid=52a479ba1db20478&srepoch=1731518326&from=searchresults', 'temp__0': 9.74, 'city_id__0': 1, 'name__0': 'Les Terrasses Poulard', 'city_name__0': 'Mont Saint Michel', 'longitude__0': -1.5103787184000002, 'hotel_id__0': 1, 'index__0': 12, 'latitude__0': 48.6353494256, 'type_weather__0': 'Rain', 'date__0': datetime.datetime(2025, 3, 28, 0, 0), 'score__0': 7.4, 'wind__0': 316, 'humidity__0': 89, 'description__1': 'Occupant 2\\xa0bâtiments différents au cœur du Mont-Saint-Michel, l’établissement historique Les Terrasses Poulard propose des hébergements avec une v ... (1046 characters truncated) ... tionOsmDisclaimer\" class=\"abf093bdfe f45d8e4c32\">Les distances indiquées dans la description de l\\'établissement sont calculées avec © OpenStreetMap.', 'url__1': 'https://www.booking.com/hotel/fr/les-terrasses-poulard.fr.html?aid=304142&label=gen173bo-1DCAQoggJCGHNlYXJjaF9tb250IHNhaW50IG1pY2hlbEgNWANoTYgBAZgBDb ... (140 characters truncated) ... _adults=2&no_rooms=1&group_children=0&req_children=0&hpos=1&hapos=1&sr_order=popularity&srpvid=52a479ba1db20478&srepoch=1731518326&from=searchresults', 'temp__1': 10.61, 'city_id__1': 1, 'name__1': 'Les Terrasses Poulard', 'city_name__1': 'Mont Saint Michel', 'longitude__1': -1.5103787184000002, 'hotel_id__1': 1, 'index__1': 32, 'latitude__1': 48.6353494256, 'type_weather__1': 'Clouds', 'date__1': datetime.datetime(2025, 3, 29, 0, 0), 'score__1': 7.4, 'wind__1': 334, 'humidity__1': 66, 'description__2': 'Occupant 2\\xa0bâtiments différents au cœur du Mont-Saint-Michel, l’établissement historique Les Terrasses Poulard propose des hébergements avec une v ... (1046 characters truncated) ... tionOsmDisclaimer\" class=\"abf093bdfe f45d8e4c32\">Les distances indiquées dans la description de l\\'établissement sont calculées avec © OpenStreetMap.', 'url__2': 'https://www.booking.com/hotel/fr/les-terrasses-poulard.fr.html?aid=304142&label=gen173bo-1DCAQoggJCGHNlYXJjaF9tb250IHNhaW50IG1pY2hlbEgNWANoTYgBAZgBDb ... (140 characters truncated) ... _adults=2&no_rooms=1&group_children=0&req_children=0&hpos=1&hapos=1&sr_order=popularity&srpvid=52a479ba1db20478&srepoch=1731518326&from=searchresults', 'temp__2': 13.45, 'city_id__2': 1, 'name__2': 'Les Terrasses Poulard', 'city_name__2': 'Mont Saint Michel', 'longitude__2': -1.5103787184000002, 'hotel_id__2': 1, 'index__2': 52, 'latitude__2': 48.6353494256, 'type_weather__2': 'Rain', 'date__2': datetime.datetime(2025, 3, 30, 0, 0), 'score__2': 7.4, 'wind__2': 315, 'humidity__2': 78, 'description__3': 'Occupant 2\\xa0bâtiments différents au cœur du Mont-Saint-Michel, l’établissement historique Les Terrasses Poulard propose des hébergements avec une v ... (1046 characters truncated) ... tionOsmDisclaimer\" class=\"abf093bdfe f45d8e4c32\">Les distances indiquées dans la description de l\\'établissement sont calculées avec © OpenStreetMap.', 'url__3': 'https://www.booking.com/hotel/fr/les-terrasses-poulard.fr.html?aid=304142&label=gen173bo-1DCAQoggJCGHNlYXJjaF9tb250IHNhaW50IG1pY2hlbEgNWANoTYgBAZgBDb ... (140 characters truncated) ... _adults=2&no_rooms=1&group_children=0&req_children=0&hpos=1&hapos=1&sr_order=popularity&srpvid=52a479ba1db20478&srepoch=1731518326&from=searchresults', 'temp__3': 15.61, 'city_id__3': 1, 'name__3': 'Les Terrasses Poulard' ... 4100 parameters truncated ... 'type_weather__276': 'Clear', 'date__276': datetime.datetime(2025, 4, 1, 0, 0), 'score__276': 8.8, 'wind__276': 75, 'humidity__276': 58, 'description__277': 'Situé à La Rochelle, à 2,5 km du parc des expositions de la ville, l\\'établissement La Rochelle propose une connexion Wi-Fi gratuite.  Vous séjourner ... (1008 characters truncated) ... tionOsmDisclaimer\" class=\"abf093bdfe f45d8e4c32\">Les distances indiquées dans la description de l\\'établissement sont calculées avec © OpenStreetMap.', 'url__277': 'https://www.booking.com/hotel/fr/lycee-hotelier-la-rochelle.fr.html?aid=304142&label=gen173bo-1DCAQoggJCEnNlYXJjaF9sYSByb2NoZWxsZUgNWANoTYgBAZgBDbgBF ... (137 characters truncated) ... _adults=2&no_rooms=1&group_children=0&req_children=0&hpos=1&hapos=1&sr_order=popularity&srpvid=ce397b39a4980313&srepoch=1731519092&from=searchresults', 'temp__277': 14.37, 'city_id__277': 35, 'name__277': 'Hôtel Le Transatlantique - Lycée Hôtelier La Rochelle', 'city_name__277': 'La Rochelle', 'longitude__277': -1.160263, 'hotel_id__277': 1, 'index__277': 6068, 'latitude__277': 46.143734, 'type_weather__277': 'Rain', 'date__277': datetime.datetime(2025, 4, 2, 0, 0), 'score__277': 8.8, 'wind__277': 83, 'humidity__277': 55, 'description__278': 'Situé à La Rochelle, à 2,5 km du parc des expositions de la ville, l\\'établissement La Rochelle propose une connexion Wi-Fi gratuite.  Vous séjourner ... (1008 characters truncated) ... tionOsmDisclaimer\" class=\"abf093bdfe f45d8e4c32\">Les distances indiquées dans la description de l\\'établissement sont calculées avec © OpenStreetMap.', 'url__278': 'https://www.booking.com/hotel/fr/lycee-hotelier-la-rochelle.fr.html?aid=304142&label=gen173bo-1DCAQoggJCEnNlYXJjaF9sYSByb2NoZWxsZUgNWANoTYgBAZgBDbgBF ... (137 characters truncated) ... _adults=2&no_rooms=1&group_children=0&req_children=0&hpos=1&hapos=1&sr_order=popularity&srpvid=ce397b39a4980313&srepoch=1731519092&from=searchresults', 'temp__278': 15.73, 'city_id__278': 35, 'name__278': 'Hôtel Le Transatlantique - Lycée Hôtelier La Rochelle', 'city_name__278': 'La Rochelle', 'longitude__278': -1.160263, 'hotel_id__278': 1, 'index__278': 6090, 'latitude__278': 46.143734, 'type_weather__278': 'Rain', 'date__278': datetime.datetime(2025, 4, 3, 0, 0), 'score__278': 8.8, 'wind__278': 135, 'humidity__278': 70, 'description__279': 'Situé à La Rochelle, à 2,5 km du parc des expositions de la ville, l\\'établissement La Rochelle propose une connexion Wi-Fi gratuite.  Vous séjourner ... (1008 characters truncated) ... tionOsmDisclaimer\" class=\"abf093bdfe f45d8e4c32\">Les distances indiquées dans la description de l\\'établissement sont calculées avec © OpenStreetMap.', 'url__279': 'https://www.booking.com/hotel/fr/lycee-hotelier-la-rochelle.fr.html?aid=304142&label=gen173bo-1DCAQoggJCEnNlYXJjaF9sYSByb2NoZWxsZUgNWANoTYgBAZgBDbgBF ... (137 characters truncated) ... _adults=2&no_rooms=1&group_children=0&req_children=0&hpos=1&hapos=1&sr_order=popularity&srpvid=ce397b39a4980313&srepoch=1731519092&from=searchresults', 'temp__279': 15.73, 'city_id__279': 35, 'name__279': 'Hôtel Le Transatlantique - Lycée Hôtelier La Rochelle', 'city_name__279': 'La Rochelle', 'longitude__279': -1.160263, 'hotel_id__279': 1, 'index__279': 6112, 'latitude__279': 46.143734, 'type_weather__279': 'Clouds', 'date__279': datetime.datetime(2025, 4, 4, 0, 0), 'score__279': 8.8, 'wind__279': 126, 'humidity__279': 66}\n",
      "2025-04-05 00:25:27,323 INFO sqlalchemy.engine.Engine COMMIT\n"
     ]
    },
    {
     "data": {
      "text/plain": [
       "280"
      ]
     },
     "execution_count": 6,
     "metadata": {},
     "output_type": "execute_result"
    }
   ],
   "source": [
    "df_weather.to_sql(\n",
    "    \"citiesweather\",\n",
    "    engine,\n",
    "    if_exists=\"replace\"\n",
    ")"
   ]
  },
  {
   "cell_type": "code",
   "execution_count": 7,
   "metadata": {},
   "outputs": [
    {
     "name": "stdout",
     "output_type": "stream",
     "text": [
      "2025-04-05 00:25:30,893 INFO sqlalchemy.engine.Engine BEGIN (implicit)\n",
      "2025-04-05 00:25:30,904 INFO sqlalchemy.engine.Engine SELECT pg_catalog.pg_class.relname \n",
      "FROM pg_catalog.pg_class JOIN pg_catalog.pg_namespace ON pg_catalog.pg_namespace.oid = pg_catalog.pg_class.relnamespace \n",
      "WHERE pg_catalog.pg_class.relname = %(table_name)s AND pg_catalog.pg_class.relkind = ANY (ARRAY[%(param_1)s, %(param_2)s, %(param_3)s, %(param_4)s, %(param_5)s]) AND pg_catalog.pg_table_is_visible(pg_catalog.pg_class.oid) AND pg_catalog.pg_namespace.nspname != %(nspname_1)s\n",
      "2025-04-05 00:25:30,906 INFO sqlalchemy.engine.Engine [cached since 6.156s ago] {'table_name': 'citieshotels', 'param_1': 'r', 'param_2': 'p', 'param_3': 'f', 'param_4': 'v', 'param_5': 'm', 'nspname_1': 'pg_catalog'}\n",
      "2025-04-05 00:25:31,101 INFO sqlalchemy.engine.Engine \n",
      "CREATE TABLE citieshotels (\n",
      "\tindex BIGINT, \n",
      "\tcity_id BIGINT, \n",
      "\tcity_name TEXT, \n",
      "\tdate TIMESTAMP WITHOUT TIME ZONE, \n",
      "\ttemp FLOAT(53), \n",
      "\thumidity BIGINT, \n",
      "\twind BIGINT, \n",
      "\ttype_weather TEXT, \n",
      "\tname TEXT, \n",
      "\tlatitude FLOAT(53), \n",
      "\tlongitude FLOAT(53), \n",
      "\tscore FLOAT(53), \n",
      "\turl TEXT, \n",
      "\tdescription TEXT, \n",
      "\thotel_id BIGINT\n",
      ")\n",
      "\n",
      "\n",
      "2025-04-05 00:25:31,103 INFO sqlalchemy.engine.Engine [no key 0.00210s] {}\n",
      "2025-04-05 00:25:31,205 INFO sqlalchemy.engine.Engine CREATE INDEX ix_citieshotels_index ON citieshotels (index)\n",
      "2025-04-05 00:25:31,221 INFO sqlalchemy.engine.Engine [no key 0.01602s] {}\n",
      "2025-04-05 00:25:31,427 INFO sqlalchemy.engine.Engine INSERT INTO citieshotels (index, city_id, city_name, date, temp, humidity, wind, type_weather, name, latitude, longitude, score, url, description, hotel_id) VALUES (%(index__0)s, %(city_id__0)s, %(city_name__0)s, %(date__0)s, %(temp__0)s, %(humidity_ ... 203450 characters truncated ... e__765)s, %(longitude__765)s, %(score__765)s, %(url__765)s, %(description__765)s, %(hotel_id__765)s)\n",
      "2025-04-05 00:25:31,428 INFO sqlalchemy.engine.Engine [generated in 0.02180s (insertmanyvalues) 1/1 (unordered)] {'description__0': 'L’Apparthôtel Mont Saint Michel\\xa0-\\xa0Résidence Fleurdumont propose un hébergement acceptant les animaux domestiques à Beauvoir, à 4,4 km de l’abba ... (959 characters truncated) ... tionOsmDisclaimer\" class=\"abf093bdfe f45d8e4c32\">Les distances indiquées dans la description de l\\'établissement sont calculées avec © OpenStreetMap.', 'url__0': 'https://www.booking.com/hotel/fr/residence-fleurdumont.fr.html?aid=304142&label=gen173bo-1DCAQoggJCGHNlYXJjaF9tb250IHNhaW50IG1pY2hlbEgNWANoTYgBAZgBDb ... (142 characters truncated) ... dults=2&no_rooms=1&group_children=0&req_children=0&hpos=19&hapos=19&sr_order=popularity&srpvid=52a479ba1db20478&srepoch=1731518326&from=searchresults', 'temp__0': 17.87, 'city_id__0': 1, 'name__0': 'Apparthôtel Mont Saint Michel - Résidence Fleurdumont', 'city_name__0': 'Mont Saint Michel', 'longitude__0': -1.5031469166, 'hotel_id__0': 4, 'index__0': 140, 'latitude__0': 48.5964821698, 'type_weather__0': 'Clouds', 'date__0': datetime.datetime(2025, 4, 4, 0, 0), 'score__0': 8.2, 'wind__0': 144, 'humidity__0': 60, 'description__1': 'The Auberge Saint Pierre is made up of small 14th century half-timbered houses located on the island of Mont-Saint-Michel. It combines the period cha ... (844 characters truncated) ... tionOsmDisclaimer\" class=\"abf093bdfe f45d8e4c32\">Les distances indiquées dans la description de l\\'établissement sont calculées avec © OpenStreetMap.', 'url__1': 'https://www.booking.com/hotel/fr/auberge-saint-pierre.fr.html?aid=304142&label=gen173bo-1DCAQoggJCGHNlYXJjaF9tb250IHNhaW50IG1pY2hlbEgNWANoTYgBAZgBDbg ... (141 characters truncated) ... dults=2&no_rooms=1&group_children=0&req_children=0&hpos=11&hapos=11&sr_order=popularity&srpvid=52a479ba1db20478&srepoch=1731518326&from=searchresults', 'temp__1': 17.87, 'city_id__1': 1, 'name__1': 'Auberge Saint Pierre', 'city_name__1': 'Mont Saint Michel', 'longitude__1': -1.5098825097000002, 'hotel_id__1': 11, 'index__1': 141, 'latitude__1': 48.6356879787, 'type_weather__1': 'Clouds', 'date__1': datetime.datetime(2025, 4, 4, 0, 0), 'score__1': 8.1, 'wind__1': 144, 'humidity__1': 60, 'description__2': 'Doté d\\'installations de sports nautiques, l\\'établissement Chez Adèle est situé au Mont-Saint-Michel, à 200 mètres du Mont-Saint-Michel et à 29 km d ... (442 characters truncated) ... tionOsmDisclaimer\" class=\"abf093bdfe f45d8e4c32\">Les distances indiquées dans la description de l\\'établissement sont calculées avec © OpenStreetMap.', 'url__2': 'https://www.booking.com/hotel/fr/chez-adele-le-mont-saint-michel.fr.html?aid=304142&label=gen173bo-1DCAQoggJCGHNlYXJjaF9tb250IHNhaW50IG1pY2hlbEgNWANo ... (150 characters truncated) ... _adults=2&no_rooms=1&group_children=0&req_children=0&hpos=9&hapos=9&sr_order=popularity&srpvid=52a479ba1db20478&srepoch=1731518326&from=searchresults', 'temp__2': 17.87, 'city_id__2': 1, 'name__2': 'Chez Adèle', 'city_name__2': 'Mont Saint Michel', 'longitude__2': -1.5104757792, 'hotel_id__2': 12, 'index__2': 142, 'latitude__2': 48.636165894, 'type_weather__2': 'Clouds', 'date__2': datetime.datetime(2025, 4, 4, 0, 0), 'score__2': 8.3, 'wind__2': 144, 'humidity__2': 60, 'description__3': 'Situé à seulement 2 km du célèbre Mont-Saint-Michel, l\\'établissement Gites Bellevue vous propose des gîtes indépendants avec terrasse, jardin et bar ... (771 characters truncated) ... tionOsmDisclaimer\" class=\"abf093bdfe f45d8e4c32\">Les distances indiquées dans la description de l\\'établissement sont calculées avec © OpenStreetMap.', 'url__3': 'https://www.booking.com/hotel/fr/gites-bellevue.fr.html?aid=304142&label=gen173bo-1DCAQoggJCGHNlYXJjaF9tb250IHNhaW50IG1pY2hlbEgNWANoTYgBAZgBDbgBF8gBD ... (135 characters truncated) ... dults=2&no_rooms=1&group_children=0&req_children=0&hpos=24&hapos=24&sr_order=popularity&srpvid=52a479ba1db20478&srepoch=1731518326&from=searchresults', 'temp__3': 17.87, 'city_id__3': 1, 'name__3': 'Gites Bellevue' ... 11390 parameters truncated ... 'type_weather__762': 'Clouds', 'date__762': datetime.datetime(2025, 4, 4, 0, 0), 'score__762': 8.4, 'wind__762': 126, 'humidity__762': 66, 'description__763': 'La Résidence Pierre\\xa0et\\xa0Vacances Centre vous accueille à La Rochelle, à 5\\xa0minutes de marche du vieux port et à 300\\xa0mètres de la gare TGV.  ... (1090 characters truncated) ... tionOsmDisclaimer\" class=\"abf093bdfe f45d8e4c32\">Les distances indiquées dans la description de l\\'établissement sont calculées avec © OpenStreetMap.', 'url__763': 'https://www.booking.com/hotel/fr/pierre-vacances-centre.fr.html?aid=304142&label=gen173bo-1DCAQoggJCEnNlYXJjaF9sYSByb2NoZWxsZUgNWANoTYgBAZgBDbgBF8gBD ... (166 characters truncated) ... en=0&req_children=0&hpos=20&hapos=20&sr_order=popularity&srpvid=ce397b39a4980313&srepoch=1731519092&from_sustainable_property_sr=1&from=searchresults', 'temp__763': 15.73, 'city_id__763': 35, 'name__763': 'Résidence Pierre et Vacances Centre', 'city_name__763': 'La Rochelle', 'longitude__763': -1.1463922262, 'hotel_id__763': 4, 'index__763': 6125, 'latitude__763': 46.155769429, 'type_weather__763': 'Clouds', 'date__763': datetime.datetime(2025, 4, 4, 0, 0), 'score__763': 7.5, 'wind__763': 126, 'humidity__763': 66, 'description__764': 'Doté d\\'une connexion Wi-Fi gratuite et offrant une vue sur la mer, l\\'appartement Sur Le Vieux Port Appartement Vue Sur Mer est situé à La Rochelle, ... (711 characters truncated) ... tionOsmDisclaimer\" class=\"abf093bdfe f45d8e4c32\">Les distances indiquées dans la description de l\\'établissement sont calculées avec © OpenStreetMap.', 'url__764': 'https://www.booking.com/hotel/fr/16-cours-des-dames.fr.html?aid=304142&label=gen173bo-1DCAQoggJCEnNlYXJjaF9sYSByb2NoZWxsZUgNWANoTYgBAZgBDbgBF8gBD9gBA ... (131 characters truncated) ... dults=2&no_rooms=1&group_children=0&req_children=0&hpos=15&hapos=15&sr_order=popularity&srpvid=ce397b39a4980313&srepoch=1731519092&from=searchresults', 'temp__764': 15.73, 'city_id__764': 35, 'name__764': 'Sur Le Vieux Port Appartement Vue Sur Mer', 'city_name__764': 'La Rochelle', 'longitude__764': -1.1534216171, 'hotel_id__764': 9, 'index__764': 6126, 'latitude__764': 46.1574138729, 'type_weather__764': 'Clouds', 'date__764': datetime.datetime(2025, 4, 4, 0, 0), 'score__764': 9.2, 'wind__764': 126, 'humidity__764': 66, 'description__765': 'Situé dans le centre de La Rochelle, à seulement 200 mètres de la plage de la Concurrence et à 1,5 km de la gare, le Vue Superbe sur Tour de la Lante ... (986 characters truncated) ... tionOsmDisclaimer\" class=\"abf093bdfe f45d8e4c32\">Les distances indiquées dans la description de l\\'établissement sont calculées avec © OpenStreetMap.', 'url__765': 'https://www.booking.com/hotel/fr/vue-superbe-sur-tour-de-la-lanterne-t2-terrasse.fr.html?aid=304142&label=gen173bo-1DCAQoggJCEnNlYXJjaF9sYSByb2NoZWxs ... (191 characters truncated) ... en=0&req_children=0&hpos=16&hapos=16&sr_order=popularity&srpvid=ce397b39a4980313&srepoch=1731519092&from_sustainable_property_sr=1&from=searchresults', 'temp__765': 15.73, 'city_id__765': 35, 'name__765': 'Vue Superbe sur Tour de la Lanterne T2 avec Terrasse Remparts 2', 'city_name__765': 'La Rochelle', 'longitude__765': -1.1583862, 'hotel_id__765': 8, 'index__765': 6127, 'latitude__765': 46.1558467, 'type_weather__765': 'Clouds', 'date__765': datetime.datetime(2025, 4, 4, 0, 0), 'score__765': 9.4, 'wind__765': 126, 'humidity__765': 66}\n",
      "2025-04-05 00:25:32,247 INFO sqlalchemy.engine.Engine COMMIT\n"
     ]
    },
    {
     "data": {
      "text/plain": [
       "766"
      ]
     },
     "execution_count": 7,
     "metadata": {},
     "output_type": "execute_result"
    }
   ],
   "source": [
    "df_hotels.to_sql(\n",
    "    \"citieshotels\",\n",
    "    engine,\n",
    "    if_exists=\"replace\"\n",
    ")"
   ]
  },
  {
   "cell_type": "code",
   "execution_count": 8,
   "metadata": {},
   "outputs": [
    {
     "name": "stdout",
     "output_type": "stream",
     "text": [
      "2025-04-05 00:25:37,518 INFO sqlalchemy.engine.Engine BEGIN (implicit)\n",
      "2025-04-05 00:25:37,523 INFO sqlalchemy.engine.Engine SELECT DISTINCT date FROM citiesweather\n",
      "2025-04-05 00:25:37,527 INFO sqlalchemy.engine.Engine [generated in 0.00879s] {}\n"
     ]
    },
    {
     "data": {
      "text/plain": [
       "[(datetime.datetime(2025, 3, 31, 0, 0),),\n",
       " (datetime.datetime(2025, 4, 4, 0, 0),),\n",
       " (datetime.datetime(2025, 4, 3, 0, 0),),\n",
       " (datetime.datetime(2025, 4, 2, 0, 0),),\n",
       " (datetime.datetime(2025, 3, 28, 0, 0),),\n",
       " (datetime.datetime(2025, 4, 1, 0, 0),),\n",
       " (datetime.datetime(2025, 3, 29, 0, 0),),\n",
       " (datetime.datetime(2025, 3, 30, 0, 0),)]"
      ]
     },
     "execution_count": 8,
     "metadata": {},
     "output_type": "execute_result"
    }
   ],
   "source": [
    "# requête sur les bases de données créées, pour vérifier que tout est OK\n",
    "\n",
    "conn = engine.connect()\n",
    "statement = text(\"SELECT DISTINCT date FROM citiesweather\")\n",
    "result = conn.execute(statement)\n",
    "result.fetchall()"
   ]
  },
  {
   "cell_type": "code",
   "execution_count": 9,
   "metadata": {},
   "outputs": [
    {
     "name": "stdout",
     "output_type": "stream",
     "text": [
      "2025-04-05 00:25:40,366 INFO sqlalchemy.engine.Engine SELECT DISTINCT score FROM citieshotels\n",
      "2025-04-05 00:25:40,368 INFO sqlalchemy.engine.Engine [generated in 0.00170s] {}\n"
     ]
    },
    {
     "data": {
      "text/plain": [
       "[(7.7,),\n",
       " (8.7,),\n",
       " (9.5,),\n",
       " (7.8,),\n",
       " (8.9,),\n",
       " (9.8,),\n",
       " (8.3,),\n",
       " (8.2,),\n",
       " (9.6,),\n",
       " (8.6,),\n",
       " (9.9,),\n",
       " (9.3,),\n",
       " (7.2,),\n",
       " (6.9,),\n",
       " (6.6,),\n",
       " (9.2,),\n",
       " (7.9,),\n",
       " (9.7,),\n",
       " (7.6,),\n",
       " (7.1,),\n",
       " (9.1,),\n",
       " (4.5,),\n",
       " (8.1,),\n",
       " (8.8,),\n",
       " (7.4,),\n",
       " (7.3,),\n",
       " (7.5,),\n",
       " (9.4,),\n",
       " (8.5,),\n",
       " (8.4,)]"
      ]
     },
     "execution_count": 9,
     "metadata": {},
     "output_type": "execute_result"
    }
   ],
   "source": [
    "statement = text(\"SELECT DISTINCT score FROM citieshotels\")\n",
    "result = conn.execute(statement)\n",
    "result.fetchall()"
   ]
  }
 ],
 "metadata": {
  "kernelspec": {
   "display_name": "base",
   "language": "python",
   "name": "python3"
  },
  "language_info": {
   "codemirror_mode": {
    "name": "ipython",
    "version": 3
   },
   "file_extension": ".py",
   "mimetype": "text/x-python",
   "name": "python",
   "nbconvert_exporter": "python",
   "pygments_lexer": "ipython3",
   "version": "3.12.4"
  }
 },
 "nbformat": 4,
 "nbformat_minor": 2
}
